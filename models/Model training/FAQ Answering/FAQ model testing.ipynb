{
 "cells": [
  {
   "metadata": {
    "ExecuteTime": {
     "end_time": "2025-03-22T06:20:07.694160Z",
     "start_time": "2025-03-22T06:20:06.601663Z"
    }
   },
   "cell_type": "code",
   "source": "import pandas as pd",
   "id": "1477f00d87fd9139",
   "outputs": [],
   "execution_count": 1
  },
  {
   "metadata": {
    "ExecuteTime": {
     "end_time": "2025-03-22T06:20:43.038183Z",
     "start_time": "2025-03-22T06:20:26.886555Z"
    }
   },
   "cell_type": "code",
   "source": [
    "D2_emb = pd.read_csv('data/FAQ Answering/Preprocessed embedding/D2_emb.csv')\n",
    "D3_emb = pd.read_csv('data/FAQ Answering/Preprocessed embedding/D3_emb.csv')\n",
    "D5_emb = pd.read_csv('data/FAQ Answering/Preprocessed embedding/D5_emb.csv')"
   ],
   "id": "1ca6f9b6bc07b1c4",
   "outputs": [],
   "execution_count": 2
  },
  {
   "metadata": {
    "ExecuteTime": {
     "end_time": "2025-03-22T06:20:49.794464Z",
     "start_time": "2025-03-22T06:20:49.781970Z"
    }
   },
   "cell_type": "code",
   "source": "D2_emb.shape",
   "id": "db15f6baa9d77bd5",
   "outputs": [
    {
     "data": {
      "text/plain": [
       "(130560, 5)"
      ]
     },
     "execution_count": 3,
     "metadata": {},
     "output_type": "execute_result"
    }
   ],
   "execution_count": 3
  },
  {
   "metadata": {
    "ExecuteTime": {
     "end_time": "2025-03-22T06:20:51.514045Z",
     "start_time": "2025-03-22T06:20:51.504564Z"
    }
   },
   "cell_type": "code",
   "source": "D3_emb.shape",
   "id": "c83a1cb40ee5dce5",
   "outputs": [
    {
     "data": {
      "text/plain": [
       "(414, 5)"
      ]
     },
     "execution_count": 4,
     "metadata": {},
     "output_type": "execute_result"
    }
   ],
   "execution_count": 4
  },
  {
   "metadata": {
    "ExecuteTime": {
     "end_time": "2025-03-22T06:20:57.272433Z",
     "start_time": "2025-03-22T06:20:57.267462Z"
    }
   },
   "cell_type": "code",
   "source": "D5_emb.shape",
   "id": "cc85e121057fe089",
   "outputs": [
    {
     "data": {
      "text/plain": [
       "(200, 5)"
      ]
     },
     "execution_count": 5,
     "metadata": {},
     "output_type": "execute_result"
    }
   ],
   "execution_count": 5
  },
  {
   "metadata": {
    "ExecuteTime": {
     "end_time": "2025-03-22T06:21:16.017716Z",
     "start_time": "2025-03-22T06:21:15.980540Z"
    }
   },
   "cell_type": "code",
   "source": "D_emb = pd.concat([D2_emb, D3_emb, D5_emb], axis=0)",
   "id": "49500f8d30a8187b",
   "outputs": [],
   "execution_count": 8
  },
  {
   "metadata": {
    "ExecuteTime": {
     "end_time": "2025-03-22T06:21:16.273657Z",
     "start_time": "2025-03-22T06:21:16.254671Z"
    }
   },
   "cell_type": "code",
   "source": "D_emb.shape",
   "id": "cfede36e85d29dbd",
   "outputs": [
    {
     "data": {
      "text/plain": [
       "(131174, 5)"
      ]
     },
     "execution_count": 9,
     "metadata": {},
     "output_type": "execute_result"
    }
   ],
   "execution_count": 9
  },
  {
   "metadata": {
    "ExecuteTime": {
     "end_time": "2025-03-22T06:22:04.172814Z",
     "start_time": "2025-03-22T06:21:49.525212Z"
    }
   },
   "cell_type": "code",
   "source": "D_emb.to_csv('data/FAQ Answering/Preprocessed embedding/D_emb.csv', index=False)",
   "id": "db0fb9c2fb0d0922",
   "outputs": [],
   "execution_count": 10
  },
  {
   "metadata": {
    "ExecuteTime": {
     "end_time": "2025-03-22T06:23:03.621075Z",
     "start_time": "2025-03-22T06:22:34.030431Z"
    }
   },
   "cell_type": "code",
   "source": [
    "\n",
    "import numpy as np\n",
    "from sklearn.metrics.pairwise import cosine_similarity\n",
    "from sentence_transformers import SentenceTransformer  # For encoding the query\n",
    "import re\n",
    "from spellchecker import SpellChecker\n",
    "import spacy"
   ],
   "id": "557af2bb18771da1",
   "outputs": [
    {
     "name": "stdout",
     "output_type": "stream",
     "text": [
      "WARNING:tensorflow:From C:\\Users\\LENOVO\\miniconda3\\Lib\\site-packages\\tf_keras\\src\\losses.py:2976: The name tf.losses.sparse_softmax_cross_entropy is deprecated. Please use tf.compat.v1.losses.sparse_softmax_cross_entropy instead.\n",
      "\n"
     ]
    }
   ],
   "execution_count": 12
  },
  {
   "metadata": {
    "ExecuteTime": {
     "end_time": "2025-03-22T06:23:04.663270Z",
     "start_time": "2025-03-22T06:23:03.621075Z"
    }
   },
   "cell_type": "code",
   "source": [
    "\n",
    "# Load spaCy model\n",
    "nlp = spacy.load(\"en_core_web_sm\")\n",
    "spell = SpellChecker()"
   ],
   "id": "dd4b78c9786fa58",
   "outputs": [],
   "execution_count": 13
  },
  {
   "metadata": {
    "ExecuteTime": {
     "end_time": "2025-03-22T06:23:46.509497Z",
     "start_time": "2025-03-22T06:23:04.663270Z"
    }
   },
   "cell_type": "code",
   "source": [
    "\n",
    "# Load pre-trained model for encoding\n",
    "model = SentenceTransformer('sentence-transformers/all-MiniLM-L6-v2')\n",
    "\n",
    "# Clean question function\n",
    "def clean_question(text):\n",
    "    # Lowercase and remove punctuation\n",
    "    text = text.lower().strip()\n",
    "    text = re.sub(r'[^a-z0-9\\s]', '', text)\n",
    "\n",
    "    # Correct typos (optional)\n",
    "    words = text.split()\n",
    "    corrected_words = [spell.correction(word) if spell.correction(word) is not None else word for word in words]\n",
    "    text = ' '.join(corrected_words)\n",
    "\n",
    "    # Lemmatize and remove stopwords\n",
    "    doc = nlp(text)\n",
    "    tokens = [token.lemma_ for token in doc if not token.is_stop]\n",
    "\n",
    "    return ' '.join(tokens)\n",
    "\n",
    "# Load data\n",
    "D_emb = pd.read_csv('data/FAQ Answering/Preprocessed embedding/D_emb.csv')\n",
    "\n",
    "# Convert embeddings from strings to numpy arrays\n",
    "D_emb[\"embedding\"] = D_emb[\"embedding\"].apply(lambda x: np.fromstring(x.strip(\"[]\"), sep=\" \"))\n",
    "\n",
    "# Retrieve answer function\n",
    "def retrieve_answer(user_query, df, threshold=0.7):\n",
    "    # Clean the user query\n",
    "    cleaned_user_query = clean_question(user_query)\n",
    "    # Generate embedding for the query\n",
    "    query_embedding = model.encode([cleaned_user_query])\n",
    "    # Compute similarity with FAQ embeddings\n",
    "    similarities = cosine_similarity(query_embedding, np.stack(df[\"embedding\"]))\n",
    "    best_match_idx = np.argmax(similarities)\n",
    "    best_score = similarities[0][best_match_idx]\n",
    "\n",
    "    if best_score >= threshold:\n",
    "        return df.iloc[best_match_idx][\"cleaned_answer\"]\n",
    "    else:\n",
    "        return \"Sorry, I couldn't find a relevant answer.\""
   ],
   "id": "e8f6d3356f14ac89",
   "outputs": [],
   "execution_count": 14
  },
  {
   "metadata": {
    "ExecuteTime": {
     "end_time": "2025-03-22T06:31:18.002843Z",
     "start_time": "2025-03-22T06:31:16.621053Z"
    }
   },
   "cell_type": "code",
   "source": [
    "\n",
    "# Example\n",
    "user_query = \"How can I reset my password?\"\n",
    "response = retrieve_answer(user_query, D_emb)\n",
    "print(response)  # Output: \"At the same time...\""
   ],
   "id": "ff2858fd34d84eca",
   "outputs": [
    {
     "name": "stdout",
     "output_type": "stream",
     "text": [
      "To reset your password, click on the 'Forgot Password' link on the login page and follow the instructions to reset your password.\n"
     ]
    }
   ],
   "execution_count": 24
  },
  {
   "metadata": {},
   "cell_type": "code",
   "outputs": [],
   "execution_count": null,
   "source": "",
   "id": "e42ac769a7dda130"
  }
 ],
 "metadata": {
  "kernelspec": {
   "display_name": "Python 3",
   "language": "python",
   "name": "python3"
  },
  "language_info": {
   "codemirror_mode": {
    "name": "ipython",
    "version": 2
   },
   "file_extension": ".py",
   "mimetype": "text/x-python",
   "name": "python",
   "nbconvert_exporter": "python",
   "pygments_lexer": "ipython2",
   "version": "2.7.6"
  }
 },
 "nbformat": 4,
 "nbformat_minor": 5
}
