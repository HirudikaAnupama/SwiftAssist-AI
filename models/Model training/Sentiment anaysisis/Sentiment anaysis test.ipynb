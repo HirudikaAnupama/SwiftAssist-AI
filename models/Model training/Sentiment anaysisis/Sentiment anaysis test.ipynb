{
 "cells": [
  {
   "cell_type": "code",
   "id": "initial_id",
   "metadata": {
    "collapsed": true,
    "ExecuteTime": {
     "end_time": "2025-03-20T15:39:34.191227Z",
     "start_time": "2025-03-20T15:39:17.614015Z"
    }
   },
   "source": [
    "from transformers import AutoTokenizer, AutoModelForSequenceClassification\n",
    "import torch\n",
    "\n",
    "# Define device\n",
    "device = torch.device(\"cuda\" if torch.cuda.is_available() else \"cpu\")\n",
    "\n",
    "# Load the trained model and tokenizer from the specified path\n",
    "model_path = r\"C:\\Users\\LENOVO\\Desktop\\Projects\\SwiftAssist-AI\\SwiftAssist-AI\\contentsentiment_model\"\n",
    "\n",
    "model = AutoModelForSequenceClassification.from_pretrained(model_path).to(device)\n",
    "tokenizer = AutoTokenizer.from_pretrained(model_path)\n",
    "\n",
    "print(\"Model and tokenizer loaded successfully!\")\n"
   ],
   "outputs": [
    {
     "name": "stdout",
     "output_type": "stream",
     "text": [
      "Model and tokenizer loaded successfully!\n"
     ]
    }
   ],
   "execution_count": 2
  },
  {
   "metadata": {
    "ExecuteTime": {
     "end_time": "2025-03-20T15:41:58.809555Z",
     "start_time": "2025-03-20T15:41:58.756759Z"
    }
   },
   "cell_type": "code",
   "source": [
    "def predict_sentiment(text):\n",
    "    encoding = tokenizer(text, return_tensors=\"pt\", truncation=True, padding=True, max_length=96).to(device)\n",
    "    \n",
    "    with torch.no_grad():\n",
    "        output = model(**encoding)\n",
    "        probs = torch.softmax(output.logits, dim=1)\n",
    "        pred = torch.argmax(probs).item()\n",
    "    \n",
    "    return \"Positive\" if pred == 1 else \"Negative\"\n",
    "\n",
    "# Example usage\n",
    "text_input = \"I love this product!\"\n",
    "print(f\"Sentiment: {predict_sentiment(text_input)}\")"
   ],
   "id": "56a49c6972b2235c",
   "outputs": [
    {
     "name": "stdout",
     "output_type": "stream",
     "text": [
      "Sentiment: Positive\n"
     ]
    }
   ],
   "execution_count": 5
  },
  {
   "metadata": {
    "ExecuteTime": {
     "end_time": "2025-03-20T15:42:40.387380Z",
     "start_time": "2025-03-20T15:42:40.382958Z"
    }
   },
   "cell_type": "code",
   "source": [
    "positive_samples = [\n",
    "    \"This product is amazing! I absolutely love it.\",\n",
    "    \"I had a fantastic experience using this app.\",\n",
    "    \"The service was excellent, and the staff was very friendly.\",\n",
    "    \"I’m so happy with my purchase! Totally worth it.\",\n",
    "    \"Great job! This exceeded my expectations.\"\n",
    "]\n"
   ],
   "id": "b1d066da3d9c3901",
   "outputs": [],
   "execution_count": 6
  },
  {
   "metadata": {
    "ExecuteTime": {
     "end_time": "2025-03-20T15:42:46.192786Z",
     "start_time": "2025-03-20T15:42:46.183345Z"
    }
   },
   "cell_type": "code",
   "source": [
    "negative_samples = [\n",
    "    \"This was a terrible experience. I regret buying it.\",\n",
    "    \"I am very disappointed with the quality of this product.\",\n",
    "    \"Worst service ever! I won’t be coming back.\",\n",
    "    \"The app is buggy and crashes all the time. Frustrating!\",\n",
    "    \"Not worth the money at all. Completely dissatisfied.\"\n",
    "]\n"
   ],
   "id": "7418cf00b3549029",
   "outputs": [],
   "execution_count": 7
  },
  {
   "metadata": {
    "ExecuteTime": {
     "end_time": "2025-03-20T15:42:53.359414Z",
     "start_time": "2025-03-20T15:42:53.106705Z"
    }
   },
   "cell_type": "code",
   "source": [
    "def test_model():\n",
    "    print(\"Testing Positive Samples:\")\n",
    "    for text in positive_samples:\n",
    "        print(f\"Input: {text} -> Sentiment: {predict_sentiment(text)}\")\n",
    "    \n",
    "    print(\"\\nTesting Negative Samples:\")\n",
    "    for text in negative_samples:\n",
    "        print(f\"Input: {text} -> Sentiment: {predict_sentiment(text)}\")\n",
    "\n",
    "# Run the test\n",
    "test_model()\n"
   ],
   "id": "e8e4c5108734c64b",
   "outputs": [
    {
     "name": "stdout",
     "output_type": "stream",
     "text": [
      "Testing Positive Samples:\n",
      "Input: This product is amazing! I absolutely love it. -> Sentiment: Positive\n",
      "Input: I had a fantastic experience using this app. -> Sentiment: Positive\n",
      "Input: The service was excellent, and the staff was very friendly. -> Sentiment: Positive\n",
      "Input: I’m so happy with my purchase! Totally worth it. -> Sentiment: Positive\n",
      "Input: Great job! This exceeded my expectations. -> Sentiment: Positive\n",
      "\n",
      "Testing Negative Samples:\n",
      "Input: This was a terrible experience. I regret buying it. -> Sentiment: Negative\n",
      "Input: I am very disappointed with the quality of this product. -> Sentiment: Negative\n",
      "Input: Worst service ever! I won’t be coming back. -> Sentiment: Negative\n",
      "Input: The app is buggy and crashes all the time. Frustrating! -> Sentiment: Negative\n",
      "Input: Not worth the money at all. Completely dissatisfied. -> Sentiment: Negative\n"
     ]
    }
   ],
   "execution_count": 8
  },
  {
   "metadata": {},
   "cell_type": "code",
   "outputs": [],
   "execution_count": null,
   "source": "",
   "id": "fce6417b0e3799da"
  }
 ],
 "metadata": {
  "kernelspec": {
   "display_name": "Python 3",
   "language": "python",
   "name": "python3"
  },
  "language_info": {
   "codemirror_mode": {
    "name": "ipython",
    "version": 2
   },
   "file_extension": ".py",
   "mimetype": "text/x-python",
   "name": "python",
   "nbconvert_exporter": "python",
   "pygments_lexer": "ipython2",
   "version": "2.7.6"
  }
 },
 "nbformat": 4,
 "nbformat_minor": 5
}
