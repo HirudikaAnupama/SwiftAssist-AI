{
 "cells": [
  {
   "cell_type": "code",
   "id": "initial_id",
   "metadata": {
    "collapsed": true,
    "ExecuteTime": {
     "end_time": "2025-03-16T21:21:37.442962Z",
     "start_time": "2025-03-16T21:21:37.149357Z"
    }
   },
   "source": [
    "import torch\n",
    "from transformers import BertForSequenceClassification, BertTokenizer\n",
    "from sklearn.preprocessing import LabelEncoder\n",
    "import joblib\n",
    "\n",
    "# Load the LabelEncoder\n",
    "label_encoder = joblib.load('models/Model training/Intent recognition/label_encoder.pkl')  # Replace with the path to your saved LabelEncoder\n",
    "\n",
    "# Load the fine-tuned model and tokenizer\n",
    "model = BertForSequenceClassification.from_pretrained('intent_recognition_bert')\n",
    "tokenizer = BertTokenizer.from_pretrained('intent_recognition_bert')\n",
    "\n",
    "# Function to predict intent for a real-time query\n",
    "def predict_intent(text):\n",
    "    # Tokenize the input text\n",
    "    inputs = tokenizer(text, return_tensors='pt', padding=True, truncation=True, max_length=64)\n",
    "    \n",
    "    # Get model predictions\n",
    "    with torch.no_grad():\n",
    "        outputs = model(**inputs)\n",
    "    \n",
    "    # Get the predicted label\n",
    "    predicted_label = torch.argmax(outputs.logits, dim=1).item()\n",
    "    \n",
    "    # Map the predicted label back to the intent name\n",
    "    return label_encoder.inverse_transform([predicted_label])[0]\n",
    "\n",
    "# Test with a real-time query\n",
    "user_query = \"I need to change the shipping address for my order. Can you assist me?\"\n",
    "predicted_intent = predict_intent(user_query)\n",
    "print(f\"Predicted Intent: {predicted_intent}\")"
   ],
   "outputs": [
    {
     "name": "stdout",
     "output_type": "stream",
     "text": [
      "Predicted Intent: changeshippingaddress\n"
     ]
    }
   ],
   "execution_count": 13
  },
  {
   "metadata": {},
   "cell_type": "code",
   "outputs": [],
   "execution_count": null,
   "source": "",
   "id": "de20830af34b79ff"
  }
 ],
 "metadata": {
  "kernelspec": {
   "display_name": "Python 3",
   "language": "python",
   "name": "python3"
  },
  "language_info": {
   "codemirror_mode": {
    "name": "ipython",
    "version": 2
   },
   "file_extension": ".py",
   "mimetype": "text/x-python",
   "name": "python",
   "nbconvert_exporter": "python",
   "pygments_lexer": "ipython2",
   "version": "2.7.6"
  }
 },
 "nbformat": 4,
 "nbformat_minor": 5
}
