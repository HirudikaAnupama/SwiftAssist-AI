{
 "cells": [
  {
   "cell_type": "code",
   "id": "initial_id",
   "metadata": {
    "collapsed": true,
    "ExecuteTime": {
     "end_time": "2025-03-14T08:36:46.103709Z",
     "start_time": "2025-03-14T08:36:44.913329Z"
    }
   },
   "source": "import pandas as pd",
   "outputs": [],
   "execution_count": 1
  },
  {
   "metadata": {
    "ExecuteTime": {
     "end_time": "2025-03-14T08:38:21.339272Z",
     "start_time": "2025-03-14T08:38:21.303999Z"
    }
   },
   "cell_type": "code",
   "source": [
    "D1_1 = pd.read_csv(\"data/Intent recognition/Data 1/train.csv\")\n",
    "D1_2 = pd.read_csv(\"data/Intent recognition/Data 1/test.csv\")\n",
    "D1_3 = pd.read_csv(\"data/Intent recognition/Data 1/valid.csv\")"
   ],
   "id": "3206ee70bd331d08",
   "outputs": [],
   "execution_count": 6
  },
  {
   "metadata": {
    "ExecuteTime": {
     "end_time": "2025-03-14T08:38:34.337293Z",
     "start_time": "2025-03-14T08:38:34.328459Z"
    }
   },
   "cell_type": "code",
   "source": "D1_1",
   "id": "514ea67f869ff9d7",
   "outputs": [
    {
     "data": {
      "text/plain": [
       "                                                    text              intent\n",
       "0       listen to westbam alumb allergic on google music           PlayMusic\n",
       "1             add step to me to the 50 clásicos playlist       AddToPlaylist\n",
       "2      i give this current textbook a rating value of...            RateBook\n",
       "3                   play the song little robin redbreast           PlayMusic\n",
       "4      please add iris dement to my playlist this is ...       AddToPlaylist\n",
       "...                                                  ...                 ...\n",
       "13079      i want to eat choucroute at a brasserie for 8      BookRestaurant\n",
       "13080                            play funky heavy bluesy           PlayMusic\n",
       "13081           rate the current album 2 points out of 6            RateBook\n",
       "13082             go to the photograph the inflated tear  SearchCreativeWork\n",
       "13083                     rate richard carvel 4 out of 6            RateBook\n",
       "\n",
       "[13084 rows x 2 columns]"
      ],
      "text/html": [
       "<div>\n",
       "<style scoped>\n",
       "    .dataframe tbody tr th:only-of-type {\n",
       "        vertical-align: middle;\n",
       "    }\n",
       "\n",
       "    .dataframe tbody tr th {\n",
       "        vertical-align: top;\n",
       "    }\n",
       "\n",
       "    .dataframe thead th {\n",
       "        text-align: right;\n",
       "    }\n",
       "</style>\n",
       "<table border=\"1\" class=\"dataframe\">\n",
       "  <thead>\n",
       "    <tr style=\"text-align: right;\">\n",
       "      <th></th>\n",
       "      <th>text</th>\n",
       "      <th>intent</th>\n",
       "    </tr>\n",
       "  </thead>\n",
       "  <tbody>\n",
       "    <tr>\n",
       "      <th>0</th>\n",
       "      <td>listen to westbam alumb allergic on google music</td>\n",
       "      <td>PlayMusic</td>\n",
       "    </tr>\n",
       "    <tr>\n",
       "      <th>1</th>\n",
       "      <td>add step to me to the 50 clásicos playlist</td>\n",
       "      <td>AddToPlaylist</td>\n",
       "    </tr>\n",
       "    <tr>\n",
       "      <th>2</th>\n",
       "      <td>i give this current textbook a rating value of...</td>\n",
       "      <td>RateBook</td>\n",
       "    </tr>\n",
       "    <tr>\n",
       "      <th>3</th>\n",
       "      <td>play the song little robin redbreast</td>\n",
       "      <td>PlayMusic</td>\n",
       "    </tr>\n",
       "    <tr>\n",
       "      <th>4</th>\n",
       "      <td>please add iris dement to my playlist this is ...</td>\n",
       "      <td>AddToPlaylist</td>\n",
       "    </tr>\n",
       "    <tr>\n",
       "      <th>...</th>\n",
       "      <td>...</td>\n",
       "      <td>...</td>\n",
       "    </tr>\n",
       "    <tr>\n",
       "      <th>13079</th>\n",
       "      <td>i want to eat choucroute at a brasserie for 8</td>\n",
       "      <td>BookRestaurant</td>\n",
       "    </tr>\n",
       "    <tr>\n",
       "      <th>13080</th>\n",
       "      <td>play funky heavy bluesy</td>\n",
       "      <td>PlayMusic</td>\n",
       "    </tr>\n",
       "    <tr>\n",
       "      <th>13081</th>\n",
       "      <td>rate the current album 2 points out of 6</td>\n",
       "      <td>RateBook</td>\n",
       "    </tr>\n",
       "    <tr>\n",
       "      <th>13082</th>\n",
       "      <td>go to the photograph the inflated tear</td>\n",
       "      <td>SearchCreativeWork</td>\n",
       "    </tr>\n",
       "    <tr>\n",
       "      <th>13083</th>\n",
       "      <td>rate richard carvel 4 out of 6</td>\n",
       "      <td>RateBook</td>\n",
       "    </tr>\n",
       "  </tbody>\n",
       "</table>\n",
       "<p>13084 rows × 2 columns</p>\n",
       "</div>"
      ]
     },
     "execution_count": 9,
     "metadata": {},
     "output_type": "execute_result"
    }
   ],
   "execution_count": 9
  },
  {
   "metadata": {
    "ExecuteTime": {
     "end_time": "2025-03-14T08:38:53.568724Z",
     "start_time": "2025-03-14T08:38:53.558536Z"
    }
   },
   "cell_type": "code",
   "source": [
    "print(D1_1.shape)\n",
    "print(D1_2.shape)\n",
    "print(D1_3.shape)"
   ],
   "id": "5e276ee7b98ea933",
   "outputs": [
    {
     "name": "stdout",
     "output_type": "stream",
     "text": [
      "(13084, 2)\n",
      "(700, 2)\n",
      "(700, 2)\n"
     ]
    }
   ],
   "execution_count": 11
  },
  {
   "metadata": {
    "ExecuteTime": {
     "end_time": "2025-03-14T15:00:30.274447Z",
     "start_time": "2025-03-14T15:00:30.267557Z"
    }
   },
   "cell_type": "code",
   "source": "D1 = pd.concat([D1_1, D1_2, D1_3])",
   "id": "72afe94c8f0ebdbe",
   "outputs": [],
   "execution_count": 22
  },
  {
   "metadata": {
    "ExecuteTime": {
     "end_time": "2025-03-14T15:00:30.603307Z",
     "start_time": "2025-03-14T15:00:30.596622Z"
    }
   },
   "cell_type": "code",
   "source": "D1.shape",
   "id": "2689b67d6cec9f12",
   "outputs": [
    {
     "data": {
      "text/plain": [
       "(14484, 2)"
      ]
     },
     "execution_count": 23,
     "metadata": {},
     "output_type": "execute_result"
    }
   ],
   "execution_count": 23
  },
  {
   "metadata": {
    "ExecuteTime": {
     "end_time": "2025-03-14T15:00:32.728661Z",
     "start_time": "2025-03-14T15:00:32.714923Z"
    }
   },
   "cell_type": "code",
   "source": "D1",
   "id": "fce89beffe0ca560",
   "outputs": [
    {
     "data": {
      "text/plain": [
       "                                                  text                intent\n",
       "0     listen to westbam alumb allergic on google music             PlayMusic\n",
       "1           add step to me to the 50 clásicos playlist         AddToPlaylist\n",
       "2    i give this current textbook a rating value of...              RateBook\n",
       "3                 play the song little robin redbreast             PlayMusic\n",
       "4    please add iris dement to my playlist this is ...         AddToPlaylist\n",
       "..                                                 ...                   ...\n",
       "695          is any cinema playing the spirit of youth  SearchScreeningEvent\n",
       "696  what are the movie times for animated movies i...  SearchScreeningEvent\n",
       "697  what s the movie schedule at great escape thea...  SearchScreeningEvent\n",
       "698  show the times for cheers for miss bishop at d...  SearchScreeningEvent\n",
       "699   i want to see married to the enemy 2 at a cinema  SearchScreeningEvent\n",
       "\n",
       "[14484 rows x 2 columns]"
      ],
      "text/html": [
       "<div>\n",
       "<style scoped>\n",
       "    .dataframe tbody tr th:only-of-type {\n",
       "        vertical-align: middle;\n",
       "    }\n",
       "\n",
       "    .dataframe tbody tr th {\n",
       "        vertical-align: top;\n",
       "    }\n",
       "\n",
       "    .dataframe thead th {\n",
       "        text-align: right;\n",
       "    }\n",
       "</style>\n",
       "<table border=\"1\" class=\"dataframe\">\n",
       "  <thead>\n",
       "    <tr style=\"text-align: right;\">\n",
       "      <th></th>\n",
       "      <th>text</th>\n",
       "      <th>intent</th>\n",
       "    </tr>\n",
       "  </thead>\n",
       "  <tbody>\n",
       "    <tr>\n",
       "      <th>0</th>\n",
       "      <td>listen to westbam alumb allergic on google music</td>\n",
       "      <td>PlayMusic</td>\n",
       "    </tr>\n",
       "    <tr>\n",
       "      <th>1</th>\n",
       "      <td>add step to me to the 50 clásicos playlist</td>\n",
       "      <td>AddToPlaylist</td>\n",
       "    </tr>\n",
       "    <tr>\n",
       "      <th>2</th>\n",
       "      <td>i give this current textbook a rating value of...</td>\n",
       "      <td>RateBook</td>\n",
       "    </tr>\n",
       "    <tr>\n",
       "      <th>3</th>\n",
       "      <td>play the song little robin redbreast</td>\n",
       "      <td>PlayMusic</td>\n",
       "    </tr>\n",
       "    <tr>\n",
       "      <th>4</th>\n",
       "      <td>please add iris dement to my playlist this is ...</td>\n",
       "      <td>AddToPlaylist</td>\n",
       "    </tr>\n",
       "    <tr>\n",
       "      <th>...</th>\n",
       "      <td>...</td>\n",
       "      <td>...</td>\n",
       "    </tr>\n",
       "    <tr>\n",
       "      <th>695</th>\n",
       "      <td>is any cinema playing the spirit of youth</td>\n",
       "      <td>SearchScreeningEvent</td>\n",
       "    </tr>\n",
       "    <tr>\n",
       "      <th>696</th>\n",
       "      <td>what are the movie times for animated movies i...</td>\n",
       "      <td>SearchScreeningEvent</td>\n",
       "    </tr>\n",
       "    <tr>\n",
       "      <th>697</th>\n",
       "      <td>what s the movie schedule at great escape thea...</td>\n",
       "      <td>SearchScreeningEvent</td>\n",
       "    </tr>\n",
       "    <tr>\n",
       "      <th>698</th>\n",
       "      <td>show the times for cheers for miss bishop at d...</td>\n",
       "      <td>SearchScreeningEvent</td>\n",
       "    </tr>\n",
       "    <tr>\n",
       "      <th>699</th>\n",
       "      <td>i want to see married to the enemy 2 at a cinema</td>\n",
       "      <td>SearchScreeningEvent</td>\n",
       "    </tr>\n",
       "  </tbody>\n",
       "</table>\n",
       "<p>14484 rows × 2 columns</p>\n",
       "</div>"
      ]
     },
     "execution_count": 24,
     "metadata": {},
     "output_type": "execute_result"
    }
   ],
   "execution_count": 24
  },
  {
   "metadata": {
    "ExecuteTime": {
     "end_time": "2025-03-14T15:00:42.288737Z",
     "start_time": "2025-03-14T15:00:42.274057Z"
    }
   },
   "cell_type": "code",
   "source": "D1.isnull().sum()",
   "id": "3279e8fe84a1c07a",
   "outputs": [
    {
     "data": {
      "text/plain": [
       "text      0\n",
       "intent    0\n",
       "dtype: int64"
      ]
     },
     "execution_count": 25,
     "metadata": {},
     "output_type": "execute_result"
    }
   ],
   "execution_count": 25
  },
  {
   "metadata": {
    "ExecuteTime": {
     "end_time": "2025-03-14T15:00:49.241743Z",
     "start_time": "2025-03-14T15:00:49.221932Z"
    }
   },
   "cell_type": "code",
   "source": "D1.duplicated().sum()",
   "id": "ead371d5454b6609",
   "outputs": [
    {
     "data": {
      "text/plain": [
       "np.int64(268)"
      ]
     },
     "execution_count": 26,
     "metadata": {},
     "output_type": "execute_result"
    }
   ],
   "execution_count": 26
  },
  {
   "metadata": {
    "ExecuteTime": {
     "end_time": "2025-03-14T15:01:23.311251Z",
     "start_time": "2025-03-14T15:01:23.296714Z"
    }
   },
   "cell_type": "code",
   "source": "D1 = D1.drop_duplicates()",
   "id": "9425da9a0ff4182",
   "outputs": [],
   "execution_count": 30
  },
  {
   "metadata": {
    "ExecuteTime": {
     "end_time": "2025-03-14T15:01:23.790246Z",
     "start_time": "2025-03-14T15:01:23.778449Z"
    }
   },
   "cell_type": "code",
   "source": "D1",
   "id": "a993e1115d6c88b8",
   "outputs": [
    {
     "data": {
      "text/plain": [
       "                                                  text                intent\n",
       "0     listen to westbam alumb allergic on google music             PlayMusic\n",
       "1           add step to me to the 50 clásicos playlist         AddToPlaylist\n",
       "2    i give this current textbook a rating value of...              RateBook\n",
       "3                 play the song little robin redbreast             PlayMusic\n",
       "4    please add iris dement to my playlist this is ...         AddToPlaylist\n",
       "..                                                 ...                   ...\n",
       "695          is any cinema playing the spirit of youth  SearchScreeningEvent\n",
       "696  what are the movie times for animated movies i...  SearchScreeningEvent\n",
       "697  what s the movie schedule at great escape thea...  SearchScreeningEvent\n",
       "698  show the times for cheers for miss bishop at d...  SearchScreeningEvent\n",
       "699   i want to see married to the enemy 2 at a cinema  SearchScreeningEvent\n",
       "\n",
       "[14216 rows x 2 columns]"
      ],
      "text/html": [
       "<div>\n",
       "<style scoped>\n",
       "    .dataframe tbody tr th:only-of-type {\n",
       "        vertical-align: middle;\n",
       "    }\n",
       "\n",
       "    .dataframe tbody tr th {\n",
       "        vertical-align: top;\n",
       "    }\n",
       "\n",
       "    .dataframe thead th {\n",
       "        text-align: right;\n",
       "    }\n",
       "</style>\n",
       "<table border=\"1\" class=\"dataframe\">\n",
       "  <thead>\n",
       "    <tr style=\"text-align: right;\">\n",
       "      <th></th>\n",
       "      <th>text</th>\n",
       "      <th>intent</th>\n",
       "    </tr>\n",
       "  </thead>\n",
       "  <tbody>\n",
       "    <tr>\n",
       "      <th>0</th>\n",
       "      <td>listen to westbam alumb allergic on google music</td>\n",
       "      <td>PlayMusic</td>\n",
       "    </tr>\n",
       "    <tr>\n",
       "      <th>1</th>\n",
       "      <td>add step to me to the 50 clásicos playlist</td>\n",
       "      <td>AddToPlaylist</td>\n",
       "    </tr>\n",
       "    <tr>\n",
       "      <th>2</th>\n",
       "      <td>i give this current textbook a rating value of...</td>\n",
       "      <td>RateBook</td>\n",
       "    </tr>\n",
       "    <tr>\n",
       "      <th>3</th>\n",
       "      <td>play the song little robin redbreast</td>\n",
       "      <td>PlayMusic</td>\n",
       "    </tr>\n",
       "    <tr>\n",
       "      <th>4</th>\n",
       "      <td>please add iris dement to my playlist this is ...</td>\n",
       "      <td>AddToPlaylist</td>\n",
       "    </tr>\n",
       "    <tr>\n",
       "      <th>...</th>\n",
       "      <td>...</td>\n",
       "      <td>...</td>\n",
       "    </tr>\n",
       "    <tr>\n",
       "      <th>695</th>\n",
       "      <td>is any cinema playing the spirit of youth</td>\n",
       "      <td>SearchScreeningEvent</td>\n",
       "    </tr>\n",
       "    <tr>\n",
       "      <th>696</th>\n",
       "      <td>what are the movie times for animated movies i...</td>\n",
       "      <td>SearchScreeningEvent</td>\n",
       "    </tr>\n",
       "    <tr>\n",
       "      <th>697</th>\n",
       "      <td>what s the movie schedule at great escape thea...</td>\n",
       "      <td>SearchScreeningEvent</td>\n",
       "    </tr>\n",
       "    <tr>\n",
       "      <th>698</th>\n",
       "      <td>show the times for cheers for miss bishop at d...</td>\n",
       "      <td>SearchScreeningEvent</td>\n",
       "    </tr>\n",
       "    <tr>\n",
       "      <th>699</th>\n",
       "      <td>i want to see married to the enemy 2 at a cinema</td>\n",
       "      <td>SearchScreeningEvent</td>\n",
       "    </tr>\n",
       "  </tbody>\n",
       "</table>\n",
       "<p>14216 rows × 2 columns</p>\n",
       "</div>"
      ]
     },
     "execution_count": 31,
     "metadata": {},
     "output_type": "execute_result"
    }
   ],
   "execution_count": 31
  },
  {
   "metadata": {
    "ExecuteTime": {
     "end_time": "2025-03-14T15:01:49.117066Z",
     "start_time": "2025-03-14T15:01:49.105649Z"
    }
   },
   "cell_type": "code",
   "source": "D1[\"intent\"].unique()",
   "id": "9a90429930771a53",
   "outputs": [
    {
     "data": {
      "text/plain": [
       "array(['PlayMusic', 'AddToPlaylist', 'RateBook', 'SearchScreeningEvent',\n",
       "       'BookRestaurant', 'GetWeather', 'SearchCreativeWork'], dtype=object)"
      ]
     },
     "execution_count": 32,
     "metadata": {},
     "output_type": "execute_result"
    }
   ],
   "execution_count": 32
  },
  {
   "metadata": {
    "ExecuteTime": {
     "end_time": "2025-03-14T15:27:26.208009Z",
     "start_time": "2025-03-14T15:27:26.203571Z"
    }
   },
   "cell_type": "code",
   "source": [
    "import matplotlib.pyplot as plt\n",
    "import seaborn as sns"
   ],
   "id": "c0fa395bbe82924f",
   "outputs": [],
   "execution_count": 39
  },
  {
   "metadata": {
    "ExecuteTime": {
     "end_time": "2025-03-14T15:27:26.491542Z",
     "start_time": "2025-03-14T15:27:26.484681Z"
    }
   },
   "cell_type": "code",
   "source": [
    "# Count occurrences of each category\n",
    "intent_counts = D1[\"intent\"].value_counts()"
   ],
   "id": "3cea7d912acfda94",
   "outputs": [],
   "execution_count": 40
  },
  {
   "metadata": {
    "ExecuteTime": {
     "end_time": "2025-03-14T15:27:26.877995Z",
     "start_time": "2025-03-14T15:27:26.869150Z"
    }
   },
   "cell_type": "code",
   "source": "intent_counts",
   "id": "a5dc33a9ea3664d7",
   "outputs": [
    {
     "data": {
      "text/plain": [
       "intent\n",
       "GetWeather              2086\n",
       "BookRestaurant          2068\n",
       "PlayMusic               2064\n",
       "SearchCreativeWork      2051\n",
       "AddToPlaylist           2035\n",
       "RateBook                1991\n",
       "SearchScreeningEvent    1921\n",
       "Name: count, dtype: int64"
      ]
     },
     "execution_count": 41,
     "metadata": {},
     "output_type": "execute_result"
    }
   ],
   "execution_count": 41
  },
  {
   "metadata": {
    "ExecuteTime": {
     "end_time": "2025-03-14T15:27:28.018020Z",
     "start_time": "2025-03-14T15:27:27.808612Z"
    }
   },
   "cell_type": "code",
   "source": [
    "\n",
    "# Plot the bar chart\n",
    "plt.figure(figsize=(10, 5))\n",
    "intent_counts.plot(kind=\"bar\", color=\"skyblue\", edgecolor=\"black\")\n",
    "\n",
    "# Labels and title\n",
    "plt.xlabel(\"Intent Category\")\n",
    "plt.ylabel(\"Count\")\n",
    "plt.title(\"Count of Each Intent Category\")\n",
    "plt.xticks(rotation=45)\n",
    "\n",
    "plt.grid(axis=\"y\", linestyle=\"--\", alpha=0.7)\n",
    "plt.show()"
   ],
   "id": "a08e55b88a805c97",
   "outputs": [
    {
     "data": {
      "text/plain": [
       "<Figure size 1000x500 with 1 Axes>"
      ],
      "image/png": "[encoded data removed]"
     },
     "metadata": {},
     "output_type": "display_data"
    }
   ],
   "execution_count": 42
  },
  {
   "metadata": {},
   "cell_type": "code",
   "outputs": [],
   "execution_count": null,
   "source": "",
   "id": "33d4941640379671"
  }
 ],
 "metadata": {
  "kernelspec": {
   "display_name": "Python 3",
   "language": "python",
   "name": "python3"
  },
  "language_info": {
   "codemirror_mode": {
    "name": "ipython",
    "version": 2
   },
   "file_extension": ".py",
   "mimetype": "text/x-python",
   "name": "python",
   "nbconvert_exporter": "python",
   "pygments_lexer": "ipython2",
   "version": "2.7.6"
  }
 },
 "nbformat": 4,
 "nbformat_minor": 5
}
