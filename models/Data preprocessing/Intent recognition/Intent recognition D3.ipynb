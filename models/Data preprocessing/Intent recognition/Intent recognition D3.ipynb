{
 "cells": [
  {
   "cell_type": "code",
   "id": "initial_id",
   "metadata": {
    "collapsed": true,
    "ExecuteTime": {
     "end_time": "2025-03-16T19:43:19.499421Z",
     "start_time": "2025-03-16T19:43:19.490136Z"
    }
   },
   "source": "import pandas as pd",
   "outputs": [],
   "execution_count": 15
  },
  {
   "metadata": {
    "ExecuteTime": {
     "end_time": "2025-03-16T19:43:20.103552Z",
     "start_time": "2025-03-16T19:43:19.662996Z"
    }
   },
   "cell_type": "code",
   "source": "D3 = pd.read_csv(\"data/Intent recognition/Data 3/Bitext_Sample_Customer_Support_Training_Dataset_27K_responses-v11.csv\")",
   "id": "48312ecaa4625723",
   "outputs": [],
   "execution_count": 16
  },
  {
   "metadata": {
    "ExecuteTime": {
     "end_time": "2025-03-16T19:43:20.124562Z",
     "start_time": "2025-03-16T19:43:20.103552Z"
    }
   },
   "cell_type": "code",
   "source": "D3",
   "id": "9ed82b2c26f8d9fe",
   "outputs": [
    {
     "data": {
      "text/plain": [
       "       flags                                        instruction category  \\\n",
       "0          B   question about cancelling order {{Order Number}}    ORDER   \n",
       "1        BQZ  i have a question about cancelling oorder {{Or...    ORDER   \n",
       "2       BLQZ    i need help cancelling puchase {{Order Number}}    ORDER   \n",
       "3         BL         I need to cancel purchase {{Order Number}}    ORDER   \n",
       "4      BCELN  I cannot afford this order, cancel purchase {{...    ORDER   \n",
       "...      ...                                                ...      ...   \n",
       "26867     BL  I am waiting for a rebate of {{Refund Amount}}...   REFUND   \n",
       "26868    BIL  how to see if there is anything wrong with my ...   REFUND   \n",
       "26869   BLQZ  I'm waiting for a reimbjrsement of {{Currency ...   REFUND   \n",
       "26870     BL  I don't know what to do to see my reimbursemen...   REFUND   \n",
       "26871     BL  I need to know if there is anything new on the...   REFUND   \n",
       "\n",
       "             intent                                           response  \n",
       "0      cancel_order  I've understood you have a question regarding ...  \n",
       "1      cancel_order  I've been informed that you have a question ab...  \n",
       "2      cancel_order  I can sense that you're seeking assistance wit...  \n",
       "3      cancel_order  I understood that you need assistance with can...  \n",
       "4      cancel_order  I'm sensitive to the fact that you're facing f...  \n",
       "...             ...                                                ...  \n",
       "26867  track_refund  Thank you for sharing your situation regarding...  \n",
       "26868  track_refund  Ensuring the accuracy of your restitution is o...  \n",
       "26869  track_refund  Firstly, I genuinely understand the importance...  \n",
       "26870  track_refund  I've understood you're unsure about how to che...  \n",
       "26871  track_refund  It's completely understandable that you want t...  \n",
       "\n",
       "[26872 rows x 5 columns]"
      ],
      "text/html": [
       "<div>\n",
       "<style scoped>\n",
       "    .dataframe tbody tr th:only-of-type {\n",
       "        vertical-align: middle;\n",
       "    }\n",
       "\n",
       "    .dataframe tbody tr th {\n",
       "        vertical-align: top;\n",
       "    }\n",
       "\n",
       "    .dataframe thead th {\n",
       "        text-align: right;\n",
       "    }\n",
       "</style>\n",
       "<table border=\"1\" class=\"dataframe\">\n",
       "  <thead>\n",
       "    <tr style=\"text-align: right;\">\n",
       "      <th></th>\n",
       "      <th>flags</th>\n",
       "      <th>instruction</th>\n",
       "      <th>category</th>\n",
       "      <th>intent</th>\n",
       "      <th>response</th>\n",
       "    </tr>\n",
       "  </thead>\n",
       "  <tbody>\n",
       "    <tr>\n",
       "      <th>0</th>\n",
       "      <td>B</td>\n",
       "      <td>question about cancelling order {{Order Number}}</td>\n",
       "      <td>ORDER</td>\n",
       "      <td>cancel_order</td>\n",
       "      <td>I've understood you have a question regarding ...</td>\n",
       "    </tr>\n",
       "    <tr>\n",
       "      <th>1</th>\n",
       "      <td>BQZ</td>\n",
       "      <td>i have a question about cancelling oorder {{Or...</td>\n",
       "      <td>ORDER</td>\n",
       "      <td>cancel_order</td>\n",
       "      <td>I've been informed that you have a question ab...</td>\n",
       "    </tr>\n",
       "    <tr>\n",
       "      <th>2</th>\n",
       "      <td>BLQZ</td>\n",
       "      <td>i need help cancelling puchase {{Order Number}}</td>\n",
       "      <td>ORDER</td>\n",
       "      <td>cancel_order</td>\n",
       "      <td>I can sense that you're seeking assistance wit...</td>\n",
       "    </tr>\n",
       "    <tr>\n",
       "      <th>3</th>\n",
       "      <td>BL</td>\n",
       "      <td>I need to cancel purchase {{Order Number}}</td>\n",
       "      <td>ORDER</td>\n",
       "      <td>cancel_order</td>\n",
       "      <td>I understood that you need assistance with can...</td>\n",
       "    </tr>\n",
       "    <tr>\n",
       "      <th>4</th>\n",
       "      <td>BCELN</td>\n",
       "      <td>I cannot afford this order, cancel purchase {{...</td>\n",
       "      <td>ORDER</td>\n",
       "      <td>cancel_order</td>\n",
       "      <td>I'm sensitive to the fact that you're facing f...</td>\n",
       "    </tr>\n",
       "    <tr>\n",
       "      <th>...</th>\n",
       "      <td>...</td>\n",
       "      <td>...</td>\n",
       "      <td>...</td>\n",
       "      <td>...</td>\n",
       "      <td>...</td>\n",
       "    </tr>\n",
       "    <tr>\n",
       "      <th>26867</th>\n",
       "      <td>BL</td>\n",
       "      <td>I am waiting for a rebate of {{Refund Amount}}...</td>\n",
       "      <td>REFUND</td>\n",
       "      <td>track_refund</td>\n",
       "      <td>Thank you for sharing your situation regarding...</td>\n",
       "    </tr>\n",
       "    <tr>\n",
       "      <th>26868</th>\n",
       "      <td>BIL</td>\n",
       "      <td>how to see if there is anything wrong with my ...</td>\n",
       "      <td>REFUND</td>\n",
       "      <td>track_refund</td>\n",
       "      <td>Ensuring the accuracy of your restitution is o...</td>\n",
       "    </tr>\n",
       "    <tr>\n",
       "      <th>26869</th>\n",
       "      <td>BLQZ</td>\n",
       "      <td>I'm waiting for a reimbjrsement of {{Currency ...</td>\n",
       "      <td>REFUND</td>\n",
       "      <td>track_refund</td>\n",
       "      <td>Firstly, I genuinely understand the importance...</td>\n",
       "    </tr>\n",
       "    <tr>\n",
       "      <th>26870</th>\n",
       "      <td>BL</td>\n",
       "      <td>I don't know what to do to see my reimbursemen...</td>\n",
       "      <td>REFUND</td>\n",
       "      <td>track_refund</td>\n",
       "      <td>I've understood you're unsure about how to che...</td>\n",
       "    </tr>\n",
       "    <tr>\n",
       "      <th>26871</th>\n",
       "      <td>BL</td>\n",
       "      <td>I need to know if there is anything new on the...</td>\n",
       "      <td>REFUND</td>\n",
       "      <td>track_refund</td>\n",
       "      <td>It's completely understandable that you want t...</td>\n",
       "    </tr>\n",
       "  </tbody>\n",
       "</table>\n",
       "<p>26872 rows × 5 columns</p>\n",
       "</div>"
      ]
     },
     "execution_count": 17,
     "metadata": {},
     "output_type": "execute_result"
    }
   ],
   "execution_count": 17
  },
  {
   "metadata": {
    "ExecuteTime": {
     "end_time": "2025-03-16T19:43:20.139788Z",
     "start_time": "2025-03-16T19:43:20.124562Z"
    }
   },
   "cell_type": "code",
   "source": "D3 = D3[[\"instruction\", \"intent\"]]",
   "id": "61cc52f12673361a",
   "outputs": [],
   "execution_count": 18
  },
  {
   "metadata": {
    "ExecuteTime": {
     "end_time": "2025-03-16T19:43:53.386817Z",
     "start_time": "2025-03-16T19:43:53.370796Z"
    }
   },
   "cell_type": "code",
   "source": "D3",
   "id": "ed090df03af26c58",
   "outputs": [
    {
     "data": {
      "text/plain": [
       "                                                    text        intent\n",
       "0       question about cancelling order {{Order Number}}  cancel_order\n",
       "1      i have a question about cancelling oorder {{Or...  cancel_order\n",
       "2        i need help cancelling puchase {{Order Number}}  cancel_order\n",
       "3             I need to cancel purchase {{Order Number}}  cancel_order\n",
       "4      I cannot afford this order, cancel purchase {{...  cancel_order\n",
       "...                                                  ...           ...\n",
       "26867  I am waiting for a rebate of {{Refund Amount}}...  track_refund\n",
       "26868  how to see if there is anything wrong with my ...  track_refund\n",
       "26869  I'm waiting for a reimbjrsement of {{Currency ...  track_refund\n",
       "26870  I don't know what to do to see my reimbursemen...  track_refund\n",
       "26871  I need to know if there is anything new on the...  track_refund\n",
       "\n",
       "[26872 rows x 2 columns]"
      ],
      "text/html": [
       "<div>\n",
       "<style scoped>\n",
       "    .dataframe tbody tr th:only-of-type {\n",
       "        vertical-align: middle;\n",
       "    }\n",
       "\n",
       "    .dataframe tbody tr th {\n",
       "        vertical-align: top;\n",
       "    }\n",
       "\n",
       "    .dataframe thead th {\n",
       "        text-align: right;\n",
       "    }\n",
       "</style>\n",
       "<table border=\"1\" class=\"dataframe\">\n",
       "  <thead>\n",
       "    <tr style=\"text-align: right;\">\n",
       "      <th></th>\n",
       "      <th>text</th>\n",
       "      <th>intent</th>\n",
       "    </tr>\n",
       "  </thead>\n",
       "  <tbody>\n",
       "    <tr>\n",
       "      <th>0</th>\n",
       "      <td>question about cancelling order {{Order Number}}</td>\n",
       "      <td>cancel_order</td>\n",
       "    </tr>\n",
       "    <tr>\n",
       "      <th>1</th>\n",
       "      <td>i have a question about cancelling oorder {{Or...</td>\n",
       "      <td>cancel_order</td>\n",
       "    </tr>\n",
       "    <tr>\n",
       "      <th>2</th>\n",
       "      <td>i need help cancelling puchase {{Order Number}}</td>\n",
       "      <td>cancel_order</td>\n",
       "    </tr>\n",
       "    <tr>\n",
       "      <th>3</th>\n",
       "      <td>I need to cancel purchase {{Order Number}}</td>\n",
       "      <td>cancel_order</td>\n",
       "    </tr>\n",
       "    <tr>\n",
       "      <th>4</th>\n",
       "      <td>I cannot afford this order, cancel purchase {{...</td>\n",
       "      <td>cancel_order</td>\n",
       "    </tr>\n",
       "    <tr>\n",
       "      <th>...</th>\n",
       "      <td>...</td>\n",
       "      <td>...</td>\n",
       "    </tr>\n",
       "    <tr>\n",
       "      <th>26867</th>\n",
       "      <td>I am waiting for a rebate of {{Refund Amount}}...</td>\n",
       "      <td>track_refund</td>\n",
       "    </tr>\n",
       "    <tr>\n",
       "      <th>26868</th>\n",
       "      <td>how to see if there is anything wrong with my ...</td>\n",
       "      <td>track_refund</td>\n",
       "    </tr>\n",
       "    <tr>\n",
       "      <th>26869</th>\n",
       "      <td>I'm waiting for a reimbjrsement of {{Currency ...</td>\n",
       "      <td>track_refund</td>\n",
       "    </tr>\n",
       "    <tr>\n",
       "      <th>26870</th>\n",
       "      <td>I don't know what to do to see my reimbursemen...</td>\n",
       "      <td>track_refund</td>\n",
       "    </tr>\n",
       "    <tr>\n",
       "      <th>26871</th>\n",
       "      <td>I need to know if there is anything new on the...</td>\n",
       "      <td>track_refund</td>\n",
       "    </tr>\n",
       "  </tbody>\n",
       "</table>\n",
       "<p>26872 rows × 2 columns</p>\n",
       "</div>"
      ]
     },
     "execution_count": 26,
     "metadata": {},
     "output_type": "execute_result"
    }
   ],
   "execution_count": 26
  },
  {
   "metadata": {
    "ExecuteTime": {
     "end_time": "2025-03-16T19:43:34.377211Z",
     "start_time": "2025-03-16T19:43:34.364066Z"
    }
   },
   "cell_type": "code",
   "source": "D4 = D3.rename(columns={\"instruction\": \"text\", \"intent\": \"intent\"}, inplace=True)",
   "id": "84f871be2cde7e17",
   "outputs": [
    {
     "name": "stderr",
     "output_type": "stream",
     "text": [
      "C:\\Users\\LENOVO\\AppData\\Local\\Temp\\ipykernel_12112\\2156046821.py:1: SettingWithCopyWarning: \n",
      "A value is trying to be set on a copy of a slice from a DataFrame\n",
      "\n",
      "See the caveats in the documentation: https://pandas.pydata.org/pandas-docs/stable/user_guide/indexing.html#returning-a-view-versus-a-copy\n",
      "  D4 = D3.rename(columns={\"instruction\": \"text\", \"intent\": \"intent\"}, inplace=True)\n"
     ]
    }
   ],
   "execution_count": 22
  },
  {
   "metadata": {
    "ExecuteTime": {
     "end_time": "2025-03-16T19:44:41.311347Z",
     "start_time": "2025-03-16T19:44:41.254438Z"
    }
   },
   "cell_type": "code",
   "source": "D3.to_csv(\"data/Intent recognition/Preprocessed data/D3.csv\", index=False)",
   "id": "946c186899efdb6f",
   "outputs": [],
   "execution_count": 27
  },
  {
   "metadata": {},
   "cell_type": "code",
   "outputs": [],
   "execution_count": null,
   "source": "",
   "id": "8ed1d671bb5c1d93"
  }
 ],
 "metadata": {
  "kernelspec": {
   "display_name": "Python 3",
   "language": "python",
   "name": "python3"
  },
  "language_info": {
   "codemirror_mode": {
    "name": "ipython",
    "version": 2
   },
   "file_extension": ".py",
   "mimetype": "text/x-python",
   "name": "python",
   "nbconvert_exporter": "python",
   "pygments_lexer": "ipython2",
   "version": "2.7.6"
  }
 },
 "nbformat": 4,
 "nbformat_minor": 5
}
