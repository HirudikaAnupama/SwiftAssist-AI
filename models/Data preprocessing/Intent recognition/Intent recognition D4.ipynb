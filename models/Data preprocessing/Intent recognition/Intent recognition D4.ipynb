{
 "cells": [
  {
   "cell_type": "code",
   "id": "initial_id",
   "metadata": {
    "collapsed": true,
    "ExecuteTime": {
     "end_time": "2025-03-16T20:02:29.401969Z",
     "start_time": "2025-03-16T20:02:29.327461Z"
    }
   },
   "source": [
    "import yaml\n",
    "import pandas as pd\n",
    "\n",
    "# Load the YAML file\n",
    "with open('data/Intent recognition/Data 4/test_customer_service.yml', 'r') as file:\n",
    "    data = yaml.safe_load(file)\n",
    "\n",
    "# Extract intents and examples\n",
    "intents = []\n",
    "examples = []\n",
    "\n",
    "for item in data['nlu']:\n",
    "    intent = item['intent']\n",
    "    for example in item['examples'].split('\\n'):\n",
    "        if example.strip():  # Skip empty lines\n",
    "            intents.append(intent)\n",
    "            examples.append(example.strip('- ').strip())\n",
    "\n",
    "# Create a DataFrame\n",
    "df_1 = pd.DataFrame({'Example': examples, 'Intent': intents})\n",
    "\n",
    "# Display the DataFrame\n",
    "print(df.head())"
   ],
   "outputs": [
    {
     "name": "stdout",
     "output_type": "stream",
     "text": [
      "                                             Example        Intent\n",
      "0   would it be possible to cancel the order I made?  cancel_order\n",
      "1                                   cancelling order  cancel_order\n",
      "2  I need assistance canceling the last order I h...  cancel_order\n",
      "3            problem with canceling the order I made  cancel_order\n",
      "4        I don't know how to cancel the order I made  cancel_order\n"
     ]
    }
   ],
   "execution_count": 11
  },
  {
   "metadata": {
    "ExecuteTime": {
     "end_time": "2025-03-16T20:02:30.003287Z",
     "start_time": "2025-03-16T20:02:29.968836Z"
    }
   },
   "cell_type": "code",
   "source": [
    "# Save the DataFrame to a CSV file\n",
    "df.to_csv('data/Intent recognition/Data 4/test_customer_service.csv', index=False)\n",
    "\n",
    "print(\"CSV file saved successfully!\")"
   ],
   "id": "59b5ddb036576593",
   "outputs": [
    {
     "name": "stdout",
     "output_type": "stream",
     "text": [
      "CSV file saved successfully!\n"
     ]
    }
   ],
   "execution_count": 12
  },
  {
   "metadata": {
    "ExecuteTime": {
     "end_time": "2025-03-16T20:02:30.701879Z",
     "start_time": "2025-03-16T20:02:30.304989Z"
    }
   },
   "cell_type": "code",
   "source": [
    "# Load the YAML file\n",
    "with open('data/Intent recognition/Data 4/train_customer_service.yml', 'r') as file:\n",
    "    data = yaml.safe_load(file)\n",
    "\n",
    "# Extract intents and examples\n",
    "intents = []\n",
    "examples = []\n",
    "\n",
    "for item in data['nlu']:\n",
    "    intent = item['intent']\n",
    "    for example in item['examples'].split('\\n'):\n",
    "        if example.strip():  # Skip empty lines\n",
    "            intents.append(intent)\n",
    "            examples.append(example.strip('- ').strip())\n",
    "\n",
    "# Create a DataFrame\n",
    "df_2 = pd.DataFrame({'Example': examples, 'Intent': intents, })\n",
    "\n",
    "# Display the DataFrame\n",
    "print(df.head())"
   ],
   "id": "aa4bc774a2d320da",
   "outputs": [
    {
     "name": "stdout",
     "output_type": "stream",
     "text": [
      "                                             Example        Intent\n",
      "0   would it be possible to cancel the order I made?  cancel_order\n",
      "1                                   cancelling order  cancel_order\n",
      "2  I need assistance canceling the last order I h...  cancel_order\n",
      "3            problem with canceling the order I made  cancel_order\n",
      "4        I don't know how to cancel the order I made  cancel_order\n"
     ]
    }
   ],
   "execution_count": 13
  },
  {
   "metadata": {
    "ExecuteTime": {
     "end_time": "2025-03-16T20:02:30.807369Z",
     "start_time": "2025-03-16T20:02:30.783105Z"
    }
   },
   "cell_type": "code",
   "source": [
    "# Save the DataFrame to a CSV file\n",
    "df.to_csv('data/Intent recognition/Data 4/train_customer_service.csv', index=False)\n",
    "\n",
    "print(\"CSV file saved successfully!\")"
   ],
   "id": "2d9063e80506979",
   "outputs": [
    {
     "name": "stdout",
     "output_type": "stream",
     "text": [
      "CSV file saved successfully!\n"
     ]
    }
   ],
   "execution_count": 14
  },
  {
   "metadata": {
    "ExecuteTime": {
     "end_time": "2025-03-16T20:02:48.063980Z",
     "start_time": "2025-03-16T20:02:48.054801Z"
    }
   },
   "cell_type": "code",
   "source": "D4 = pd.concat([df_1, df_2], axis=0, ignore_index=True)",
   "id": "99b456965bcde11e",
   "outputs": [],
   "execution_count": 16
  },
  {
   "metadata": {
    "ExecuteTime": {
     "end_time": "2025-03-16T20:02:50.220414Z",
     "start_time": "2025-03-16T20:02:50.199136Z"
    }
   },
   "cell_type": "code",
   "source": "D4",
   "id": "aae40d2ca4c31959",
   "outputs": [
    {
     "data": {
      "text/plain": [
       "                                                Example        Intent\n",
       "0           I have a question about cancelling an order  cancel_order\n",
       "1                  help canceling the order I have made  cancel_order\n",
       "2      I do not know how to cancel an order I have made  cancel_order\n",
       "3             where can I cancel the last order I made?  cancel_order\n",
       "4                    I don't want the last order I made  cancel_order\n",
       "...                                                 ...           ...\n",
       "8170                   I try to check the refund status  track_refund\n",
       "8171       I want assistance to check the refund status  track_refund\n",
       "8172  I want assistance checking the status of the r...  track_refund\n",
       "8173                  how can I check my refund status?  track_refund\n",
       "8174                       where do I track the refund?  track_refund\n",
       "\n",
       "[8175 rows x 2 columns]"
      ],
      "text/html": [
       "<div>\n",
       "<style scoped>\n",
       "    .dataframe tbody tr th:only-of-type {\n",
       "        vertical-align: middle;\n",
       "    }\n",
       "\n",
       "    .dataframe tbody tr th {\n",
       "        vertical-align: top;\n",
       "    }\n",
       "\n",
       "    .dataframe thead th {\n",
       "        text-align: right;\n",
       "    }\n",
       "</style>\n",
       "<table border=\"1\" class=\"dataframe\">\n",
       "  <thead>\n",
       "    <tr style=\"text-align: right;\">\n",
       "      <th></th>\n",
       "      <th>Example</th>\n",
       "      <th>Intent</th>\n",
       "    </tr>\n",
       "  </thead>\n",
       "  <tbody>\n",
       "    <tr>\n",
       "      <th>0</th>\n",
       "      <td>I have a question about cancelling an order</td>\n",
       "      <td>cancel_order</td>\n",
       "    </tr>\n",
       "    <tr>\n",
       "      <th>1</th>\n",
       "      <td>help canceling the order I have made</td>\n",
       "      <td>cancel_order</td>\n",
       "    </tr>\n",
       "    <tr>\n",
       "      <th>2</th>\n",
       "      <td>I do not know how to cancel an order I have made</td>\n",
       "      <td>cancel_order</td>\n",
       "    </tr>\n",
       "    <tr>\n",
       "      <th>3</th>\n",
       "      <td>where can I cancel the last order I made?</td>\n",
       "      <td>cancel_order</td>\n",
       "    </tr>\n",
       "    <tr>\n",
       "      <th>4</th>\n",
       "      <td>I don't want the last order I made</td>\n",
       "      <td>cancel_order</td>\n",
       "    </tr>\n",
       "    <tr>\n",
       "      <th>...</th>\n",
       "      <td>...</td>\n",
       "      <td>...</td>\n",
       "    </tr>\n",
       "    <tr>\n",
       "      <th>8170</th>\n",
       "      <td>I try to check the refund status</td>\n",
       "      <td>track_refund</td>\n",
       "    </tr>\n",
       "    <tr>\n",
       "      <th>8171</th>\n",
       "      <td>I want assistance to check the refund status</td>\n",
       "      <td>track_refund</td>\n",
       "    </tr>\n",
       "    <tr>\n",
       "      <th>8172</th>\n",
       "      <td>I want assistance checking the status of the r...</td>\n",
       "      <td>track_refund</td>\n",
       "    </tr>\n",
       "    <tr>\n",
       "      <th>8173</th>\n",
       "      <td>how can I check my refund status?</td>\n",
       "      <td>track_refund</td>\n",
       "    </tr>\n",
       "    <tr>\n",
       "      <th>8174</th>\n",
       "      <td>where do I track the refund?</td>\n",
       "      <td>track_refund</td>\n",
       "    </tr>\n",
       "  </tbody>\n",
       "</table>\n",
       "<p>8175 rows × 2 columns</p>\n",
       "</div>"
      ]
     },
     "execution_count": 17,
     "metadata": {},
     "output_type": "execute_result"
    }
   ],
   "execution_count": 17
  },
  {
   "metadata": {
    "ExecuteTime": {
     "end_time": "2025-03-16T20:03:29.525506Z",
     "start_time": "2025-03-16T20:03:29.506754Z"
    }
   },
   "cell_type": "code",
   "source": "D4 = D4.rename(columns={'Intent': 'intent', 'Example': 'text'})",
   "id": "dba3d0970d85abd4",
   "outputs": [],
   "execution_count": 19
  },
  {
   "metadata": {
    "ExecuteTime": {
     "end_time": "2025-03-16T20:03:31.362315Z",
     "start_time": "2025-03-16T20:03:31.350184Z"
    }
   },
   "cell_type": "code",
   "source": "D4",
   "id": "7d4c99481968e7d0",
   "outputs": [
    {
     "data": {
      "text/plain": [
       "                                                   text        intent\n",
       "0           I have a question about cancelling an order  cancel_order\n",
       "1                  help canceling the order I have made  cancel_order\n",
       "2      I do not know how to cancel an order I have made  cancel_order\n",
       "3             where can I cancel the last order I made?  cancel_order\n",
       "4                    I don't want the last order I made  cancel_order\n",
       "...                                                 ...           ...\n",
       "8170                   I try to check the refund status  track_refund\n",
       "8171       I want assistance to check the refund status  track_refund\n",
       "8172  I want assistance checking the status of the r...  track_refund\n",
       "8173                  how can I check my refund status?  track_refund\n",
       "8174                       where do I track the refund?  track_refund\n",
       "\n",
       "[8175 rows x 2 columns]"
      ],
      "text/html": [
       "<div>\n",
       "<style scoped>\n",
       "    .dataframe tbody tr th:only-of-type {\n",
       "        vertical-align: middle;\n",
       "    }\n",
       "\n",
       "    .dataframe tbody tr th {\n",
       "        vertical-align: top;\n",
       "    }\n",
       "\n",
       "    .dataframe thead th {\n",
       "        text-align: right;\n",
       "    }\n",
       "</style>\n",
       "<table border=\"1\" class=\"dataframe\">\n",
       "  <thead>\n",
       "    <tr style=\"text-align: right;\">\n",
       "      <th></th>\n",
       "      <th>text</th>\n",
       "      <th>intent</th>\n",
       "    </tr>\n",
       "  </thead>\n",
       "  <tbody>\n",
       "    <tr>\n",
       "      <th>0</th>\n",
       "      <td>I have a question about cancelling an order</td>\n",
       "      <td>cancel_order</td>\n",
       "    </tr>\n",
       "    <tr>\n",
       "      <th>1</th>\n",
       "      <td>help canceling the order I have made</td>\n",
       "      <td>cancel_order</td>\n",
       "    </tr>\n",
       "    <tr>\n",
       "      <th>2</th>\n",
       "      <td>I do not know how to cancel an order I have made</td>\n",
       "      <td>cancel_order</td>\n",
       "    </tr>\n",
       "    <tr>\n",
       "      <th>3</th>\n",
       "      <td>where can I cancel the last order I made?</td>\n",
       "      <td>cancel_order</td>\n",
       "    </tr>\n",
       "    <tr>\n",
       "      <th>4</th>\n",
       "      <td>I don't want the last order I made</td>\n",
       "      <td>cancel_order</td>\n",
       "    </tr>\n",
       "    <tr>\n",
       "      <th>...</th>\n",
       "      <td>...</td>\n",
       "      <td>...</td>\n",
       "    </tr>\n",
       "    <tr>\n",
       "      <th>8170</th>\n",
       "      <td>I try to check the refund status</td>\n",
       "      <td>track_refund</td>\n",
       "    </tr>\n",
       "    <tr>\n",
       "      <th>8171</th>\n",
       "      <td>I want assistance to check the refund status</td>\n",
       "      <td>track_refund</td>\n",
       "    </tr>\n",
       "    <tr>\n",
       "      <th>8172</th>\n",
       "      <td>I want assistance checking the status of the r...</td>\n",
       "      <td>track_refund</td>\n",
       "    </tr>\n",
       "    <tr>\n",
       "      <th>8173</th>\n",
       "      <td>how can I check my refund status?</td>\n",
       "      <td>track_refund</td>\n",
       "    </tr>\n",
       "    <tr>\n",
       "      <th>8174</th>\n",
       "      <td>where do I track the refund?</td>\n",
       "      <td>track_refund</td>\n",
       "    </tr>\n",
       "  </tbody>\n",
       "</table>\n",
       "<p>8175 rows × 2 columns</p>\n",
       "</div>"
      ]
     },
     "execution_count": 20,
     "metadata": {},
     "output_type": "execute_result"
    }
   ],
   "execution_count": 20
  },
  {
   "metadata": {
    "ExecuteTime": {
     "end_time": "2025-03-16T20:03:45.607166Z",
     "start_time": "2025-03-16T20:03:45.582298Z"
    }
   },
   "cell_type": "code",
   "source": "D4.to_csv(\"data/Intent recognition/Preprocessed data/D4.csv\", index=False)",
   "id": "9bd06350a230fd7b",
   "outputs": [],
   "execution_count": 21
  },
  {
   "metadata": {},
   "cell_type": "code",
   "outputs": [],
   "execution_count": null,
   "source": "",
   "id": "f7d6b1c455699296"
  }
 ],
 "metadata": {
  "kernelspec": {
   "display_name": "Python 3",
   "language": "python",
   "name": "python3"
  },
  "language_info": {
   "codemirror_mode": {
    "name": "ipython",
    "version": 2
   },
   "file_extension": ".py",
   "mimetype": "text/x-python",
   "name": "python",
   "nbconvert_exporter": "python",
   "pygments_lexer": "ipython2",
   "version": "2.7.6"
  }
 },
 "nbformat": 4,
 "nbformat_minor": 5
}
