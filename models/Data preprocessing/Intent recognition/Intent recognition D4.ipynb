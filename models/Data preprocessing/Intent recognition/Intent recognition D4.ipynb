{
 "cells": [
  {
   "cell_type": "code",
   "id": "initial_id",
   "metadata": {
    "collapsed": true,
    "ExecuteTime": {
     "end_time": "2025-03-14T16:08:22.215704Z",
     "start_time": "2025-03-14T16:08:22.094326Z"
    }
   },
   "source": [
    "import yaml\n",
    "import pandas as pd\n",
    "\n",
    "# Load the YAML file\n",
    "with open('data/Intent recognition/Data 4/test_customer_service.yml', 'r') as file:\n",
    "    data = yaml.safe_load(file)\n",
    "\n",
    "# Extract intents and examples\n",
    "intents = []\n",
    "examples = []\n",
    "\n",
    "for item in data['nlu']:\n",
    "    intent = item['intent']\n",
    "    for example in item['examples'].split('\\n'):\n",
    "        if example.strip():  # Skip empty lines\n",
    "            intents.append(intent)\n",
    "            examples.append(example.strip('- ').strip())\n",
    "\n",
    "# Create a DataFrame\n",
    "df = pd.DataFrame({'Intent': intents, 'Example': examples})\n",
    "\n",
    "# Display the DataFrame\n",
    "print(df.head())"
   ],
   "outputs": [
    {
     "name": "stdout",
     "output_type": "stream",
     "text": [
      "         Intent                                           Example\n",
      "0  cancel_order       I have a question about cancelling an order\n",
      "1  cancel_order              help canceling the order I have made\n",
      "2  cancel_order  I do not know how to cancel an order I have made\n",
      "3  cancel_order         where can I cancel the last order I made?\n",
      "4  cancel_order                I don't want the last order I made\n"
     ]
    }
   ],
   "execution_count": 1
  },
  {
   "metadata": {
    "ExecuteTime": {
     "end_time": "2025-03-14T16:08:25.355903Z",
     "start_time": "2025-03-14T16:08:25.332960Z"
    }
   },
   "cell_type": "code",
   "source": [
    "# Save the DataFrame to a CSV file\n",
    "df.to_csv('data/Intent recognition/Data 4/test_customer_service.csv', index=False)\n",
    "\n",
    "print(\"CSV file saved successfully!\")"
   ],
   "id": "59b5ddb036576593",
   "outputs": [
    {
     "name": "stdout",
     "output_type": "stream",
     "text": [
      "CSV file saved successfully!\n"
     ]
    }
   ],
   "execution_count": 2
  },
  {
   "metadata": {
    "ExecuteTime": {
     "end_time": "2025-03-14T16:09:04.544719Z",
     "start_time": "2025-03-14T16:09:04.098989Z"
    }
   },
   "cell_type": "code",
   "source": [
    "# Load the YAML file\n",
    "with open('data/Intent recognition/Data 4/train_customer_service.yml', 'r') as file:\n",
    "    data = yaml.safe_load(file)\n",
    "\n",
    "# Extract intents and examples\n",
    "intents = []\n",
    "examples = []\n",
    "\n",
    "for item in data['nlu']:\n",
    "    intent = item['intent']\n",
    "    for example in item['examples'].split('\\n'):\n",
    "        if example.strip():  # Skip empty lines\n",
    "            intents.append(intent)\n",
    "            examples.append(example.strip('- ').strip())\n",
    "\n",
    "# Create a DataFrame\n",
    "df = pd.DataFrame({'Intent': intents, 'Example': examples})\n",
    "\n",
    "# Display the DataFrame\n",
    "print(df.head())"
   ],
   "id": "aa4bc774a2d320da",
   "outputs": [
    {
     "name": "stdout",
     "output_type": "stream",
     "text": [
      "         Intent                                            Example\n",
      "0  cancel_order   would it be possible to cancel the order I made?\n",
      "1  cancel_order                                   cancelling order\n",
      "2  cancel_order  I need assistance canceling the last order I h...\n",
      "3  cancel_order            problem with canceling the order I made\n",
      "4  cancel_order        I don't know how to cancel the order I made\n"
     ]
    }
   ],
   "execution_count": 3
  },
  {
   "metadata": {
    "ExecuteTime": {
     "end_time": "2025-03-14T16:09:11.866886Z",
     "start_time": "2025-03-14T16:09:11.829930Z"
    }
   },
   "cell_type": "code",
   "source": [
    "# Save the DataFrame to a CSV file\n",
    "df.to_csv('data/Intent recognition/Data 4/train_customer_service.csv', index=False)\n",
    "\n",
    "print(\"CSV file saved successfully!\")"
   ],
   "id": "2d9063e80506979",
   "outputs": [
    {
     "name": "stdout",
     "output_type": "stream",
     "text": [
      "CSV file saved successfully!\n"
     ]
    }
   ],
   "execution_count": 4
  },
  {
   "metadata": {},
   "cell_type": "code",
   "outputs": [],
   "execution_count": null,
   "source": "",
   "id": "99b456965bcde11e"
  }
 ],
 "metadata": {
  "kernelspec": {
   "display_name": "Python 3",
   "language": "python",
   "name": "python3"
  },
  "language_info": {
   "codemirror_mode": {
    "name": "ipython",
    "version": 2
   },
   "file_extension": ".py",
   "mimetype": "text/x-python",
   "name": "python",
   "nbconvert_exporter": "python",
   "pygments_lexer": "ipython2",
   "version": "2.7.6"
  }
 },
 "nbformat": 4,
 "nbformat_minor": 5
}
