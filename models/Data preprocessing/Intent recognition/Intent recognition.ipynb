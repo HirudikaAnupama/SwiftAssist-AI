{
 "cells": [
  {
   "cell_type": "code",
   "id": "initial_id",
   "metadata": {
    "collapsed": true,
    "ExecuteTime": {
     "end_time": "2025-03-16T20:16:45.185973Z",
     "start_time": "2025-03-16T20:16:45.178534Z"
    }
   },
   "source": "import pandas as pd",
   "outputs": [],
   "execution_count": 39
  },
  {
   "metadata": {
    "ExecuteTime": {
     "end_time": "2025-03-16T20:16:45.742467Z",
     "start_time": "2025-03-16T20:16:45.663920Z"
    }
   },
   "cell_type": "code",
   "source": [
    "D1 = pd.read_csv('data/Intent recognition/Preprocessed data/D1.csv')\n",
    "D2 = pd.read_csv('data/Intent recognition/Preprocessed data/D2.csv')\n",
    "D3 = pd.read_csv('data/Intent recognition/Preprocessed data/D3.csv')\n",
    "D4 = pd.read_csv('data/Intent recognition/Preprocessed data/D4.csv')"
   ],
   "id": "b89e74916813f43f",
   "outputs": [],
   "execution_count": 40
  },
  {
   "metadata": {
    "ExecuteTime": {
     "end_time": "2025-03-16T20:16:46.033795Z",
     "start_time": "2025-03-16T20:16:46.009914Z"
    }
   },
   "cell_type": "code",
   "source": "D1",
   "id": "4ee70a79e5299316",
   "outputs": [
    {
     "data": {
      "text/plain": [
       "                                                    text                intent\n",
       "0       listen to westbam alumb allergic on google music             PlayMusic\n",
       "1             add step to me to the 50 clásicos playlist         AddToPlaylist\n",
       "2      i give this current textbook a rating value of...              RateBook\n",
       "3                   play the song little robin redbreast             PlayMusic\n",
       "4      please add iris dement to my playlist this is ...         AddToPlaylist\n",
       "...                                                  ...                   ...\n",
       "14211          is any cinema playing the spirit of youth  SearchScreeningEvent\n",
       "14212  what are the movie times for animated movies i...  SearchScreeningEvent\n",
       "14213  what s the movie schedule at great escape thea...  SearchScreeningEvent\n",
       "14214  show the times for cheers for miss bishop at d...  SearchScreeningEvent\n",
       "14215   i want to see married to the enemy 2 at a cinema  SearchScreeningEvent\n",
       "\n",
       "[14216 rows x 2 columns]"
      ],
      "text/html": [
       "<div>\n",
       "<style scoped>\n",
       "    .dataframe tbody tr th:only-of-type {\n",
       "        vertical-align: middle;\n",
       "    }\n",
       "\n",
       "    .dataframe tbody tr th {\n",
       "        vertical-align: top;\n",
       "    }\n",
       "\n",
       "    .dataframe thead th {\n",
       "        text-align: right;\n",
       "    }\n",
       "</style>\n",
       "<table border=\"1\" class=\"dataframe\">\n",
       "  <thead>\n",
       "    <tr style=\"text-align: right;\">\n",
       "      <th></th>\n",
       "      <th>text</th>\n",
       "      <th>intent</th>\n",
       "    </tr>\n",
       "  </thead>\n",
       "  <tbody>\n",
       "    <tr>\n",
       "      <th>0</th>\n",
       "      <td>listen to westbam alumb allergic on google music</td>\n",
       "      <td>PlayMusic</td>\n",
       "    </tr>\n",
       "    <tr>\n",
       "      <th>1</th>\n",
       "      <td>add step to me to the 50 clásicos playlist</td>\n",
       "      <td>AddToPlaylist</td>\n",
       "    </tr>\n",
       "    <tr>\n",
       "      <th>2</th>\n",
       "      <td>i give this current textbook a rating value of...</td>\n",
       "      <td>RateBook</td>\n",
       "    </tr>\n",
       "    <tr>\n",
       "      <th>3</th>\n",
       "      <td>play the song little robin redbreast</td>\n",
       "      <td>PlayMusic</td>\n",
       "    </tr>\n",
       "    <tr>\n",
       "      <th>4</th>\n",
       "      <td>please add iris dement to my playlist this is ...</td>\n",
       "      <td>AddToPlaylist</td>\n",
       "    </tr>\n",
       "    <tr>\n",
       "      <th>...</th>\n",
       "      <td>...</td>\n",
       "      <td>...</td>\n",
       "    </tr>\n",
       "    <tr>\n",
       "      <th>14211</th>\n",
       "      <td>is any cinema playing the spirit of youth</td>\n",
       "      <td>SearchScreeningEvent</td>\n",
       "    </tr>\n",
       "    <tr>\n",
       "      <th>14212</th>\n",
       "      <td>what are the movie times for animated movies i...</td>\n",
       "      <td>SearchScreeningEvent</td>\n",
       "    </tr>\n",
       "    <tr>\n",
       "      <th>14213</th>\n",
       "      <td>what s the movie schedule at great escape thea...</td>\n",
       "      <td>SearchScreeningEvent</td>\n",
       "    </tr>\n",
       "    <tr>\n",
       "      <th>14214</th>\n",
       "      <td>show the times for cheers for miss bishop at d...</td>\n",
       "      <td>SearchScreeningEvent</td>\n",
       "    </tr>\n",
       "    <tr>\n",
       "      <th>14215</th>\n",
       "      <td>i want to see married to the enemy 2 at a cinema</td>\n",
       "      <td>SearchScreeningEvent</td>\n",
       "    </tr>\n",
       "  </tbody>\n",
       "</table>\n",
       "<p>14216 rows × 2 columns</p>\n",
       "</div>"
      ]
     },
     "execution_count": 41,
     "metadata": {},
     "output_type": "execute_result"
    }
   ],
   "execution_count": 41
  },
  {
   "metadata": {
    "ExecuteTime": {
     "end_time": "2025-03-16T20:16:46.376715Z",
     "start_time": "2025-03-16T20:16:46.367863Z"
    }
   },
   "cell_type": "code",
   "source": "D2 = D2.drop(columns=['text_length'])",
   "id": "688a838313010f96",
   "outputs": [],
   "execution_count": 42
  },
  {
   "metadata": {
    "ExecuteTime": {
     "end_time": "2025-03-16T20:16:46.738424Z",
     "start_time": "2025-03-16T20:16:46.728778Z"
    }
   },
   "cell_type": "code",
   "source": "D2",
   "id": "b66cb9b5d716cd6d",
   "outputs": [
    {
     "data": {
      "text/plain": [
       "                                          text     intent\n",
       "0                                           hi   Greeting\n",
       "1                                     hi there   Greeting\n",
       "2                                         hola   Greeting\n",
       "3                                        hello   Greeting\n",
       "4                                  hello there   Greeting\n",
       "..                                         ...        ...\n",
       "138         can you prove you have a conscious  SelfAware\n",
       "139     can you prove you are selfaware please  SelfAware\n",
       "140    can you prove you are self aware please  SelfAware\n",
       "141  can you prove you have a conscious please  SelfAware\n",
       "142                 prove you have a conscious  SelfAware\n",
       "\n",
       "[143 rows x 2 columns]"
      ],
      "text/html": [
       "<div>\n",
       "<style scoped>\n",
       "    .dataframe tbody tr th:only-of-type {\n",
       "        vertical-align: middle;\n",
       "    }\n",
       "\n",
       "    .dataframe tbody tr th {\n",
       "        vertical-align: top;\n",
       "    }\n",
       "\n",
       "    .dataframe thead th {\n",
       "        text-align: right;\n",
       "    }\n",
       "</style>\n",
       "<table border=\"1\" class=\"dataframe\">\n",
       "  <thead>\n",
       "    <tr style=\"text-align: right;\">\n",
       "      <th></th>\n",
       "      <th>text</th>\n",
       "      <th>intent</th>\n",
       "    </tr>\n",
       "  </thead>\n",
       "  <tbody>\n",
       "    <tr>\n",
       "      <th>0</th>\n",
       "      <td>hi</td>\n",
       "      <td>Greeting</td>\n",
       "    </tr>\n",
       "    <tr>\n",
       "      <th>1</th>\n",
       "      <td>hi there</td>\n",
       "      <td>Greeting</td>\n",
       "    </tr>\n",
       "    <tr>\n",
       "      <th>2</th>\n",
       "      <td>hola</td>\n",
       "      <td>Greeting</td>\n",
       "    </tr>\n",
       "    <tr>\n",
       "      <th>3</th>\n",
       "      <td>hello</td>\n",
       "      <td>Greeting</td>\n",
       "    </tr>\n",
       "    <tr>\n",
       "      <th>4</th>\n",
       "      <td>hello there</td>\n",
       "      <td>Greeting</td>\n",
       "    </tr>\n",
       "    <tr>\n",
       "      <th>...</th>\n",
       "      <td>...</td>\n",
       "      <td>...</td>\n",
       "    </tr>\n",
       "    <tr>\n",
       "      <th>138</th>\n",
       "      <td>can you prove you have a conscious</td>\n",
       "      <td>SelfAware</td>\n",
       "    </tr>\n",
       "    <tr>\n",
       "      <th>139</th>\n",
       "      <td>can you prove you are selfaware please</td>\n",
       "      <td>SelfAware</td>\n",
       "    </tr>\n",
       "    <tr>\n",
       "      <th>140</th>\n",
       "      <td>can you prove you are self aware please</td>\n",
       "      <td>SelfAware</td>\n",
       "    </tr>\n",
       "    <tr>\n",
       "      <th>141</th>\n",
       "      <td>can you prove you have a conscious please</td>\n",
       "      <td>SelfAware</td>\n",
       "    </tr>\n",
       "    <tr>\n",
       "      <th>142</th>\n",
       "      <td>prove you have a conscious</td>\n",
       "      <td>SelfAware</td>\n",
       "    </tr>\n",
       "  </tbody>\n",
       "</table>\n",
       "<p>143 rows × 2 columns</p>\n",
       "</div>"
      ]
     },
     "execution_count": 43,
     "metadata": {},
     "output_type": "execute_result"
    }
   ],
   "execution_count": 43
  },
  {
   "metadata": {
    "ExecuteTime": {
     "end_time": "2025-03-16T20:16:47.214573Z",
     "start_time": "2025-03-16T20:16:47.200414Z"
    }
   },
   "cell_type": "code",
   "source": "D3",
   "id": "d6edce6392b66ec8",
   "outputs": [
    {
     "data": {
      "text/plain": [
       "                                                    text        intent\n",
       "0       question about cancelling order {{Order Number}}  cancel_order\n",
       "1      i have a question about cancelling oorder {{Or...  cancel_order\n",
       "2        i need help cancelling puchase {{Order Number}}  cancel_order\n",
       "3             I need to cancel purchase {{Order Number}}  cancel_order\n",
       "4      I cannot afford this order, cancel purchase {{...  cancel_order\n",
       "...                                                  ...           ...\n",
       "26867  I am waiting for a rebate of {{Refund Amount}}...  track_refund\n",
       "26868  how to see if there is anything wrong with my ...  track_refund\n",
       "26869  I'm waiting for a reimbjrsement of {{Currency ...  track_refund\n",
       "26870  I don't know what to do to see my reimbursemen...  track_refund\n",
       "26871  I need to know if there is anything new on the...  track_refund\n",
       "\n",
       "[26872 rows x 2 columns]"
      ],
      "text/html": [
       "<div>\n",
       "<style scoped>\n",
       "    .dataframe tbody tr th:only-of-type {\n",
       "        vertical-align: middle;\n",
       "    }\n",
       "\n",
       "    .dataframe tbody tr th {\n",
       "        vertical-align: top;\n",
       "    }\n",
       "\n",
       "    .dataframe thead th {\n",
       "        text-align: right;\n",
       "    }\n",
       "</style>\n",
       "<table border=\"1\" class=\"dataframe\">\n",
       "  <thead>\n",
       "    <tr style=\"text-align: right;\">\n",
       "      <th></th>\n",
       "      <th>text</th>\n",
       "      <th>intent</th>\n",
       "    </tr>\n",
       "  </thead>\n",
       "  <tbody>\n",
       "    <tr>\n",
       "      <th>0</th>\n",
       "      <td>question about cancelling order {{Order Number}}</td>\n",
       "      <td>cancel_order</td>\n",
       "    </tr>\n",
       "    <tr>\n",
       "      <th>1</th>\n",
       "      <td>i have a question about cancelling oorder {{Or...</td>\n",
       "      <td>cancel_order</td>\n",
       "    </tr>\n",
       "    <tr>\n",
       "      <th>2</th>\n",
       "      <td>i need help cancelling puchase {{Order Number}}</td>\n",
       "      <td>cancel_order</td>\n",
       "    </tr>\n",
       "    <tr>\n",
       "      <th>3</th>\n",
       "      <td>I need to cancel purchase {{Order Number}}</td>\n",
       "      <td>cancel_order</td>\n",
       "    </tr>\n",
       "    <tr>\n",
       "      <th>4</th>\n",
       "      <td>I cannot afford this order, cancel purchase {{...</td>\n",
       "      <td>cancel_order</td>\n",
       "    </tr>\n",
       "    <tr>\n",
       "      <th>...</th>\n",
       "      <td>...</td>\n",
       "      <td>...</td>\n",
       "    </tr>\n",
       "    <tr>\n",
       "      <th>26867</th>\n",
       "      <td>I am waiting for a rebate of {{Refund Amount}}...</td>\n",
       "      <td>track_refund</td>\n",
       "    </tr>\n",
       "    <tr>\n",
       "      <th>26868</th>\n",
       "      <td>how to see if there is anything wrong with my ...</td>\n",
       "      <td>track_refund</td>\n",
       "    </tr>\n",
       "    <tr>\n",
       "      <th>26869</th>\n",
       "      <td>I'm waiting for a reimbjrsement of {{Currency ...</td>\n",
       "      <td>track_refund</td>\n",
       "    </tr>\n",
       "    <tr>\n",
       "      <th>26870</th>\n",
       "      <td>I don't know what to do to see my reimbursemen...</td>\n",
       "      <td>track_refund</td>\n",
       "    </tr>\n",
       "    <tr>\n",
       "      <th>26871</th>\n",
       "      <td>I need to know if there is anything new on the...</td>\n",
       "      <td>track_refund</td>\n",
       "    </tr>\n",
       "  </tbody>\n",
       "</table>\n",
       "<p>26872 rows × 2 columns</p>\n",
       "</div>"
      ]
     },
     "execution_count": 44,
     "metadata": {},
     "output_type": "execute_result"
    }
   ],
   "execution_count": 44
  },
  {
   "metadata": {
    "ExecuteTime": {
     "end_time": "2025-03-16T20:16:47.693640Z",
     "start_time": "2025-03-16T20:16:47.679353Z"
    }
   },
   "cell_type": "code",
   "source": "D4",
   "id": "dc4fabadbc14cf32",
   "outputs": [
    {
     "data": {
      "text/plain": [
       "                                                   text        intent\n",
       "0           I have a question about cancelling an order  cancel_order\n",
       "1                  help canceling the order I have made  cancel_order\n",
       "2      I do not know how to cancel an order I have made  cancel_order\n",
       "3             where can I cancel the last order I made?  cancel_order\n",
       "4                    I don't want the last order I made  cancel_order\n",
       "...                                                 ...           ...\n",
       "8170                   I try to check the refund status  track_refund\n",
       "8171       I want assistance to check the refund status  track_refund\n",
       "8172  I want assistance checking the status of the r...  track_refund\n",
       "8173                  how can I check my refund status?  track_refund\n",
       "8174                       where do I track the refund?  track_refund\n",
       "\n",
       "[8175 rows x 2 columns]"
      ],
      "text/html": [
       "<div>\n",
       "<style scoped>\n",
       "    .dataframe tbody tr th:only-of-type {\n",
       "        vertical-align: middle;\n",
       "    }\n",
       "\n",
       "    .dataframe tbody tr th {\n",
       "        vertical-align: top;\n",
       "    }\n",
       "\n",
       "    .dataframe thead th {\n",
       "        text-align: right;\n",
       "    }\n",
       "</style>\n",
       "<table border=\"1\" class=\"dataframe\">\n",
       "  <thead>\n",
       "    <tr style=\"text-align: right;\">\n",
       "      <th></th>\n",
       "      <th>text</th>\n",
       "      <th>intent</th>\n",
       "    </tr>\n",
       "  </thead>\n",
       "  <tbody>\n",
       "    <tr>\n",
       "      <th>0</th>\n",
       "      <td>I have a question about cancelling an order</td>\n",
       "      <td>cancel_order</td>\n",
       "    </tr>\n",
       "    <tr>\n",
       "      <th>1</th>\n",
       "      <td>help canceling the order I have made</td>\n",
       "      <td>cancel_order</td>\n",
       "    </tr>\n",
       "    <tr>\n",
       "      <th>2</th>\n",
       "      <td>I do not know how to cancel an order I have made</td>\n",
       "      <td>cancel_order</td>\n",
       "    </tr>\n",
       "    <tr>\n",
       "      <th>3</th>\n",
       "      <td>where can I cancel the last order I made?</td>\n",
       "      <td>cancel_order</td>\n",
       "    </tr>\n",
       "    <tr>\n",
       "      <th>4</th>\n",
       "      <td>I don't want the last order I made</td>\n",
       "      <td>cancel_order</td>\n",
       "    </tr>\n",
       "    <tr>\n",
       "      <th>...</th>\n",
       "      <td>...</td>\n",
       "      <td>...</td>\n",
       "    </tr>\n",
       "    <tr>\n",
       "      <th>8170</th>\n",
       "      <td>I try to check the refund status</td>\n",
       "      <td>track_refund</td>\n",
       "    </tr>\n",
       "    <tr>\n",
       "      <th>8171</th>\n",
       "      <td>I want assistance to check the refund status</td>\n",
       "      <td>track_refund</td>\n",
       "    </tr>\n",
       "    <tr>\n",
       "      <th>8172</th>\n",
       "      <td>I want assistance checking the status of the r...</td>\n",
       "      <td>track_refund</td>\n",
       "    </tr>\n",
       "    <tr>\n",
       "      <th>8173</th>\n",
       "      <td>how can I check my refund status?</td>\n",
       "      <td>track_refund</td>\n",
       "    </tr>\n",
       "    <tr>\n",
       "      <th>8174</th>\n",
       "      <td>where do I track the refund?</td>\n",
       "      <td>track_refund</td>\n",
       "    </tr>\n",
       "  </tbody>\n",
       "</table>\n",
       "<p>8175 rows × 2 columns</p>\n",
       "</div>"
      ]
     },
     "execution_count": 45,
     "metadata": {},
     "output_type": "execute_result"
    }
   ],
   "execution_count": 45
  },
  {
   "metadata": {
    "ExecuteTime": {
     "end_time": "2025-03-16T20:16:47.990462Z",
     "start_time": "2025-03-16T20:16:47.984372Z"
    }
   },
   "cell_type": "code",
   "source": "Data = pd.concat([D1, D2, D3, D4], ignore_index=True)",
   "id": "f52fbdd3503aa859",
   "outputs": [],
   "execution_count": 46
  },
  {
   "metadata": {
    "ExecuteTime": {
     "end_time": "2025-03-16T20:16:48.182230Z",
     "start_time": "2025-03-16T20:16:48.173834Z"
    }
   },
   "cell_type": "code",
   "source": "Data.shape",
   "id": "877b60fc1b5ccd5e",
   "outputs": [
    {
     "data": {
      "text/plain": [
       "(49406, 2)"
      ]
     },
     "execution_count": 47,
     "metadata": {},
     "output_type": "execute_result"
    }
   ],
   "execution_count": 47
  },
  {
   "metadata": {
    "ExecuteTime": {
     "end_time": "2025-03-16T20:16:48.436358Z",
     "start_time": "2025-03-16T20:16:48.381931Z"
    }
   },
   "cell_type": "code",
   "source": "Data.duplicated().sum()",
   "id": "5eecfc943a201157",
   "outputs": [
    {
     "data": {
      "text/plain": [
       "2659"
      ]
     },
     "execution_count": 48,
     "metadata": {},
     "output_type": "execute_result"
    }
   ],
   "execution_count": 48
  },
  {
   "metadata": {
    "ExecuteTime": {
     "end_time": "2025-03-16T20:16:48.627852Z",
     "start_time": "2025-03-16T20:16:48.597233Z"
    }
   },
   "cell_type": "code",
   "source": "Data = Data.drop_duplicates()",
   "id": "b699e4fc3a0baf60",
   "outputs": [],
   "execution_count": 49
  },
  {
   "metadata": {
    "ExecuteTime": {
     "end_time": "2025-03-16T20:16:48.776066Z",
     "start_time": "2025-03-16T20:16:48.761640Z"
    }
   },
   "cell_type": "code",
   "source": "Data.isna().sum()",
   "id": "41fff2dd04074863",
   "outputs": [
    {
     "data": {
      "text/plain": [
       "text      0\n",
       "intent    0\n",
       "dtype: int64"
      ]
     },
     "execution_count": 50,
     "metadata": {},
     "output_type": "execute_result"
    }
   ],
   "execution_count": 50
  },
  {
   "metadata": {
    "ExecuteTime": {
     "end_time": "2025-03-16T20:16:49.025149Z",
     "start_time": "2025-03-16T20:16:49.015543Z"
    }
   },
   "cell_type": "code",
   "source": "Data",
   "id": "2efc984682fef34a",
   "outputs": [
    {
     "data": {
      "text/plain": [
       "                                                    text         intent\n",
       "0       listen to westbam alumb allergic on google music      PlayMusic\n",
       "1             add step to me to the 50 clásicos playlist  AddToPlaylist\n",
       "2      i give this current textbook a rating value of...       RateBook\n",
       "3                   play the song little robin redbreast      PlayMusic\n",
       "4      please add iris dement to my playlist this is ...  AddToPlaylist\n",
       "...                                                  ...            ...\n",
       "49401                   I try to check the refund status   track_refund\n",
       "49402       I want assistance to check the refund status   track_refund\n",
       "49403  I want assistance checking the status of the r...   track_refund\n",
       "49404                  how can I check my refund status?   track_refund\n",
       "49405                       where do I track the refund?   track_refund\n",
       "\n",
       "[46747 rows x 2 columns]"
      ],
      "text/html": [
       "<div>\n",
       "<style scoped>\n",
       "    .dataframe tbody tr th:only-of-type {\n",
       "        vertical-align: middle;\n",
       "    }\n",
       "\n",
       "    .dataframe tbody tr th {\n",
       "        vertical-align: top;\n",
       "    }\n",
       "\n",
       "    .dataframe thead th {\n",
       "        text-align: right;\n",
       "    }\n",
       "</style>\n",
       "<table border=\"1\" class=\"dataframe\">\n",
       "  <thead>\n",
       "    <tr style=\"text-align: right;\">\n",
       "      <th></th>\n",
       "      <th>text</th>\n",
       "      <th>intent</th>\n",
       "    </tr>\n",
       "  </thead>\n",
       "  <tbody>\n",
       "    <tr>\n",
       "      <th>0</th>\n",
       "      <td>listen to westbam alumb allergic on google music</td>\n",
       "      <td>PlayMusic</td>\n",
       "    </tr>\n",
       "    <tr>\n",
       "      <th>1</th>\n",
       "      <td>add step to me to the 50 clásicos playlist</td>\n",
       "      <td>AddToPlaylist</td>\n",
       "    </tr>\n",
       "    <tr>\n",
       "      <th>2</th>\n",
       "      <td>i give this current textbook a rating value of...</td>\n",
       "      <td>RateBook</td>\n",
       "    </tr>\n",
       "    <tr>\n",
       "      <th>3</th>\n",
       "      <td>play the song little robin redbreast</td>\n",
       "      <td>PlayMusic</td>\n",
       "    </tr>\n",
       "    <tr>\n",
       "      <th>4</th>\n",
       "      <td>please add iris dement to my playlist this is ...</td>\n",
       "      <td>AddToPlaylist</td>\n",
       "    </tr>\n",
       "    <tr>\n",
       "      <th>...</th>\n",
       "      <td>...</td>\n",
       "      <td>...</td>\n",
       "    </tr>\n",
       "    <tr>\n",
       "      <th>49401</th>\n",
       "      <td>I try to check the refund status</td>\n",
       "      <td>track_refund</td>\n",
       "    </tr>\n",
       "    <tr>\n",
       "      <th>49402</th>\n",
       "      <td>I want assistance to check the refund status</td>\n",
       "      <td>track_refund</td>\n",
       "    </tr>\n",
       "    <tr>\n",
       "      <th>49403</th>\n",
       "      <td>I want assistance checking the status of the r...</td>\n",
       "      <td>track_refund</td>\n",
       "    </tr>\n",
       "    <tr>\n",
       "      <th>49404</th>\n",
       "      <td>how can I check my refund status?</td>\n",
       "      <td>track_refund</td>\n",
       "    </tr>\n",
       "    <tr>\n",
       "      <th>49405</th>\n",
       "      <td>where do I track the refund?</td>\n",
       "      <td>track_refund</td>\n",
       "    </tr>\n",
       "  </tbody>\n",
       "</table>\n",
       "<p>46747 rows × 2 columns</p>\n",
       "</div>"
      ]
     },
     "execution_count": 51,
     "metadata": {},
     "output_type": "execute_result"
    }
   ],
   "execution_count": 51
  },
  {
   "metadata": {
    "ExecuteTime": {
     "end_time": "2025-03-16T20:16:49.498576Z",
     "start_time": "2025-03-16T20:16:49.491616Z"
    }
   },
   "cell_type": "code",
   "source": "count = Data[\"intent\"].value_counts()",
   "id": "257b12672a9eba13",
   "outputs": [],
   "execution_count": 52
  },
  {
   "metadata": {
    "ExecuteTime": {
     "end_time": "2025-03-16T20:16:49.851704Z",
     "start_time": "2025-03-16T20:16:49.845246Z"
    }
   },
   "cell_type": "code",
   "source": "count",
   "id": "c90121a6aaee0656",
   "outputs": [
    {
     "data": {
      "text/plain": [
       "intent\n",
       "GetWeather                  2086\n",
       "BookRestaurant              2068\n",
       "PlayMusic                   2064\n",
       "SearchCreativeWork          2051\n",
       "AddToPlaylist               2035\n",
       "RateBook                    1991\n",
       "SearchScreeningEvent        1921\n",
       "place_order                 1292\n",
       "payment_issue               1291\n",
       "review                      1289\n",
       "recover_password            1289\n",
       "set_up_shipping_address     1287\n",
       "delivery_period             1285\n",
       "registration_problems       1275\n",
       "check_refund_policy         1274\n",
       "complaint                   1274\n",
       "check_payment_methods       1273\n",
       "newsletter_subscription     1267\n",
       "contact_customer_service    1265\n",
       "contact_human_agent         1262\n",
       "change_shipping_address     1252\n",
       "check_invoice               1233\n",
       "check_cancellation_fee      1228\n",
       "get_invoice                 1221\n",
       "delete_account              1214\n",
       "get_refund                  1197\n",
       "create_account              1187\n",
       "change_order                1171\n",
       "switch_account              1142\n",
       "track_order                 1107\n",
       "edit_account                1061\n",
       "track_refund                1002\n",
       "delivery_options             958\n",
       "cancel_order                 793\n",
       "GreetingResponse               8\n",
       "CourtesyGreetingResponse       8\n",
       "Shutup                         7\n",
       "Greeting                       7\n",
       "CourtesyGreeting               7\n",
       "CurrentHumanQuery              7\n",
       "TimeQuery                      7\n",
       "NotTalking2U                   7\n",
       "PodBayDoorResponse             7\n",
       "SelfAware                      7\n",
       "Clever                         7\n",
       "PodBayDoor                     7\n",
       "Thanks                         6\n",
       "CourtesyGoodBye                6\n",
       "RealNameQuery                  6\n",
       "NameQuery                      6\n",
       "WhoAmI                         6\n",
       "Gossip                         6\n",
       "Jokes                          6\n",
       "UnderstandQuery                6\n",
       "Swearing                       4\n",
       "GoodBye                        4\n",
       "Name: count, dtype: int64"
      ]
     },
     "execution_count": 53,
     "metadata": {},
     "output_type": "execute_result"
    }
   ],
   "execution_count": 53
  },
  {
   "metadata": {
    "ExecuteTime": {
     "end_time": "2025-03-16T20:16:51.511993Z",
     "start_time": "2025-03-16T20:16:51.100715Z"
    }
   },
   "cell_type": "code",
   "source": [
    "import re\n",
    "\n",
    "# Clean text function\n",
    "def clean_text(text):\n",
    "    # Handle missing or non-string values\n",
    "    if not isinstance(text, str):\n",
    "        return text  # Return as-is (e.g., for NaN or None)\n",
    "    \n",
    "    # Convert to lowercase\n",
    "    text = text.lower()\n",
    "    # Remove special characters (including underscores)\n",
    "    text = re.sub(r'[^\\w\\s]', '', text)  # Removes everything except alphanumeric and whitespace\n",
    "    text = text.replace('_', '')  # Explicitly remove underscores\n",
    "    # Remove extra spaces\n",
    "    text = re.sub(r'\\s+', ' ', text).strip()\n",
    "    return text\n",
    "\n",
    "# Apply clean_text to the DataFrame columns\n",
    "Data.loc[:, 'text'] = Data['text'].apply(clean_text)\n",
    "# Check for non-string values in the 'intent' column\n",
    "# Apply clean_text to the 'intent' column\n",
    "Data.loc[:, 'intent'] = Data['intent'].apply(clean_text)\n",
    "\n",
    "print(Data.head())"
   ],
   "id": "3e9b8f7b2698b0a1",
   "outputs": [
    {
     "name": "stdout",
     "output_type": "stream",
     "text": [
      "                                                text         intent\n",
      "0   listen to westbam alumb allergic on google music      playmusic\n",
      "1         add step to me to the 50 clásicos playlist  addtoplaylist\n",
      "2  i give this current textbook a rating value of...       ratebook\n",
      "3               play the song little robin redbreast      playmusic\n",
      "4  please add iris dement to my playlist this is ...  addtoplaylist\n"
     ]
    }
   ],
   "execution_count": 54
  },
  {
   "metadata": {
    "ExecuteTime": {
     "end_time": "2025-03-16T20:16:52.493204Z",
     "start_time": "2025-03-16T20:16:52.485218Z"
    }
   },
   "cell_type": "code",
   "source": "Data",
   "id": "5ef376db7358d1c4",
   "outputs": [
    {
     "data": {
      "text/plain": [
       "                                                    text         intent\n",
       "0       listen to westbam alumb allergic on google music      playmusic\n",
       "1             add step to me to the 50 clásicos playlist  addtoplaylist\n",
       "2      i give this current textbook a rating value of...       ratebook\n",
       "3                   play the song little robin redbreast      playmusic\n",
       "4      please add iris dement to my playlist this is ...  addtoplaylist\n",
       "...                                                  ...            ...\n",
       "49401                   i try to check the refund status    trackrefund\n",
       "49402       i want assistance to check the refund status    trackrefund\n",
       "49403  i want assistance checking the status of the r...    trackrefund\n",
       "49404                   how can i check my refund status    trackrefund\n",
       "49405                        where do i track the refund    trackrefund\n",
       "\n",
       "[46747 rows x 2 columns]"
      ],
      "text/html": [
       "<div>\n",
       "<style scoped>\n",
       "    .dataframe tbody tr th:only-of-type {\n",
       "        vertical-align: middle;\n",
       "    }\n",
       "\n",
       "    .dataframe tbody tr th {\n",
       "        vertical-align: top;\n",
       "    }\n",
       "\n",
       "    .dataframe thead th {\n",
       "        text-align: right;\n",
       "    }\n",
       "</style>\n",
       "<table border=\"1\" class=\"dataframe\">\n",
       "  <thead>\n",
       "    <tr style=\"text-align: right;\">\n",
       "      <th></th>\n",
       "      <th>text</th>\n",
       "      <th>intent</th>\n",
       "    </tr>\n",
       "  </thead>\n",
       "  <tbody>\n",
       "    <tr>\n",
       "      <th>0</th>\n",
       "      <td>listen to westbam alumb allergic on google music</td>\n",
       "      <td>playmusic</td>\n",
       "    </tr>\n",
       "    <tr>\n",
       "      <th>1</th>\n",
       "      <td>add step to me to the 50 clásicos playlist</td>\n",
       "      <td>addtoplaylist</td>\n",
       "    </tr>\n",
       "    <tr>\n",
       "      <th>2</th>\n",
       "      <td>i give this current textbook a rating value of...</td>\n",
       "      <td>ratebook</td>\n",
       "    </tr>\n",
       "    <tr>\n",
       "      <th>3</th>\n",
       "      <td>play the song little robin redbreast</td>\n",
       "      <td>playmusic</td>\n",
       "    </tr>\n",
       "    <tr>\n",
       "      <th>4</th>\n",
       "      <td>please add iris dement to my playlist this is ...</td>\n",
       "      <td>addtoplaylist</td>\n",
       "    </tr>\n",
       "    <tr>\n",
       "      <th>...</th>\n",
       "      <td>...</td>\n",
       "      <td>...</td>\n",
       "    </tr>\n",
       "    <tr>\n",
       "      <th>49401</th>\n",
       "      <td>i try to check the refund status</td>\n",
       "      <td>trackrefund</td>\n",
       "    </tr>\n",
       "    <tr>\n",
       "      <th>49402</th>\n",
       "      <td>i want assistance to check the refund status</td>\n",
       "      <td>trackrefund</td>\n",
       "    </tr>\n",
       "    <tr>\n",
       "      <th>49403</th>\n",
       "      <td>i want assistance checking the status of the r...</td>\n",
       "      <td>trackrefund</td>\n",
       "    </tr>\n",
       "    <tr>\n",
       "      <th>49404</th>\n",
       "      <td>how can i check my refund status</td>\n",
       "      <td>trackrefund</td>\n",
       "    </tr>\n",
       "    <tr>\n",
       "      <th>49405</th>\n",
       "      <td>where do i track the refund</td>\n",
       "      <td>trackrefund</td>\n",
       "    </tr>\n",
       "  </tbody>\n",
       "</table>\n",
       "<p>46747 rows × 2 columns</p>\n",
       "</div>"
      ]
     },
     "execution_count": 55,
     "metadata": {},
     "output_type": "execute_result"
    }
   ],
   "execution_count": 55
  },
  {
   "metadata": {
    "ExecuteTime": {
     "end_time": "2025-03-16T20:22:04.612155Z",
     "start_time": "2025-03-16T20:22:04.603810Z"
    }
   },
   "cell_type": "code",
   "source": [
    "# Get unique intent names\n",
    "unique_intents = Data['intent'].unique()\n",
    "print(unique_intents)"
   ],
   "id": "1e5ac4c17f4b8fb2",
   "outputs": [
    {
     "name": "stdout",
     "output_type": "stream",
     "text": [
      "['playmusic' 'addtoplaylist' 'ratebook' 'searchscreeningevent'\n",
      " 'bookrestaurant' 'getweather' 'searchcreativework' 'greeting'\n",
      " 'greetingresponse' 'courtesygreeting' 'courtesygreetingresponse'\n",
      " 'currenthumanquery' 'namequery' 'realnamequery' 'timequery' 'thanks'\n",
      " 'nottalking2u' 'understandquery' 'shutup' 'swearing' 'goodbye'\n",
      " 'courtesygoodbye' 'whoami' 'clever' 'gossip' 'jokes' 'podbaydoor'\n",
      " 'podbaydoorresponse' 'selfaware' 'cancelorder' 'changeorder'\n",
      " 'changeshippingaddress' 'checkcancellationfee' 'checkinvoice'\n",
      " 'checkpaymentmethods' 'checkrefundpolicy' 'complaint'\n",
      " 'contactcustomerservice' 'contacthumanagent' 'createaccount'\n",
      " 'deleteaccount' 'deliveryoptions' 'deliveryperiod' 'editaccount'\n",
      " 'getinvoice' 'getrefund' 'newslettersubscription' 'paymentissue'\n",
      " 'placeorder' 'recoverpassword' 'registrationproblems' 'review'\n",
      " 'setupshippingaddress' 'switchaccount' 'trackorder' 'trackrefund']\n"
     ]
    }
   ],
   "execution_count": 58
  },
  {
   "metadata": {
    "ExecuteTime": {
     "end_time": "2025-03-16T20:23:19.501245Z",
     "start_time": "2025-03-16T20:23:19.419577Z"
    }
   },
   "cell_type": "code",
   "source": "Data.to_csv('data/Intent recognition/Preprocessed data/Data.csv', index=False)",
   "id": "8c2f04574feaee47",
   "outputs": [],
   "execution_count": 59
  },
  {
   "metadata": {},
   "cell_type": "code",
   "outputs": [],
   "execution_count": null,
   "source": "",
   "id": "c21dfe97d73e98e2"
  }
 ],
 "metadata": {
  "kernelspec": {
   "display_name": "Python 3",
   "language": "python",
   "name": "python3"
  },
  "language_info": {
   "codemirror_mode": {
    "name": "ipython",
    "version": 2
   },
   "file_extension": ".py",
   "mimetype": "text/x-python",
   "name": "python",
   "nbconvert_exporter": "python",
   "pygments_lexer": "ipython2",
   "version": "2.7.6"
  }
 },
 "nbformat": 4,
 "nbformat_minor": 5
}
