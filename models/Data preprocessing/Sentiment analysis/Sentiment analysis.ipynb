{
 "cells": [
  {
   "cell_type": "code",
   "id": "initial_id",
   "metadata": {
    "collapsed": true,
    "ExecuteTime": {
     "end_time": "2025-03-18T20:05:00.761417Z",
     "start_time": "2025-03-18T20:04:59.703099Z"
    }
   },
   "source": [
    "import pandas as pd\n",
    "import matplotlib.pyplot as plt"
   ],
   "outputs": [],
   "execution_count": 37
  },
  {
   "metadata": {
    "ExecuteTime": {
     "end_time": "2025-03-18T20:01:42.244153Z",
     "start_time": "2025-03-18T20:01:40.381224Z"
    }
   },
   "cell_type": "code",
   "source": [
    "D1 = pd.read_csv(\"data/Sentiment analysis/Preprocessed data/D1.csv\")\n",
    "D2 = pd.read_csv(\"data/Sentiment analysis/Preprocessed data/D2.csv\")\n",
    "D3 = pd.read_csv(\"data/Sentiment analysis/Preprocessed data/D3.csv\")\n",
    "D4 = pd.read_csv(\"data/Sentiment analysis/Preprocessed data/D4.csv\")"
   ],
   "id": "1dfcc60a58dc7f0",
   "outputs": [],
   "execution_count": 16
  },
  {
   "metadata": {
    "ExecuteTime": {
     "end_time": "2025-03-18T20:01:42.256187Z",
     "start_time": "2025-03-18T20:01:42.246422Z"
    }
   },
   "cell_type": "code",
   "source": "D1",
   "id": "e99fb65683ed4fc9",
   "outputs": [
    {
     "data": {
      "text/plain": [
       "       Unnamed: 0                                               text  \\\n",
       "0               0                                      dhepburn said   \n",
       "1               1      plus youve added commercials experience tacky   \n",
       "2               2       didnt today must mean need take another trip   \n",
       "3               3  really aggressive blast obnoxious entertainmen...   \n",
       "4               4                               really big bad thing   \n",
       "...           ...                                                ...   \n",
       "14635       14635                 thank got different flight chicago   \n",
       "14636       14636  leaving minutes late flight warnings communica...   \n",
       "14637       14637          please bring american airlines blackberry   \n",
       "14638       14638  money change flight dont answer phones suggest...   \n",
       "14639       14639  ppl need know many seats next flight plz put u...   \n",
       "\n",
       "       sentiment  \n",
       "0              1  \n",
       "1              2  \n",
       "2              1  \n",
       "3              0  \n",
       "4              0  \n",
       "...          ...  \n",
       "14635          2  \n",
       "14636          0  \n",
       "14637          1  \n",
       "14638          0  \n",
       "14639          1  \n",
       "\n",
       "[14640 rows x 3 columns]"
      ],
      "text/html": [
       "<div>\n",
       "<style scoped>\n",
       "    .dataframe tbody tr th:only-of-type {\n",
       "        vertical-align: middle;\n",
       "    }\n",
       "\n",
       "    .dataframe tbody tr th {\n",
       "        vertical-align: top;\n",
       "    }\n",
       "\n",
       "    .dataframe thead th {\n",
       "        text-align: right;\n",
       "    }\n",
       "</style>\n",
       "<table border=\"1\" class=\"dataframe\">\n",
       "  <thead>\n",
       "    <tr style=\"text-align: right;\">\n",
       "      <th></th>\n",
       "      <th>Unnamed: 0</th>\n",
       "      <th>text</th>\n",
       "      <th>sentiment</th>\n",
       "    </tr>\n",
       "  </thead>\n",
       "  <tbody>\n",
       "    <tr>\n",
       "      <th>0</th>\n",
       "      <td>0</td>\n",
       "      <td>dhepburn said</td>\n",
       "      <td>1</td>\n",
       "    </tr>\n",
       "    <tr>\n",
       "      <th>1</th>\n",
       "      <td>1</td>\n",
       "      <td>plus youve added commercials experience tacky</td>\n",
       "      <td>2</td>\n",
       "    </tr>\n",
       "    <tr>\n",
       "      <th>2</th>\n",
       "      <td>2</td>\n",
       "      <td>didnt today must mean need take another trip</td>\n",
       "      <td>1</td>\n",
       "    </tr>\n",
       "    <tr>\n",
       "      <th>3</th>\n",
       "      <td>3</td>\n",
       "      <td>really aggressive blast obnoxious entertainmen...</td>\n",
       "      <td>0</td>\n",
       "    </tr>\n",
       "    <tr>\n",
       "      <th>4</th>\n",
       "      <td>4</td>\n",
       "      <td>really big bad thing</td>\n",
       "      <td>0</td>\n",
       "    </tr>\n",
       "    <tr>\n",
       "      <th>...</th>\n",
       "      <td>...</td>\n",
       "      <td>...</td>\n",
       "      <td>...</td>\n",
       "    </tr>\n",
       "    <tr>\n",
       "      <th>14635</th>\n",
       "      <td>14635</td>\n",
       "      <td>thank got different flight chicago</td>\n",
       "      <td>2</td>\n",
       "    </tr>\n",
       "    <tr>\n",
       "      <th>14636</th>\n",
       "      <td>14636</td>\n",
       "      <td>leaving minutes late flight warnings communica...</td>\n",
       "      <td>0</td>\n",
       "    </tr>\n",
       "    <tr>\n",
       "      <th>14637</th>\n",
       "      <td>14637</td>\n",
       "      <td>please bring american airlines blackberry</td>\n",
       "      <td>1</td>\n",
       "    </tr>\n",
       "    <tr>\n",
       "      <th>14638</th>\n",
       "      <td>14638</td>\n",
       "      <td>money change flight dont answer phones suggest...</td>\n",
       "      <td>0</td>\n",
       "    </tr>\n",
       "    <tr>\n",
       "      <th>14639</th>\n",
       "      <td>14639</td>\n",
       "      <td>ppl need know many seats next flight plz put u...</td>\n",
       "      <td>1</td>\n",
       "    </tr>\n",
       "  </tbody>\n",
       "</table>\n",
       "<p>14640 rows × 3 columns</p>\n",
       "</div>"
      ]
     },
     "execution_count": 17,
     "metadata": {},
     "output_type": "execute_result"
    }
   ],
   "execution_count": 17
  },
  {
   "metadata": {
    "ExecuteTime": {
     "end_time": "2025-03-18T20:01:42.261849Z",
     "start_time": "2025-03-18T20:01:42.257691Z"
    }
   },
   "cell_type": "code",
   "source": "D1 = D1.drop(columns=['Unnamed: 0'])",
   "id": "e3ea8080ce5eac68",
   "outputs": [],
   "execution_count": 18
  },
  {
   "metadata": {
    "ExecuteTime": {
     "end_time": "2025-03-18T20:01:42.271047Z",
     "start_time": "2025-03-18T20:01:42.263870Z"
    }
   },
   "cell_type": "code",
   "source": "D1",
   "id": "7b657d8c9997be24",
   "outputs": [
    {
     "data": {
      "text/plain": [
       "                                                    text  sentiment\n",
       "0                                          dhepburn said          1\n",
       "1          plus youve added commercials experience tacky          2\n",
       "2           didnt today must mean need take another trip          1\n",
       "3      really aggressive blast obnoxious entertainmen...          0\n",
       "4                                   really big bad thing          0\n",
       "...                                                  ...        ...\n",
       "14635                 thank got different flight chicago          2\n",
       "14636  leaving minutes late flight warnings communica...          0\n",
       "14637          please bring american airlines blackberry          1\n",
       "14638  money change flight dont answer phones suggest...          0\n",
       "14639  ppl need know many seats next flight plz put u...          1\n",
       "\n",
       "[14640 rows x 2 columns]"
      ],
      "text/html": [
       "<div>\n",
       "<style scoped>\n",
       "    .dataframe tbody tr th:only-of-type {\n",
       "        vertical-align: middle;\n",
       "    }\n",
       "\n",
       "    .dataframe tbody tr th {\n",
       "        vertical-align: top;\n",
       "    }\n",
       "\n",
       "    .dataframe thead th {\n",
       "        text-align: right;\n",
       "    }\n",
       "</style>\n",
       "<table border=\"1\" class=\"dataframe\">\n",
       "  <thead>\n",
       "    <tr style=\"text-align: right;\">\n",
       "      <th></th>\n",
       "      <th>text</th>\n",
       "      <th>sentiment</th>\n",
       "    </tr>\n",
       "  </thead>\n",
       "  <tbody>\n",
       "    <tr>\n",
       "      <th>0</th>\n",
       "      <td>dhepburn said</td>\n",
       "      <td>1</td>\n",
       "    </tr>\n",
       "    <tr>\n",
       "      <th>1</th>\n",
       "      <td>plus youve added commercials experience tacky</td>\n",
       "      <td>2</td>\n",
       "    </tr>\n",
       "    <tr>\n",
       "      <th>2</th>\n",
       "      <td>didnt today must mean need take another trip</td>\n",
       "      <td>1</td>\n",
       "    </tr>\n",
       "    <tr>\n",
       "      <th>3</th>\n",
       "      <td>really aggressive blast obnoxious entertainmen...</td>\n",
       "      <td>0</td>\n",
       "    </tr>\n",
       "    <tr>\n",
       "      <th>4</th>\n",
       "      <td>really big bad thing</td>\n",
       "      <td>0</td>\n",
       "    </tr>\n",
       "    <tr>\n",
       "      <th>...</th>\n",
       "      <td>...</td>\n",
       "      <td>...</td>\n",
       "    </tr>\n",
       "    <tr>\n",
       "      <th>14635</th>\n",
       "      <td>thank got different flight chicago</td>\n",
       "      <td>2</td>\n",
       "    </tr>\n",
       "    <tr>\n",
       "      <th>14636</th>\n",
       "      <td>leaving minutes late flight warnings communica...</td>\n",
       "      <td>0</td>\n",
       "    </tr>\n",
       "    <tr>\n",
       "      <th>14637</th>\n",
       "      <td>please bring american airlines blackberry</td>\n",
       "      <td>1</td>\n",
       "    </tr>\n",
       "    <tr>\n",
       "      <th>14638</th>\n",
       "      <td>money change flight dont answer phones suggest...</td>\n",
       "      <td>0</td>\n",
       "    </tr>\n",
       "    <tr>\n",
       "      <th>14639</th>\n",
       "      <td>ppl need know many seats next flight plz put u...</td>\n",
       "      <td>1</td>\n",
       "    </tr>\n",
       "  </tbody>\n",
       "</table>\n",
       "<p>14640 rows × 2 columns</p>\n",
       "</div>"
      ]
     },
     "execution_count": 19,
     "metadata": {},
     "output_type": "execute_result"
    }
   ],
   "execution_count": 19
  },
  {
   "metadata": {
    "ExecuteTime": {
     "end_time": "2025-03-18T20:01:42.280487Z",
     "start_time": "2025-03-18T20:01:42.272061Z"
    }
   },
   "cell_type": "code",
   "source": "D2",
   "id": "ed6467c5d817e29f",
   "outputs": [
    {
     "data": {
      "text/plain": [
       "       Unnamed: 0                                               text  \\\n",
       "0               0                                   last session day   \n",
       "1               1  shanghai also really exciting precisely skyscr...   \n",
       "2               2  recession hit veronique branquinho quit compan...   \n",
       "3               3                                         happy bday   \n",
       "4               4                                               like   \n",
       "...           ...                                                ...   \n",
       "30316       27476  wish could come see u denver husband lost job ...   \n",
       "30317       27477  ive wondered rake client made clear net dont f...   \n",
       "30318       27478  yay good enjoy break probably need hectic week...   \n",
       "30319       27479                                              worth   \n",
       "30320       27480                 flirting going atg smiles yay hugs   \n",
       "\n",
       "       sentiment  \n",
       "0              1  \n",
       "1              2  \n",
       "2              0  \n",
       "3              2  \n",
       "4              2  \n",
       "...          ...  \n",
       "30316          0  \n",
       "30317          0  \n",
       "30318          2  \n",
       "30319          2  \n",
       "30320          1  \n",
       "\n",
       "[30321 rows x 3 columns]"
      ],
      "text/html": [
       "<div>\n",
       "<style scoped>\n",
       "    .dataframe tbody tr th:only-of-type {\n",
       "        vertical-align: middle;\n",
       "    }\n",
       "\n",
       "    .dataframe tbody tr th {\n",
       "        vertical-align: top;\n",
       "    }\n",
       "\n",
       "    .dataframe thead th {\n",
       "        text-align: right;\n",
       "    }\n",
       "</style>\n",
       "<table border=\"1\" class=\"dataframe\">\n",
       "  <thead>\n",
       "    <tr style=\"text-align: right;\">\n",
       "      <th></th>\n",
       "      <th>Unnamed: 0</th>\n",
       "      <th>text</th>\n",
       "      <th>sentiment</th>\n",
       "    </tr>\n",
       "  </thead>\n",
       "  <tbody>\n",
       "    <tr>\n",
       "      <th>0</th>\n",
       "      <td>0</td>\n",
       "      <td>last session day</td>\n",
       "      <td>1</td>\n",
       "    </tr>\n",
       "    <tr>\n",
       "      <th>1</th>\n",
       "      <td>1</td>\n",
       "      <td>shanghai also really exciting precisely skyscr...</td>\n",
       "      <td>2</td>\n",
       "    </tr>\n",
       "    <tr>\n",
       "      <th>2</th>\n",
       "      <td>2</td>\n",
       "      <td>recession hit veronique branquinho quit compan...</td>\n",
       "      <td>0</td>\n",
       "    </tr>\n",
       "    <tr>\n",
       "      <th>3</th>\n",
       "      <td>3</td>\n",
       "      <td>happy bday</td>\n",
       "      <td>2</td>\n",
       "    </tr>\n",
       "    <tr>\n",
       "      <th>4</th>\n",
       "      <td>4</td>\n",
       "      <td>like</td>\n",
       "      <td>2</td>\n",
       "    </tr>\n",
       "    <tr>\n",
       "      <th>...</th>\n",
       "      <td>...</td>\n",
       "      <td>...</td>\n",
       "      <td>...</td>\n",
       "    </tr>\n",
       "    <tr>\n",
       "      <th>30316</th>\n",
       "      <td>27476</td>\n",
       "      <td>wish could come see u denver husband lost job ...</td>\n",
       "      <td>0</td>\n",
       "    </tr>\n",
       "    <tr>\n",
       "      <th>30317</th>\n",
       "      <td>27477</td>\n",
       "      <td>ive wondered rake client made clear net dont f...</td>\n",
       "      <td>0</td>\n",
       "    </tr>\n",
       "    <tr>\n",
       "      <th>30318</th>\n",
       "      <td>27478</td>\n",
       "      <td>yay good enjoy break probably need hectic week...</td>\n",
       "      <td>2</td>\n",
       "    </tr>\n",
       "    <tr>\n",
       "      <th>30319</th>\n",
       "      <td>27479</td>\n",
       "      <td>worth</td>\n",
       "      <td>2</td>\n",
       "    </tr>\n",
       "    <tr>\n",
       "      <th>30320</th>\n",
       "      <td>27480</td>\n",
       "      <td>flirting going atg smiles yay hugs</td>\n",
       "      <td>1</td>\n",
       "    </tr>\n",
       "  </tbody>\n",
       "</table>\n",
       "<p>30321 rows × 3 columns</p>\n",
       "</div>"
      ]
     },
     "execution_count": 20,
     "metadata": {},
     "output_type": "execute_result"
    }
   ],
   "execution_count": 20
  },
  {
   "metadata": {
    "ExecuteTime": {
     "end_time": "2025-03-18T20:01:42.287377Z",
     "start_time": "2025-03-18T20:01:42.281862Z"
    }
   },
   "cell_type": "code",
   "source": "D2 = D2.drop(columns=['Unnamed: 0'])",
   "id": "9224ecfeff020264",
   "outputs": [],
   "execution_count": 21
  },
  {
   "metadata": {
    "ExecuteTime": {
     "end_time": "2025-03-18T20:01:42.296716Z",
     "start_time": "2025-03-18T20:01:42.288378Z"
    }
   },
   "cell_type": "code",
   "source": "D2",
   "id": "5ba84efe3fa3b98a",
   "outputs": [
    {
     "data": {
      "text/plain": [
       "                                                    text  sentiment\n",
       "0                                       last session day          1\n",
       "1      shanghai also really exciting precisely skyscr...          2\n",
       "2      recession hit veronique branquinho quit compan...          0\n",
       "3                                             happy bday          2\n",
       "4                                                   like          2\n",
       "...                                                  ...        ...\n",
       "30316  wish could come see u denver husband lost job ...          0\n",
       "30317  ive wondered rake client made clear net dont f...          0\n",
       "30318  yay good enjoy break probably need hectic week...          2\n",
       "30319                                              worth          2\n",
       "30320                 flirting going atg smiles yay hugs          1\n",
       "\n",
       "[30321 rows x 2 columns]"
      ],
      "text/html": [
       "<div>\n",
       "<style scoped>\n",
       "    .dataframe tbody tr th:only-of-type {\n",
       "        vertical-align: middle;\n",
       "    }\n",
       "\n",
       "    .dataframe tbody tr th {\n",
       "        vertical-align: top;\n",
       "    }\n",
       "\n",
       "    .dataframe thead th {\n",
       "        text-align: right;\n",
       "    }\n",
       "</style>\n",
       "<table border=\"1\" class=\"dataframe\">\n",
       "  <thead>\n",
       "    <tr style=\"text-align: right;\">\n",
       "      <th></th>\n",
       "      <th>text</th>\n",
       "      <th>sentiment</th>\n",
       "    </tr>\n",
       "  </thead>\n",
       "  <tbody>\n",
       "    <tr>\n",
       "      <th>0</th>\n",
       "      <td>last session day</td>\n",
       "      <td>1</td>\n",
       "    </tr>\n",
       "    <tr>\n",
       "      <th>1</th>\n",
       "      <td>shanghai also really exciting precisely skyscr...</td>\n",
       "      <td>2</td>\n",
       "    </tr>\n",
       "    <tr>\n",
       "      <th>2</th>\n",
       "      <td>recession hit veronique branquinho quit compan...</td>\n",
       "      <td>0</td>\n",
       "    </tr>\n",
       "    <tr>\n",
       "      <th>3</th>\n",
       "      <td>happy bday</td>\n",
       "      <td>2</td>\n",
       "    </tr>\n",
       "    <tr>\n",
       "      <th>4</th>\n",
       "      <td>like</td>\n",
       "      <td>2</td>\n",
       "    </tr>\n",
       "    <tr>\n",
       "      <th>...</th>\n",
       "      <td>...</td>\n",
       "      <td>...</td>\n",
       "    </tr>\n",
       "    <tr>\n",
       "      <th>30316</th>\n",
       "      <td>wish could come see u denver husband lost job ...</td>\n",
       "      <td>0</td>\n",
       "    </tr>\n",
       "    <tr>\n",
       "      <th>30317</th>\n",
       "      <td>ive wondered rake client made clear net dont f...</td>\n",
       "      <td>0</td>\n",
       "    </tr>\n",
       "    <tr>\n",
       "      <th>30318</th>\n",
       "      <td>yay good enjoy break probably need hectic week...</td>\n",
       "      <td>2</td>\n",
       "    </tr>\n",
       "    <tr>\n",
       "      <th>30319</th>\n",
       "      <td>worth</td>\n",
       "      <td>2</td>\n",
       "    </tr>\n",
       "    <tr>\n",
       "      <th>30320</th>\n",
       "      <td>flirting going atg smiles yay hugs</td>\n",
       "      <td>1</td>\n",
       "    </tr>\n",
       "  </tbody>\n",
       "</table>\n",
       "<p>30321 rows × 2 columns</p>\n",
       "</div>"
      ]
     },
     "execution_count": 22,
     "metadata": {},
     "output_type": "execute_result"
    }
   ],
   "execution_count": 22
  },
  {
   "metadata": {
    "ExecuteTime": {
     "end_time": "2025-03-18T20:01:42.305122Z",
     "start_time": "2025-03-18T20:01:42.298269Z"
    }
   },
   "cell_type": "code",
   "source": "D3",
   "id": "1f0861c455a37e5f",
   "outputs": [
    {
     "data": {
      "text/plain": [
       "                                                      text  sentiment\n",
       "0                                           sad apl friend          0\n",
       "1                                  missed new moon trailer          0\n",
       "2                                              omg already          2\n",
       "3        omgaga im sooo im gunna cry ive dentist since ...          0\n",
       "4                                  think mi bf cheating tt          0\n",
       "...                                                    ...        ...\n",
       "1048570             missing fiancee sooo badly love baybay          0\n",
       "1048571                                     missing friend          0\n",
       "1048572    missing friend cousin two months passed quickly          0\n",
       "1048573                                    missing friends          0\n",
       "1048574                                    missing friends          0\n",
       "\n",
       "[1048575 rows x 2 columns]"
      ],
      "text/html": [
       "<div>\n",
       "<style scoped>\n",
       "    .dataframe tbody tr th:only-of-type {\n",
       "        vertical-align: middle;\n",
       "    }\n",
       "\n",
       "    .dataframe tbody tr th {\n",
       "        vertical-align: top;\n",
       "    }\n",
       "\n",
       "    .dataframe thead th {\n",
       "        text-align: right;\n",
       "    }\n",
       "</style>\n",
       "<table border=\"1\" class=\"dataframe\">\n",
       "  <thead>\n",
       "    <tr style=\"text-align: right;\">\n",
       "      <th></th>\n",
       "      <th>text</th>\n",
       "      <th>sentiment</th>\n",
       "    </tr>\n",
       "  </thead>\n",
       "  <tbody>\n",
       "    <tr>\n",
       "      <th>0</th>\n",
       "      <td>sad apl friend</td>\n",
       "      <td>0</td>\n",
       "    </tr>\n",
       "    <tr>\n",
       "      <th>1</th>\n",
       "      <td>missed new moon trailer</td>\n",
       "      <td>0</td>\n",
       "    </tr>\n",
       "    <tr>\n",
       "      <th>2</th>\n",
       "      <td>omg already</td>\n",
       "      <td>2</td>\n",
       "    </tr>\n",
       "    <tr>\n",
       "      <th>3</th>\n",
       "      <td>omgaga im sooo im gunna cry ive dentist since ...</td>\n",
       "      <td>0</td>\n",
       "    </tr>\n",
       "    <tr>\n",
       "      <th>4</th>\n",
       "      <td>think mi bf cheating tt</td>\n",
       "      <td>0</td>\n",
       "    </tr>\n",
       "    <tr>\n",
       "      <th>...</th>\n",
       "      <td>...</td>\n",
       "      <td>...</td>\n",
       "    </tr>\n",
       "    <tr>\n",
       "      <th>1048570</th>\n",
       "      <td>missing fiancee sooo badly love baybay</td>\n",
       "      <td>0</td>\n",
       "    </tr>\n",
       "    <tr>\n",
       "      <th>1048571</th>\n",
       "      <td>missing friend</td>\n",
       "      <td>0</td>\n",
       "    </tr>\n",
       "    <tr>\n",
       "      <th>1048572</th>\n",
       "      <td>missing friend cousin two months passed quickly</td>\n",
       "      <td>0</td>\n",
       "    </tr>\n",
       "    <tr>\n",
       "      <th>1048573</th>\n",
       "      <td>missing friends</td>\n",
       "      <td>0</td>\n",
       "    </tr>\n",
       "    <tr>\n",
       "      <th>1048574</th>\n",
       "      <td>missing friends</td>\n",
       "      <td>0</td>\n",
       "    </tr>\n",
       "  </tbody>\n",
       "</table>\n",
       "<p>1048575 rows × 2 columns</p>\n",
       "</div>"
      ]
     },
     "execution_count": 23,
     "metadata": {},
     "output_type": "execute_result"
    }
   ],
   "execution_count": 23
  },
  {
   "metadata": {
    "ExecuteTime": {
     "end_time": "2025-03-18T20:01:42.632463Z",
     "start_time": "2025-03-18T20:01:42.623221Z"
    }
   },
   "cell_type": "code",
   "source": "D4",
   "id": "cfe095317d1be150",
   "outputs": [
    {
     "data": {
      "text/plain": [
       "                                                    text  sentiment\n",
       "0      one reviewers mentioned watching oz episode yo...          2\n",
       "1      wonderful little production filming technique ...          2\n",
       "2      thought wonderful way spend time hot summer we...          2\n",
       "3      basically theres family little boy jake thinks...          0\n",
       "4      petter matteis love time money visually stunni...          2\n",
       "...                                                  ...        ...\n",
       "49577  thought movie right good job wasnt creative or...          2\n",
       "49578  bad plot bad dialogue bad acting idiotic direc...          0\n",
       "49579  catholic taught parochial elementary schools n...          0\n",
       "49580  im going disagree previous comment side maltin...          0\n",
       "49581  one expects star trek movies high art fans exp...          0\n",
       "\n",
       "[49582 rows x 2 columns]"
      ],
      "text/html": [
       "<div>\n",
       "<style scoped>\n",
       "    .dataframe tbody tr th:only-of-type {\n",
       "        vertical-align: middle;\n",
       "    }\n",
       "\n",
       "    .dataframe tbody tr th {\n",
       "        vertical-align: top;\n",
       "    }\n",
       "\n",
       "    .dataframe thead th {\n",
       "        text-align: right;\n",
       "    }\n",
       "</style>\n",
       "<table border=\"1\" class=\"dataframe\">\n",
       "  <thead>\n",
       "    <tr style=\"text-align: right;\">\n",
       "      <th></th>\n",
       "      <th>text</th>\n",
       "      <th>sentiment</th>\n",
       "    </tr>\n",
       "  </thead>\n",
       "  <tbody>\n",
       "    <tr>\n",
       "      <th>0</th>\n",
       "      <td>one reviewers mentioned watching oz episode yo...</td>\n",
       "      <td>2</td>\n",
       "    </tr>\n",
       "    <tr>\n",
       "      <th>1</th>\n",
       "      <td>wonderful little production filming technique ...</td>\n",
       "      <td>2</td>\n",
       "    </tr>\n",
       "    <tr>\n",
       "      <th>2</th>\n",
       "      <td>thought wonderful way spend time hot summer we...</td>\n",
       "      <td>2</td>\n",
       "    </tr>\n",
       "    <tr>\n",
       "      <th>3</th>\n",
       "      <td>basically theres family little boy jake thinks...</td>\n",
       "      <td>0</td>\n",
       "    </tr>\n",
       "    <tr>\n",
       "      <th>4</th>\n",
       "      <td>petter matteis love time money visually stunni...</td>\n",
       "      <td>2</td>\n",
       "    </tr>\n",
       "    <tr>\n",
       "      <th>...</th>\n",
       "      <td>...</td>\n",
       "      <td>...</td>\n",
       "    </tr>\n",
       "    <tr>\n",
       "      <th>49577</th>\n",
       "      <td>thought movie right good job wasnt creative or...</td>\n",
       "      <td>2</td>\n",
       "    </tr>\n",
       "    <tr>\n",
       "      <th>49578</th>\n",
       "      <td>bad plot bad dialogue bad acting idiotic direc...</td>\n",
       "      <td>0</td>\n",
       "    </tr>\n",
       "    <tr>\n",
       "      <th>49579</th>\n",
       "      <td>catholic taught parochial elementary schools n...</td>\n",
       "      <td>0</td>\n",
       "    </tr>\n",
       "    <tr>\n",
       "      <th>49580</th>\n",
       "      <td>im going disagree previous comment side maltin...</td>\n",
       "      <td>0</td>\n",
       "    </tr>\n",
       "    <tr>\n",
       "      <th>49581</th>\n",
       "      <td>one expects star trek movies high art fans exp...</td>\n",
       "      <td>0</td>\n",
       "    </tr>\n",
       "  </tbody>\n",
       "</table>\n",
       "<p>49582 rows × 2 columns</p>\n",
       "</div>"
      ]
     },
     "execution_count": 24,
     "metadata": {},
     "output_type": "execute_result"
    }
   ],
   "execution_count": 24
  },
  {
   "metadata": {
    "ExecuteTime": {
     "end_time": "2025-03-18T20:01:42.991693Z",
     "start_time": "2025-03-18T20:01:42.985278Z"
    }
   },
   "cell_type": "code",
   "source": [
    "print(D1.shape)\n",
    "print(D2.shape)\n",
    "print(D3.shape)\n",
    "print(D4.shape)"
   ],
   "id": "8e9bd020c1dd7adf",
   "outputs": [
    {
     "name": "stdout",
     "output_type": "stream",
     "text": [
      "(14640, 2)\n",
      "(30321, 2)\n",
      "(1048575, 2)\n",
      "(49582, 2)\n"
     ]
    }
   ],
   "execution_count": 25
  },
  {
   "metadata": {
    "ExecuteTime": {
     "end_time": "2025-03-18T20:03:29.797021Z",
     "start_time": "2025-03-18T20:03:29.770786Z"
    }
   },
   "cell_type": "code",
   "source": "Data = pd.concat([D1, D2, D3, D4], axis=0)",
   "id": "a20c63cdcca844a7",
   "outputs": [],
   "execution_count": 29
  },
  {
   "metadata": {
    "ExecuteTime": {
     "end_time": "2025-03-18T20:03:30.453697Z",
     "start_time": "2025-03-18T20:03:30.445200Z"
    }
   },
   "cell_type": "code",
   "source": "Data",
   "id": "9a45bb5211ad2c42",
   "outputs": [
    {
     "data": {
      "text/plain": [
       "                                                    text  sentiment\n",
       "0                                          dhepburn said          1\n",
       "1          plus youve added commercials experience tacky          2\n",
       "2           didnt today must mean need take another trip          1\n",
       "3      really aggressive blast obnoxious entertainmen...          0\n",
       "4                                   really big bad thing          0\n",
       "...                                                  ...        ...\n",
       "49577  thought movie right good job wasnt creative or...          2\n",
       "49578  bad plot bad dialogue bad acting idiotic direc...          0\n",
       "49579  catholic taught parochial elementary schools n...          0\n",
       "49580  im going disagree previous comment side maltin...          0\n",
       "49581  one expects star trek movies high art fans exp...          0\n",
       "\n",
       "[1143118 rows x 2 columns]"
      ],
      "text/html": [
       "<div>\n",
       "<style scoped>\n",
       "    .dataframe tbody tr th:only-of-type {\n",
       "        vertical-align: middle;\n",
       "    }\n",
       "\n",
       "    .dataframe tbody tr th {\n",
       "        vertical-align: top;\n",
       "    }\n",
       "\n",
       "    .dataframe thead th {\n",
       "        text-align: right;\n",
       "    }\n",
       "</style>\n",
       "<table border=\"1\" class=\"dataframe\">\n",
       "  <thead>\n",
       "    <tr style=\"text-align: right;\">\n",
       "      <th></th>\n",
       "      <th>text</th>\n",
       "      <th>sentiment</th>\n",
       "    </tr>\n",
       "  </thead>\n",
       "  <tbody>\n",
       "    <tr>\n",
       "      <th>0</th>\n",
       "      <td>dhepburn said</td>\n",
       "      <td>1</td>\n",
       "    </tr>\n",
       "    <tr>\n",
       "      <th>1</th>\n",
       "      <td>plus youve added commercials experience tacky</td>\n",
       "      <td>2</td>\n",
       "    </tr>\n",
       "    <tr>\n",
       "      <th>2</th>\n",
       "      <td>didnt today must mean need take another trip</td>\n",
       "      <td>1</td>\n",
       "    </tr>\n",
       "    <tr>\n",
       "      <th>3</th>\n",
       "      <td>really aggressive blast obnoxious entertainmen...</td>\n",
       "      <td>0</td>\n",
       "    </tr>\n",
       "    <tr>\n",
       "      <th>4</th>\n",
       "      <td>really big bad thing</td>\n",
       "      <td>0</td>\n",
       "    </tr>\n",
       "    <tr>\n",
       "      <th>...</th>\n",
       "      <td>...</td>\n",
       "      <td>...</td>\n",
       "    </tr>\n",
       "    <tr>\n",
       "      <th>49577</th>\n",
       "      <td>thought movie right good job wasnt creative or...</td>\n",
       "      <td>2</td>\n",
       "    </tr>\n",
       "    <tr>\n",
       "      <th>49578</th>\n",
       "      <td>bad plot bad dialogue bad acting idiotic direc...</td>\n",
       "      <td>0</td>\n",
       "    </tr>\n",
       "    <tr>\n",
       "      <th>49579</th>\n",
       "      <td>catholic taught parochial elementary schools n...</td>\n",
       "      <td>0</td>\n",
       "    </tr>\n",
       "    <tr>\n",
       "      <th>49580</th>\n",
       "      <td>im going disagree previous comment side maltin...</td>\n",
       "      <td>0</td>\n",
       "    </tr>\n",
       "    <tr>\n",
       "      <th>49581</th>\n",
       "      <td>one expects star trek movies high art fans exp...</td>\n",
       "      <td>0</td>\n",
       "    </tr>\n",
       "  </tbody>\n",
       "</table>\n",
       "<p>1143118 rows × 2 columns</p>\n",
       "</div>"
      ]
     },
     "execution_count": 30,
     "metadata": {},
     "output_type": "execute_result"
    }
   ],
   "execution_count": 30
  },
  {
   "metadata": {
    "ExecuteTime": {
     "end_time": "2025-03-18T20:03:32.916716Z",
     "start_time": "2025-03-18T20:03:32.911904Z"
    }
   },
   "cell_type": "code",
   "source": "Data.shape",
   "id": "4287b06a98adc8b",
   "outputs": [
    {
     "data": {
      "text/plain": [
       "(1143118, 2)"
      ]
     },
     "execution_count": 31,
     "metadata": {},
     "output_type": "execute_result"
    }
   ],
   "execution_count": 31
  },
  {
   "metadata": {
    "ExecuteTime": {
     "end_time": "2025-03-18T20:03:52.383914Z",
     "start_time": "2025-03-18T20:03:51.885028Z"
    }
   },
   "cell_type": "code",
   "source": "Data.duplicated().sum()",
   "id": "59a9df71ed68036e",
   "outputs": [
    {
     "data": {
      "text/plain": [
       "16179"
      ]
     },
     "execution_count": 32,
     "metadata": {},
     "output_type": "execute_result"
    }
   ],
   "execution_count": 32
  },
  {
   "metadata": {
    "ExecuteTime": {
     "end_time": "2025-03-18T20:04:05.608446Z",
     "start_time": "2025-03-18T20:04:05.108762Z"
    }
   },
   "cell_type": "code",
   "source": "Data = Data.drop_duplicates()",
   "id": "f5c746e19ca3f9c",
   "outputs": [],
   "execution_count": 33
  },
  {
   "metadata": {
    "ExecuteTime": {
     "end_time": "2025-03-18T20:04:11.891509Z",
     "start_time": "2025-03-18T20:04:11.828063Z"
    }
   },
   "cell_type": "code",
   "source": "Data.isnull().sum()",
   "id": "3232d85f4a003600",
   "outputs": [
    {
     "data": {
      "text/plain": [
       "text         3\n",
       "sentiment    0\n",
       "dtype: int64"
      ]
     },
     "execution_count": 34,
     "metadata": {},
     "output_type": "execute_result"
    }
   ],
   "execution_count": 34
  },
  {
   "metadata": {
    "ExecuteTime": {
     "end_time": "2025-03-18T20:07:25.902579Z",
     "start_time": "2025-03-18T20:07:25.795856Z"
    }
   },
   "cell_type": "code",
   "source": "Data = Data.dropna(axis=0, how='any')",
   "id": "32773203943181e3",
   "outputs": [],
   "execution_count": 43
  },
  {
   "metadata": {
    "ExecuteTime": {
     "end_time": "2025-03-18T20:07:28.261674Z",
     "start_time": "2025-03-18T20:07:28.253724Z"
    }
   },
   "cell_type": "code",
   "source": "Data",
   "id": "6054ed5c17fc93db",
   "outputs": [
    {
     "data": {
      "text/plain": [
       "                                                    text  sentiment\n",
       "0                                          dhepburn said          1\n",
       "1          plus youve added commercials experience tacky          2\n",
       "2           didnt today must mean need take another trip          1\n",
       "3      really aggressive blast obnoxious entertainmen...          0\n",
       "4                                   really big bad thing          0\n",
       "...                                                  ...        ...\n",
       "49577  thought movie right good job wasnt creative or...          2\n",
       "49578  bad plot bad dialogue bad acting idiotic direc...          0\n",
       "49579  catholic taught parochial elementary schools n...          0\n",
       "49580  im going disagree previous comment side maltin...          0\n",
       "49581  one expects star trek movies high art fans exp...          0\n",
       "\n",
       "[1126936 rows x 2 columns]"
      ],
      "text/html": [
       "<div>\n",
       "<style scoped>\n",
       "    .dataframe tbody tr th:only-of-type {\n",
       "        vertical-align: middle;\n",
       "    }\n",
       "\n",
       "    .dataframe tbody tr th {\n",
       "        vertical-align: top;\n",
       "    }\n",
       "\n",
       "    .dataframe thead th {\n",
       "        text-align: right;\n",
       "    }\n",
       "</style>\n",
       "<table border=\"1\" class=\"dataframe\">\n",
       "  <thead>\n",
       "    <tr style=\"text-align: right;\">\n",
       "      <th></th>\n",
       "      <th>text</th>\n",
       "      <th>sentiment</th>\n",
       "    </tr>\n",
       "  </thead>\n",
       "  <tbody>\n",
       "    <tr>\n",
       "      <th>0</th>\n",
       "      <td>dhepburn said</td>\n",
       "      <td>1</td>\n",
       "    </tr>\n",
       "    <tr>\n",
       "      <th>1</th>\n",
       "      <td>plus youve added commercials experience tacky</td>\n",
       "      <td>2</td>\n",
       "    </tr>\n",
       "    <tr>\n",
       "      <th>2</th>\n",
       "      <td>didnt today must mean need take another trip</td>\n",
       "      <td>1</td>\n",
       "    </tr>\n",
       "    <tr>\n",
       "      <th>3</th>\n",
       "      <td>really aggressive blast obnoxious entertainmen...</td>\n",
       "      <td>0</td>\n",
       "    </tr>\n",
       "    <tr>\n",
       "      <th>4</th>\n",
       "      <td>really big bad thing</td>\n",
       "      <td>0</td>\n",
       "    </tr>\n",
       "    <tr>\n",
       "      <th>...</th>\n",
       "      <td>...</td>\n",
       "      <td>...</td>\n",
       "    </tr>\n",
       "    <tr>\n",
       "      <th>49577</th>\n",
       "      <td>thought movie right good job wasnt creative or...</td>\n",
       "      <td>2</td>\n",
       "    </tr>\n",
       "    <tr>\n",
       "      <th>49578</th>\n",
       "      <td>bad plot bad dialogue bad acting idiotic direc...</td>\n",
       "      <td>0</td>\n",
       "    </tr>\n",
       "    <tr>\n",
       "      <th>49579</th>\n",
       "      <td>catholic taught parochial elementary schools n...</td>\n",
       "      <td>0</td>\n",
       "    </tr>\n",
       "    <tr>\n",
       "      <th>49580</th>\n",
       "      <td>im going disagree previous comment side maltin...</td>\n",
       "      <td>0</td>\n",
       "    </tr>\n",
       "    <tr>\n",
       "      <th>49581</th>\n",
       "      <td>one expects star trek movies high art fans exp...</td>\n",
       "      <td>0</td>\n",
       "    </tr>\n",
       "  </tbody>\n",
       "</table>\n",
       "<p>1126936 rows × 2 columns</p>\n",
       "</div>"
      ]
     },
     "execution_count": 44,
     "metadata": {},
     "output_type": "execute_result"
    }
   ],
   "execution_count": 44
  },
  {
   "metadata": {
    "ExecuteTime": {
     "end_time": "2025-03-18T20:07:30.803235Z",
     "start_time": "2025-03-18T20:07:30.788542Z"
    }
   },
   "cell_type": "code",
   "source": "Data_sentiment_count = Data[\"sentiment\"].value_counts()",
   "id": "7a2d8fc098409810",
   "outputs": [],
   "execution_count": 45
  },
  {
   "metadata": {
    "ExecuteTime": {
     "end_time": "2025-03-18T20:07:30.810248Z",
     "start_time": "2025-03-18T20:07:30.805011Z"
    }
   },
   "cell_type": "code",
   "source": "Data_sentiment_count",
   "id": "f30d63a1e34237cb",
   "outputs": [
    {
     "data": {
      "text/plain": [
       "sentiment\n",
       "2    584436\n",
       "0    527381\n",
       "1     15119\n",
       "Name: count, dtype: int64"
      ]
     },
     "execution_count": 46,
     "metadata": {},
     "output_type": "execute_result"
    }
   ],
   "execution_count": 46
  },
  {
   "metadata": {
    "ExecuteTime": {
     "end_time": "2025-03-18T20:07:30.917921Z",
     "start_time": "2025-03-18T20:07:30.811531Z"
    }
   },
   "cell_type": "code",
   "source": [
    "# Plot the sentiment distribution\n",
    "plt.figure(figsize=(8, 5))\n",
    "Data_sentiment_count.plot(kind='bar', color=['blue', 'green', 'red'])\n",
    "plt.xlabel('Sentiment Class')\n",
    "plt.ylabel('Count')\n",
    "plt.title('Sentiment Distribution')\n",
    "plt.xticks(rotation=0)\n",
    "plt.show()"
   ],
   "id": "97233fa55f109e2f",
   "outputs": [
    {
     "data": {
      "text/plain": [
       "<Figure size 800x500 with 1 Axes>"
      ],
      "image/png": "[encoded data removed]"
     },
     "metadata": {},
     "output_type": "display_data"
    }
   ],
   "execution_count": 47
  },
  {
   "metadata": {
    "ExecuteTime": {
     "end_time": "2025-03-18T20:08:10.559345Z",
     "start_time": "2025-03-18T20:08:08.848727Z"
    }
   },
   "cell_type": "code",
   "source": "Data.to_csv(\"data/Sentiment analysis/Preprocessed data/Data_1.csv\", index=False)",
   "id": "dcddd909b0bb397f",
   "outputs": [],
   "execution_count": 48
  },
  {
   "metadata": {
    "ExecuteTime": {
     "end_time": "2025-03-18T20:14:25.225254Z",
     "start_time": "2025-03-18T20:14:25.213029Z"
    }
   },
   "cell_type": "code",
   "source": "Data",
   "id": "f4c66ffe84dcc264",
   "outputs": [
    {
     "data": {
      "text/plain": [
       "                                                    text  sentiment\n",
       "0                                          dhepburn said          1\n",
       "1          plus youve added commercials experience tacky          2\n",
       "2           didnt today must mean need take another trip          1\n",
       "3      really aggressive blast obnoxious entertainmen...          0\n",
       "4                                   really big bad thing          0\n",
       "...                                                  ...        ...\n",
       "49577  thought movie right good job wasnt creative or...          2\n",
       "49578  bad plot bad dialogue bad acting idiotic direc...          0\n",
       "49579  catholic taught parochial elementary schools n...          0\n",
       "49580  im going disagree previous comment side maltin...          0\n",
       "49581  one expects star trek movies high art fans exp...          0\n",
       "\n",
       "[1126936 rows x 2 columns]"
      ],
      "text/html": [
       "<div>\n",
       "<style scoped>\n",
       "    .dataframe tbody tr th:only-of-type {\n",
       "        vertical-align: middle;\n",
       "    }\n",
       "\n",
       "    .dataframe tbody tr th {\n",
       "        vertical-align: top;\n",
       "    }\n",
       "\n",
       "    .dataframe thead th {\n",
       "        text-align: right;\n",
       "    }\n",
       "</style>\n",
       "<table border=\"1\" class=\"dataframe\">\n",
       "  <thead>\n",
       "    <tr style=\"text-align: right;\">\n",
       "      <th></th>\n",
       "      <th>text</th>\n",
       "      <th>sentiment</th>\n",
       "    </tr>\n",
       "  </thead>\n",
       "  <tbody>\n",
       "    <tr>\n",
       "      <th>0</th>\n",
       "      <td>dhepburn said</td>\n",
       "      <td>1</td>\n",
       "    </tr>\n",
       "    <tr>\n",
       "      <th>1</th>\n",
       "      <td>plus youve added commercials experience tacky</td>\n",
       "      <td>2</td>\n",
       "    </tr>\n",
       "    <tr>\n",
       "      <th>2</th>\n",
       "      <td>didnt today must mean need take another trip</td>\n",
       "      <td>1</td>\n",
       "    </tr>\n",
       "    <tr>\n",
       "      <th>3</th>\n",
       "      <td>really aggressive blast obnoxious entertainmen...</td>\n",
       "      <td>0</td>\n",
       "    </tr>\n",
       "    <tr>\n",
       "      <th>4</th>\n",
       "      <td>really big bad thing</td>\n",
       "      <td>0</td>\n",
       "    </tr>\n",
       "    <tr>\n",
       "      <th>...</th>\n",
       "      <td>...</td>\n",
       "      <td>...</td>\n",
       "    </tr>\n",
       "    <tr>\n",
       "      <th>49577</th>\n",
       "      <td>thought movie right good job wasnt creative or...</td>\n",
       "      <td>2</td>\n",
       "    </tr>\n",
       "    <tr>\n",
       "      <th>49578</th>\n",
       "      <td>bad plot bad dialogue bad acting idiotic direc...</td>\n",
       "      <td>0</td>\n",
       "    </tr>\n",
       "    <tr>\n",
       "      <th>49579</th>\n",
       "      <td>catholic taught parochial elementary schools n...</td>\n",
       "      <td>0</td>\n",
       "    </tr>\n",
       "    <tr>\n",
       "      <th>49580</th>\n",
       "      <td>im going disagree previous comment side maltin...</td>\n",
       "      <td>0</td>\n",
       "    </tr>\n",
       "    <tr>\n",
       "      <th>49581</th>\n",
       "      <td>one expects star trek movies high art fans exp...</td>\n",
       "      <td>0</td>\n",
       "    </tr>\n",
       "  </tbody>\n",
       "</table>\n",
       "<p>1126936 rows × 2 columns</p>\n",
       "</div>"
      ]
     },
     "execution_count": 60,
     "metadata": {},
     "output_type": "execute_result"
    }
   ],
   "execution_count": 60
  },
  {
   "metadata": {},
   "cell_type": "code",
   "outputs": [],
   "execution_count": null,
   "source": "",
   "id": "f015a9ee6fd7100f"
  }
 ],
 "metadata": {
  "kernelspec": {
   "display_name": "Python 3",
   "language": "python",
   "name": "python3"
  },
  "language_info": {
   "codemirror_mode": {
    "name": "ipython",
    "version": 2
   },
   "file_extension": ".py",
   "mimetype": "text/x-python",
   "name": "python",
   "nbconvert_exporter": "python",
   "pygments_lexer": "ipython2",
   "version": "2.7.6"
  }
 },
 "nbformat": 4,
 "nbformat_minor": 5
}
