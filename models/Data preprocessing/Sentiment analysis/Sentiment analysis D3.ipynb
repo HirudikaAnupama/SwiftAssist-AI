{
 "cells": [
  {
   "cell_type": "code",
   "id": "initial_id",
   "metadata": {
    "collapsed": true,
    "ExecuteTime": {
     "end_time": "2025-03-18T19:58:04.440332Z",
     "start_time": "2025-03-18T19:58:04.434876Z"
    }
   },
   "source": "import pandas as pd",
   "outputs": [],
   "execution_count": 21
  },
  {
   "metadata": {
    "ExecuteTime": {
     "end_time": "2025-03-18T19:58:06.497498Z",
     "start_time": "2025-03-18T19:58:04.634080Z"
    }
   },
   "cell_type": "code",
   "source": "D3 = pd.read_csv(\"data/Sentiment analysis/Data 3/Sentiment Analysis Dataset.csv\", encoding='ISO-8859-1')",
   "id": "19b9889a023d5ec8",
   "outputs": [],
   "execution_count": 22
  },
  {
   "metadata": {
    "ExecuteTime": {
     "end_time": "2025-03-18T19:58:06.510170Z",
     "start_time": "2025-03-18T19:58:06.497498Z"
    }
   },
   "cell_type": "code",
   "source": "D3",
   "id": "fe1611d9feaadab7",
   "outputs": [
    {
     "data": {
      "text/plain": [
       "          ItemID  Sentiment                                      SentimentText\n",
       "0              1          0                       is so sad for my APL frie...\n",
       "1              2          0                     I missed the New Moon trail...\n",
       "2              3          1                            omg its already 7:30 :O\n",
       "3              4          0            .. Omgaga. Im sooo  im gunna CRy. I'...\n",
       "4              5          0           i think mi bf is cheating on me!!!   ...\n",
       "...          ...        ...                                                ...\n",
       "1048570  1048584          0  Missing my fiancee sooo badly!!!  I love you b...\n",
       "1048571  1048585          0                                 missing my friend \n",
       "1048572  1048586          0  Missing my friend and my cousin. Two months pa...\n",
       "1048573  1048587          0                               missing my friends! \n",
       "1048574  1048588          0                              Missing my friends!! \n",
       "\n",
       "[1048575 rows x 3 columns]"
      ],
      "text/html": [
       "<div>\n",
       "<style scoped>\n",
       "    .dataframe tbody tr th:only-of-type {\n",
       "        vertical-align: middle;\n",
       "    }\n",
       "\n",
       "    .dataframe tbody tr th {\n",
       "        vertical-align: top;\n",
       "    }\n",
       "\n",
       "    .dataframe thead th {\n",
       "        text-align: right;\n",
       "    }\n",
       "</style>\n",
       "<table border=\"1\" class=\"dataframe\">\n",
       "  <thead>\n",
       "    <tr style=\"text-align: right;\">\n",
       "      <th></th>\n",
       "      <th>ItemID</th>\n",
       "      <th>Sentiment</th>\n",
       "      <th>SentimentText</th>\n",
       "    </tr>\n",
       "  </thead>\n",
       "  <tbody>\n",
       "    <tr>\n",
       "      <th>0</th>\n",
       "      <td>1</td>\n",
       "      <td>0</td>\n",
       "      <td>is so sad for my APL frie...</td>\n",
       "    </tr>\n",
       "    <tr>\n",
       "      <th>1</th>\n",
       "      <td>2</td>\n",
       "      <td>0</td>\n",
       "      <td>I missed the New Moon trail...</td>\n",
       "    </tr>\n",
       "    <tr>\n",
       "      <th>2</th>\n",
       "      <td>3</td>\n",
       "      <td>1</td>\n",
       "      <td>omg its already 7:30 :O</td>\n",
       "    </tr>\n",
       "    <tr>\n",
       "      <th>3</th>\n",
       "      <td>4</td>\n",
       "      <td>0</td>\n",
       "      <td>.. Omgaga. Im sooo  im gunna CRy. I'...</td>\n",
       "    </tr>\n",
       "    <tr>\n",
       "      <th>4</th>\n",
       "      <td>5</td>\n",
       "      <td>0</td>\n",
       "      <td>i think mi bf is cheating on me!!!   ...</td>\n",
       "    </tr>\n",
       "    <tr>\n",
       "      <th>...</th>\n",
       "      <td>...</td>\n",
       "      <td>...</td>\n",
       "      <td>...</td>\n",
       "    </tr>\n",
       "    <tr>\n",
       "      <th>1048570</th>\n",
       "      <td>1048584</td>\n",
       "      <td>0</td>\n",
       "      <td>Missing my fiancee sooo badly!!!  I love you b...</td>\n",
       "    </tr>\n",
       "    <tr>\n",
       "      <th>1048571</th>\n",
       "      <td>1048585</td>\n",
       "      <td>0</td>\n",
       "      <td>missing my friend</td>\n",
       "    </tr>\n",
       "    <tr>\n",
       "      <th>1048572</th>\n",
       "      <td>1048586</td>\n",
       "      <td>0</td>\n",
       "      <td>Missing my friend and my cousin. Two months pa...</td>\n",
       "    </tr>\n",
       "    <tr>\n",
       "      <th>1048573</th>\n",
       "      <td>1048587</td>\n",
       "      <td>0</td>\n",
       "      <td>missing my friends!</td>\n",
       "    </tr>\n",
       "    <tr>\n",
       "      <th>1048574</th>\n",
       "      <td>1048588</td>\n",
       "      <td>0</td>\n",
       "      <td>Missing my friends!!</td>\n",
       "    </tr>\n",
       "  </tbody>\n",
       "</table>\n",
       "<p>1048575 rows × 3 columns</p>\n",
       "</div>"
      ]
     },
     "execution_count": 23,
     "metadata": {},
     "output_type": "execute_result"
    }
   ],
   "execution_count": 23
  },
  {
   "metadata": {
    "ExecuteTime": {
     "end_time": "2025-03-18T19:58:06.551852Z",
     "start_time": "2025-03-18T19:58:06.510170Z"
    }
   },
   "cell_type": "code",
   "source": "D3 = D3[[ 'SentimentText', 'Sentiment']]",
   "id": "907047d3249e3d39",
   "outputs": [],
   "execution_count": 24
  },
  {
   "metadata": {
    "ExecuteTime": {
     "end_time": "2025-03-18T19:58:06.562911Z",
     "start_time": "2025-03-18T19:58:06.553883Z"
    }
   },
   "cell_type": "code",
   "source": "D3",
   "id": "704a6f853f4abf09",
   "outputs": [
    {
     "data": {
      "text/plain": [
       "                                             SentimentText  Sentiment\n",
       "0                             is so sad for my APL frie...          0\n",
       "1                           I missed the New Moon trail...          0\n",
       "2                                  omg its already 7:30 :O          1\n",
       "3                  .. Omgaga. Im sooo  im gunna CRy. I'...          0\n",
       "4                 i think mi bf is cheating on me!!!   ...          0\n",
       "...                                                    ...        ...\n",
       "1048570  Missing my fiancee sooo badly!!!  I love you b...          0\n",
       "1048571                                 missing my friend           0\n",
       "1048572  Missing my friend and my cousin. Two months pa...          0\n",
       "1048573                               missing my friends!           0\n",
       "1048574                              Missing my friends!!           0\n",
       "\n",
       "[1048575 rows x 2 columns]"
      ],
      "text/html": [
       "<div>\n",
       "<style scoped>\n",
       "    .dataframe tbody tr th:only-of-type {\n",
       "        vertical-align: middle;\n",
       "    }\n",
       "\n",
       "    .dataframe tbody tr th {\n",
       "        vertical-align: top;\n",
       "    }\n",
       "\n",
       "    .dataframe thead th {\n",
       "        text-align: right;\n",
       "    }\n",
       "</style>\n",
       "<table border=\"1\" class=\"dataframe\">\n",
       "  <thead>\n",
       "    <tr style=\"text-align: right;\">\n",
       "      <th></th>\n",
       "      <th>SentimentText</th>\n",
       "      <th>Sentiment</th>\n",
       "    </tr>\n",
       "  </thead>\n",
       "  <tbody>\n",
       "    <tr>\n",
       "      <th>0</th>\n",
       "      <td>is so sad for my APL frie...</td>\n",
       "      <td>0</td>\n",
       "    </tr>\n",
       "    <tr>\n",
       "      <th>1</th>\n",
       "      <td>I missed the New Moon trail...</td>\n",
       "      <td>0</td>\n",
       "    </tr>\n",
       "    <tr>\n",
       "      <th>2</th>\n",
       "      <td>omg its already 7:30 :O</td>\n",
       "      <td>1</td>\n",
       "    </tr>\n",
       "    <tr>\n",
       "      <th>3</th>\n",
       "      <td>.. Omgaga. Im sooo  im gunna CRy. I'...</td>\n",
       "      <td>0</td>\n",
       "    </tr>\n",
       "    <tr>\n",
       "      <th>4</th>\n",
       "      <td>i think mi bf is cheating on me!!!   ...</td>\n",
       "      <td>0</td>\n",
       "    </tr>\n",
       "    <tr>\n",
       "      <th>...</th>\n",
       "      <td>...</td>\n",
       "      <td>...</td>\n",
       "    </tr>\n",
       "    <tr>\n",
       "      <th>1048570</th>\n",
       "      <td>Missing my fiancee sooo badly!!!  I love you b...</td>\n",
       "      <td>0</td>\n",
       "    </tr>\n",
       "    <tr>\n",
       "      <th>1048571</th>\n",
       "      <td>missing my friend</td>\n",
       "      <td>0</td>\n",
       "    </tr>\n",
       "    <tr>\n",
       "      <th>1048572</th>\n",
       "      <td>Missing my friend and my cousin. Two months pa...</td>\n",
       "      <td>0</td>\n",
       "    </tr>\n",
       "    <tr>\n",
       "      <th>1048573</th>\n",
       "      <td>missing my friends!</td>\n",
       "      <td>0</td>\n",
       "    </tr>\n",
       "    <tr>\n",
       "      <th>1048574</th>\n",
       "      <td>Missing my friends!!</td>\n",
       "      <td>0</td>\n",
       "    </tr>\n",
       "  </tbody>\n",
       "</table>\n",
       "<p>1048575 rows × 2 columns</p>\n",
       "</div>"
      ]
     },
     "execution_count": 25,
     "metadata": {},
     "output_type": "execute_result"
    }
   ],
   "execution_count": 25
  },
  {
   "metadata": {
    "ExecuteTime": {
     "end_time": "2025-03-18T19:58:06.587919Z",
     "start_time": "2025-03-18T19:58:06.564445Z"
    }
   },
   "cell_type": "code",
   "source": "D3 = D3.rename(columns={\"SentimentText\":\"text\", \"Sentiment\":\"sentiment\"})",
   "id": "b4778fff97671565",
   "outputs": [],
   "execution_count": 26
  },
  {
   "metadata": {
    "ExecuteTime": {
     "end_time": "2025-03-18T19:58:06.599161Z",
     "start_time": "2025-03-18T19:58:06.587919Z"
    }
   },
   "cell_type": "code",
   "source": "D3",
   "id": "919f3af743ad3649",
   "outputs": [
    {
     "data": {
      "text/plain": [
       "                                                      text  sentiment\n",
       "0                             is so sad for my APL frie...          0\n",
       "1                           I missed the New Moon trail...          0\n",
       "2                                  omg its already 7:30 :O          1\n",
       "3                  .. Omgaga. Im sooo  im gunna CRy. I'...          0\n",
       "4                 i think mi bf is cheating on me!!!   ...          0\n",
       "...                                                    ...        ...\n",
       "1048570  Missing my fiancee sooo badly!!!  I love you b...          0\n",
       "1048571                                 missing my friend           0\n",
       "1048572  Missing my friend and my cousin. Two months pa...          0\n",
       "1048573                               missing my friends!           0\n",
       "1048574                              Missing my friends!!           0\n",
       "\n",
       "[1048575 rows x 2 columns]"
      ],
      "text/html": [
       "<div>\n",
       "<style scoped>\n",
       "    .dataframe tbody tr th:only-of-type {\n",
       "        vertical-align: middle;\n",
       "    }\n",
       "\n",
       "    .dataframe tbody tr th {\n",
       "        vertical-align: top;\n",
       "    }\n",
       "\n",
       "    .dataframe thead th {\n",
       "        text-align: right;\n",
       "    }\n",
       "</style>\n",
       "<table border=\"1\" class=\"dataframe\">\n",
       "  <thead>\n",
       "    <tr style=\"text-align: right;\">\n",
       "      <th></th>\n",
       "      <th>text</th>\n",
       "      <th>sentiment</th>\n",
       "    </tr>\n",
       "  </thead>\n",
       "  <tbody>\n",
       "    <tr>\n",
       "      <th>0</th>\n",
       "      <td>is so sad for my APL frie...</td>\n",
       "      <td>0</td>\n",
       "    </tr>\n",
       "    <tr>\n",
       "      <th>1</th>\n",
       "      <td>I missed the New Moon trail...</td>\n",
       "      <td>0</td>\n",
       "    </tr>\n",
       "    <tr>\n",
       "      <th>2</th>\n",
       "      <td>omg its already 7:30 :O</td>\n",
       "      <td>1</td>\n",
       "    </tr>\n",
       "    <tr>\n",
       "      <th>3</th>\n",
       "      <td>.. Omgaga. Im sooo  im gunna CRy. I'...</td>\n",
       "      <td>0</td>\n",
       "    </tr>\n",
       "    <tr>\n",
       "      <th>4</th>\n",
       "      <td>i think mi bf is cheating on me!!!   ...</td>\n",
       "      <td>0</td>\n",
       "    </tr>\n",
       "    <tr>\n",
       "      <th>...</th>\n",
       "      <td>...</td>\n",
       "      <td>...</td>\n",
       "    </tr>\n",
       "    <tr>\n",
       "      <th>1048570</th>\n",
       "      <td>Missing my fiancee sooo badly!!!  I love you b...</td>\n",
       "      <td>0</td>\n",
       "    </tr>\n",
       "    <tr>\n",
       "      <th>1048571</th>\n",
       "      <td>missing my friend</td>\n",
       "      <td>0</td>\n",
       "    </tr>\n",
       "    <tr>\n",
       "      <th>1048572</th>\n",
       "      <td>Missing my friend and my cousin. Two months pa...</td>\n",
       "      <td>0</td>\n",
       "    </tr>\n",
       "    <tr>\n",
       "      <th>1048573</th>\n",
       "      <td>missing my friends!</td>\n",
       "      <td>0</td>\n",
       "    </tr>\n",
       "    <tr>\n",
       "      <th>1048574</th>\n",
       "      <td>Missing my friends!!</td>\n",
       "      <td>0</td>\n",
       "    </tr>\n",
       "  </tbody>\n",
       "</table>\n",
       "<p>1048575 rows × 2 columns</p>\n",
       "</div>"
      ]
     },
     "execution_count": 27,
     "metadata": {},
     "output_type": "execute_result"
    }
   ],
   "execution_count": 27
  },
  {
   "metadata": {
    "ExecuteTime": {
     "end_time": "2025-03-18T19:58:06.606433Z",
     "start_time": "2025-03-18T19:58:06.599161Z"
    }
   },
   "cell_type": "code",
   "source": [
    "\n",
    "import re\n",
    "import nltk\n",
    "from nltk.corpus import stopwords\n",
    "from nltk.tokenize import word_tokenize\n",
    "\n",
    "nltk.download('stopwords')\n",
    "nltk.download('punkt')\n",
    "\n",
    "# Load stop words\n",
    "stop_words = set(stopwords.words('english'))\n"
   ],
   "id": "e2d63c0c9d308db9",
   "outputs": [
    {
     "name": "stderr",
     "output_type": "stream",
     "text": [
      "[nltk_data] Downloading package stopwords to\n",
      "[nltk_data]     C:\\Users\\LENOVO\\AppData\\Roaming\\nltk_data...\n",
      "[nltk_data]   Package stopwords is already up-to-date!\n",
      "[nltk_data] Downloading package punkt to\n",
      "[nltk_data]     C:\\Users\\LENOVO\\AppData\\Roaming\\nltk_data...\n",
      "[nltk_data]   Package punkt is already up-to-date!\n"
     ]
    }
   ],
   "execution_count": 28
  },
  {
   "metadata": {
    "ExecuteTime": {
     "end_time": "2025-03-18T19:58:06.612472Z",
     "start_time": "2025-03-18T19:58:06.606433Z"
    }
   },
   "cell_type": "code",
   "source": [
    "\n",
    "def preprocess_text(text):\n",
    "    text = text.lower()  # Convert to lowercase\n",
    "    text = re.sub(r'<.*?>', '', text)  # Remove HTML tags\n",
    "    text = re.sub(r'http\\S+', '', text)  # Remove URLs\n",
    "    text = re.sub(r'[^a-zA-Z\\s]', '', text)  # Remove special characters\n",
    "    text = ' '.join([word for word in word_tokenize(text) if word not in stop_words])  # Remove stop words\n",
    "    return text"
   ],
   "id": "4d20ba113a4dd3eb",
   "outputs": [],
   "execution_count": 29
  },
  {
   "metadata": {
    "ExecuteTime": {
     "end_time": "2025-03-18T20:00:15.005042Z",
     "start_time": "2025-03-18T19:59:08.393459Z"
    }
   },
   "cell_type": "code",
   "source": "D3['text'] = D3['text'].apply(preprocess_text)",
   "id": "af83ac791d9b7a41",
   "outputs": [],
   "execution_count": 31
  },
  {
   "metadata": {
    "ExecuteTime": {
     "end_time": "2025-03-18T20:00:15.015015Z",
     "start_time": "2025-03-18T20:00:15.006052Z"
    }
   },
   "cell_type": "code",
   "source": "D3",
   "id": "7bcd8da425092b51",
   "outputs": [
    {
     "data": {
      "text/plain": [
       "                                                      text  sentiment\n",
       "0                                           sad apl friend          0\n",
       "1                                  missed new moon trailer          0\n",
       "2                                              omg already          1\n",
       "3        omgaga im sooo im gunna cry ive dentist since ...          0\n",
       "4                                  think mi bf cheating tt          0\n",
       "...                                                    ...        ...\n",
       "1048570             missing fiancee sooo badly love baybay          0\n",
       "1048571                                     missing friend          0\n",
       "1048572    missing friend cousin two months passed quickly          0\n",
       "1048573                                    missing friends          0\n",
       "1048574                                    missing friends          0\n",
       "\n",
       "[1048575 rows x 2 columns]"
      ],
      "text/html": [
       "<div>\n",
       "<style scoped>\n",
       "    .dataframe tbody tr th:only-of-type {\n",
       "        vertical-align: middle;\n",
       "    }\n",
       "\n",
       "    .dataframe tbody tr th {\n",
       "        vertical-align: top;\n",
       "    }\n",
       "\n",
       "    .dataframe thead th {\n",
       "        text-align: right;\n",
       "    }\n",
       "</style>\n",
       "<table border=\"1\" class=\"dataframe\">\n",
       "  <thead>\n",
       "    <tr style=\"text-align: right;\">\n",
       "      <th></th>\n",
       "      <th>text</th>\n",
       "      <th>sentiment</th>\n",
       "    </tr>\n",
       "  </thead>\n",
       "  <tbody>\n",
       "    <tr>\n",
       "      <th>0</th>\n",
       "      <td>sad apl friend</td>\n",
       "      <td>0</td>\n",
       "    </tr>\n",
       "    <tr>\n",
       "      <th>1</th>\n",
       "      <td>missed new moon trailer</td>\n",
       "      <td>0</td>\n",
       "    </tr>\n",
       "    <tr>\n",
       "      <th>2</th>\n",
       "      <td>omg already</td>\n",
       "      <td>1</td>\n",
       "    </tr>\n",
       "    <tr>\n",
       "      <th>3</th>\n",
       "      <td>omgaga im sooo im gunna cry ive dentist since ...</td>\n",
       "      <td>0</td>\n",
       "    </tr>\n",
       "    <tr>\n",
       "      <th>4</th>\n",
       "      <td>think mi bf cheating tt</td>\n",
       "      <td>0</td>\n",
       "    </tr>\n",
       "    <tr>\n",
       "      <th>...</th>\n",
       "      <td>...</td>\n",
       "      <td>...</td>\n",
       "    </tr>\n",
       "    <tr>\n",
       "      <th>1048570</th>\n",
       "      <td>missing fiancee sooo badly love baybay</td>\n",
       "      <td>0</td>\n",
       "    </tr>\n",
       "    <tr>\n",
       "      <th>1048571</th>\n",
       "      <td>missing friend</td>\n",
       "      <td>0</td>\n",
       "    </tr>\n",
       "    <tr>\n",
       "      <th>1048572</th>\n",
       "      <td>missing friend cousin two months passed quickly</td>\n",
       "      <td>0</td>\n",
       "    </tr>\n",
       "    <tr>\n",
       "      <th>1048573</th>\n",
       "      <td>missing friends</td>\n",
       "      <td>0</td>\n",
       "    </tr>\n",
       "    <tr>\n",
       "      <th>1048574</th>\n",
       "      <td>missing friends</td>\n",
       "      <td>0</td>\n",
       "    </tr>\n",
       "  </tbody>\n",
       "</table>\n",
       "<p>1048575 rows × 2 columns</p>\n",
       "</div>"
      ]
     },
     "execution_count": 32,
     "metadata": {},
     "output_type": "execute_result"
    }
   ],
   "execution_count": 32
  },
  {
   "metadata": {
    "ExecuteTime": {
     "end_time": "2025-03-18T20:00:15.458023Z",
     "start_time": "2025-03-18T20:00:15.016022Z"
    }
   },
   "cell_type": "code",
   "source": "D3.duplicated().sum()",
   "id": "b849e96b3e8b7429",
   "outputs": [
    {
     "data": {
      "text/plain": [
       "11695"
      ]
     },
     "execution_count": 33,
     "metadata": {},
     "output_type": "execute_result"
    }
   ],
   "execution_count": 33
  },
  {
   "metadata": {
    "ExecuteTime": {
     "end_time": "2025-03-18T20:00:15.922124Z",
     "start_time": "2025-03-18T20:00:15.459811Z"
    }
   },
   "cell_type": "code",
   "source": "D3.drop_duplicates()",
   "id": "7d2784dc239fa9e3",
   "outputs": [
    {
     "data": {
      "text/plain": [
       "                                                      text  sentiment\n",
       "0                                           sad apl friend          0\n",
       "1                                  missed new moon trailer          0\n",
       "2                                              omg already          1\n",
       "3        omgaga im sooo im gunna cry ive dentist since ...          0\n",
       "4                                  think mi bf cheating tt          0\n",
       "...                                                    ...        ...\n",
       "1048567                                 missing family usa          0\n",
       "1048568                        missing family lots tonight          0\n",
       "1048569                                     missing fiance          0\n",
       "1048570             missing fiancee sooo badly love baybay          0\n",
       "1048572    missing friend cousin two months passed quickly          0\n",
       "\n",
       "[1036880 rows x 2 columns]"
      ],
      "text/html": [
       "<div>\n",
       "<style scoped>\n",
       "    .dataframe tbody tr th:only-of-type {\n",
       "        vertical-align: middle;\n",
       "    }\n",
       "\n",
       "    .dataframe tbody tr th {\n",
       "        vertical-align: top;\n",
       "    }\n",
       "\n",
       "    .dataframe thead th {\n",
       "        text-align: right;\n",
       "    }\n",
       "</style>\n",
       "<table border=\"1\" class=\"dataframe\">\n",
       "  <thead>\n",
       "    <tr style=\"text-align: right;\">\n",
       "      <th></th>\n",
       "      <th>text</th>\n",
       "      <th>sentiment</th>\n",
       "    </tr>\n",
       "  </thead>\n",
       "  <tbody>\n",
       "    <tr>\n",
       "      <th>0</th>\n",
       "      <td>sad apl friend</td>\n",
       "      <td>0</td>\n",
       "    </tr>\n",
       "    <tr>\n",
       "      <th>1</th>\n",
       "      <td>missed new moon trailer</td>\n",
       "      <td>0</td>\n",
       "    </tr>\n",
       "    <tr>\n",
       "      <th>2</th>\n",
       "      <td>omg already</td>\n",
       "      <td>1</td>\n",
       "    </tr>\n",
       "    <tr>\n",
       "      <th>3</th>\n",
       "      <td>omgaga im sooo im gunna cry ive dentist since ...</td>\n",
       "      <td>0</td>\n",
       "    </tr>\n",
       "    <tr>\n",
       "      <th>4</th>\n",
       "      <td>think mi bf cheating tt</td>\n",
       "      <td>0</td>\n",
       "    </tr>\n",
       "    <tr>\n",
       "      <th>...</th>\n",
       "      <td>...</td>\n",
       "      <td>...</td>\n",
       "    </tr>\n",
       "    <tr>\n",
       "      <th>1048567</th>\n",
       "      <td>missing family usa</td>\n",
       "      <td>0</td>\n",
       "    </tr>\n",
       "    <tr>\n",
       "      <th>1048568</th>\n",
       "      <td>missing family lots tonight</td>\n",
       "      <td>0</td>\n",
       "    </tr>\n",
       "    <tr>\n",
       "      <th>1048569</th>\n",
       "      <td>missing fiance</td>\n",
       "      <td>0</td>\n",
       "    </tr>\n",
       "    <tr>\n",
       "      <th>1048570</th>\n",
       "      <td>missing fiancee sooo badly love baybay</td>\n",
       "      <td>0</td>\n",
       "    </tr>\n",
       "    <tr>\n",
       "      <th>1048572</th>\n",
       "      <td>missing friend cousin two months passed quickly</td>\n",
       "      <td>0</td>\n",
       "    </tr>\n",
       "  </tbody>\n",
       "</table>\n",
       "<p>1036880 rows × 2 columns</p>\n",
       "</div>"
      ]
     },
     "execution_count": 34,
     "metadata": {},
     "output_type": "execute_result"
    }
   ],
   "execution_count": 34
  },
  {
   "metadata": {
    "ExecuteTime": {
     "end_time": "2025-03-18T20:00:15.977638Z",
     "start_time": "2025-03-18T20:00:15.923134Z"
    }
   },
   "cell_type": "code",
   "source": "D3.isna().sum()",
   "id": "4a8c4b85333dcead",
   "outputs": [
    {
     "data": {
      "text/plain": [
       "text         0\n",
       "sentiment    0\n",
       "dtype: int64"
      ]
     },
     "execution_count": 35,
     "metadata": {},
     "output_type": "execute_result"
    }
   ],
   "execution_count": 35
  },
  {
   "metadata": {
    "ExecuteTime": {
     "end_time": "2025-03-18T20:00:15.999822Z",
     "start_time": "2025-03-18T20:00:15.979534Z"
    }
   },
   "cell_type": "code",
   "source": [
    "\n",
    "D3['sentiment'] = D3['sentiment'].map({1: 2, 0: 0})"
   ],
   "id": "c8560a49c7822836",
   "outputs": [],
   "execution_count": 36
  },
  {
   "metadata": {
    "ExecuteTime": {
     "end_time": "2025-03-18T20:00:16.008940Z",
     "start_time": "2025-03-18T20:00:16.001400Z"
    }
   },
   "cell_type": "code",
   "source": "D3",
   "id": "fa084e49a796f58b",
   "outputs": [
    {
     "data": {
      "text/plain": [
       "                                                      text  sentiment\n",
       "0                                           sad apl friend          0\n",
       "1                                  missed new moon trailer          0\n",
       "2                                              omg already          2\n",
       "3        omgaga im sooo im gunna cry ive dentist since ...          0\n",
       "4                                  think mi bf cheating tt          0\n",
       "...                                                    ...        ...\n",
       "1048570             missing fiancee sooo badly love baybay          0\n",
       "1048571                                     missing friend          0\n",
       "1048572    missing friend cousin two months passed quickly          0\n",
       "1048573                                    missing friends          0\n",
       "1048574                                    missing friends          0\n",
       "\n",
       "[1048575 rows x 2 columns]"
      ],
      "text/html": [
       "<div>\n",
       "<style scoped>\n",
       "    .dataframe tbody tr th:only-of-type {\n",
       "        vertical-align: middle;\n",
       "    }\n",
       "\n",
       "    .dataframe tbody tr th {\n",
       "        vertical-align: top;\n",
       "    }\n",
       "\n",
       "    .dataframe thead th {\n",
       "        text-align: right;\n",
       "    }\n",
       "</style>\n",
       "<table border=\"1\" class=\"dataframe\">\n",
       "  <thead>\n",
       "    <tr style=\"text-align: right;\">\n",
       "      <th></th>\n",
       "      <th>text</th>\n",
       "      <th>sentiment</th>\n",
       "    </tr>\n",
       "  </thead>\n",
       "  <tbody>\n",
       "    <tr>\n",
       "      <th>0</th>\n",
       "      <td>sad apl friend</td>\n",
       "      <td>0</td>\n",
       "    </tr>\n",
       "    <tr>\n",
       "      <th>1</th>\n",
       "      <td>missed new moon trailer</td>\n",
       "      <td>0</td>\n",
       "    </tr>\n",
       "    <tr>\n",
       "      <th>2</th>\n",
       "      <td>omg already</td>\n",
       "      <td>2</td>\n",
       "    </tr>\n",
       "    <tr>\n",
       "      <th>3</th>\n",
       "      <td>omgaga im sooo im gunna cry ive dentist since ...</td>\n",
       "      <td>0</td>\n",
       "    </tr>\n",
       "    <tr>\n",
       "      <th>4</th>\n",
       "      <td>think mi bf cheating tt</td>\n",
       "      <td>0</td>\n",
       "    </tr>\n",
       "    <tr>\n",
       "      <th>...</th>\n",
       "      <td>...</td>\n",
       "      <td>...</td>\n",
       "    </tr>\n",
       "    <tr>\n",
       "      <th>1048570</th>\n",
       "      <td>missing fiancee sooo badly love baybay</td>\n",
       "      <td>0</td>\n",
       "    </tr>\n",
       "    <tr>\n",
       "      <th>1048571</th>\n",
       "      <td>missing friend</td>\n",
       "      <td>0</td>\n",
       "    </tr>\n",
       "    <tr>\n",
       "      <th>1048572</th>\n",
       "      <td>missing friend cousin two months passed quickly</td>\n",
       "      <td>0</td>\n",
       "    </tr>\n",
       "    <tr>\n",
       "      <th>1048573</th>\n",
       "      <td>missing friends</td>\n",
       "      <td>0</td>\n",
       "    </tr>\n",
       "    <tr>\n",
       "      <th>1048574</th>\n",
       "      <td>missing friends</td>\n",
       "      <td>0</td>\n",
       "    </tr>\n",
       "  </tbody>\n",
       "</table>\n",
       "<p>1048575 rows × 2 columns</p>\n",
       "</div>"
      ]
     },
     "execution_count": 37,
     "metadata": {},
     "output_type": "execute_result"
    }
   ],
   "execution_count": 37
  },
  {
   "metadata": {
    "ExecuteTime": {
     "end_time": "2025-03-18T20:01:11.229743Z",
     "start_time": "2025-03-18T20:01:10.047499Z"
    }
   },
   "cell_type": "code",
   "source": "D3.to_csv(\"data/Sentiment analysis/Preprocessed data/D3.csv\", index=False)",
   "id": "736cd5451213e16c",
   "outputs": [],
   "execution_count": 38
  },
  {
   "metadata": {},
   "cell_type": "code",
   "outputs": [],
   "execution_count": null,
   "source": "",
   "id": "f3ce94ee2b79fdd3"
  }
 ],
 "metadata": {
  "kernelspec": {
   "display_name": "Python 3",
   "language": "python",
   "name": "python3"
  },
  "language_info": {
   "codemirror_mode": {
    "name": "ipython",
    "version": 2
   },
   "file_extension": ".py",
   "mimetype": "text/x-python",
   "name": "python",
   "nbconvert_exporter": "python",
   "pygments_lexer": "ipython2",
   "version": "2.7.6"
  }
 },
 "nbformat": 4,
 "nbformat_minor": 5
}
