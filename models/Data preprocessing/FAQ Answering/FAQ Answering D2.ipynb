{
 "cells": [
  {
   "cell_type": "code",
   "id": "initial_id",
   "metadata": {
    "collapsed": true,
    "ExecuteTime": {
     "end_time": "2025-03-21T14:14:07.797067Z",
     "start_time": "2025-03-21T14:14:07.791707Z"
    }
   },
   "source": "import pandas as pd",
   "outputs": [],
   "execution_count": 42
  },
  {
   "metadata": {
    "ExecuteTime": {
     "end_time": "2025-03-21T14:14:10.183909Z",
     "start_time": "2025-03-21T14:14:07.797067Z"
    }
   },
   "cell_type": "code",
   "source": [
    "D2_1 = pd.read_csv(\"data/FAQ Answering/D2 MS MARCO/train.csv\")\n",
    "D2_2 = pd.read_csv(\"data/FAQ Answering/D2 MS MARCO/valid.csv\")"
   ],
   "id": "bc8d94c92b444c0e",
   "outputs": [],
   "execution_count": 43
  },
  {
   "metadata": {
    "ExecuteTime": {
     "end_time": "2025-03-21T14:14:10.197292Z",
     "start_time": "2025-03-21T14:14:10.183909Z"
    }
   },
   "cell_type": "code",
   "source": "D2_1",
   "id": "4619c047e4ef51c0",
   "outputs": [
    {
     "data": {
      "text/plain": [
       "                                                  answers  \\\n",
       "0       Kids who are bipolar, in their manic stages, v...   \n",
       "1                       Equifax, transunion and experian.   \n",
       "2       Women eat at least 1,200 calories daily and me...   \n",
       "3       Because Caffeine increases the stress hormone ...   \n",
       "4                                             Kent County   \n",
       "...                                                   ...   \n",
       "119995  It is comprised of bones and joints and provid...   \n",
       "119996  It is a world leader in the research and treat...   \n",
       "119997  A disease in which malignant (cancer) cells fo...   \n",
       "119998  Verbs which consist of a verb and one or two p...   \n",
       "119999                                       Aaron Staton   \n",
       "\n",
       "                                                    query  \\\n",
       "0                          why do children get aggressive   \n",
       "1       which credit bureau is used the most for auto ...   \n",
       "2              what is the minimum healthy calorie intake   \n",
       "3                        why is coffee making gain weight   \n",
       "4                      what county is grand rapids, mi in   \n",
       "...                                                   ...   \n",
       "119995  definition of what the skeletal system consist...   \n",
       "119996                               what is city of hope   \n",
       "119997              what does malignant mesothelioma mean   \n",
       "119998                        multi part verbs definition   \n",
       "119999                  who plays ken cosgrove on mad men   \n",
       "\n",
       "                                             finalpassage  \n",
       "0       At the same time, despite claiming the review ...  \n",
       "1       Best Answer: both of those answers are wrong. ...  \n",
       "2       Safe Intakes. If you’re not supervised by a me...  \n",
       "3       Is coffee making you fat? If you are overweigh...  \n",
       "4       Located in Grand Rapids, Michigan, the 61st Di...  \n",
       "...                                                   ...  \n",
       "119995  The adult human skeletal system consists of 20...  \n",
       "119996  Designated as a comprehensive cancer center, t...  \n",
       "119997  1 Malignant mesothelioma is a disease in which...  \n",
       "119998  Definition of phrasal verb. : a phrase (as tak...  \n",
       "119999  Dan Calvisi interviews actor Aaron Staton who ...  \n",
       "\n",
       "[120000 rows x 3 columns]"
      ],
      "text/html": [
       "<div>\n",
       "<style scoped>\n",
       "    .dataframe tbody tr th:only-of-type {\n",
       "        vertical-align: middle;\n",
       "    }\n",
       "\n",
       "    .dataframe tbody tr th {\n",
       "        vertical-align: top;\n",
       "    }\n",
       "\n",
       "    .dataframe thead th {\n",
       "        text-align: right;\n",
       "    }\n",
       "</style>\n",
       "<table border=\"1\" class=\"dataframe\">\n",
       "  <thead>\n",
       "    <tr style=\"text-align: right;\">\n",
       "      <th></th>\n",
       "      <th>answers</th>\n",
       "      <th>query</th>\n",
       "      <th>finalpassage</th>\n",
       "    </tr>\n",
       "  </thead>\n",
       "  <tbody>\n",
       "    <tr>\n",
       "      <th>0</th>\n",
       "      <td>Kids who are bipolar, in their manic stages, v...</td>\n",
       "      <td>why do children get aggressive</td>\n",
       "      <td>At the same time, despite claiming the review ...</td>\n",
       "    </tr>\n",
       "    <tr>\n",
       "      <th>1</th>\n",
       "      <td>Equifax, transunion and experian.</td>\n",
       "      <td>which credit bureau is used the most for auto ...</td>\n",
       "      <td>Best Answer: both of those answers are wrong. ...</td>\n",
       "    </tr>\n",
       "    <tr>\n",
       "      <th>2</th>\n",
       "      <td>Women eat at least 1,200 calories daily and me...</td>\n",
       "      <td>what is the minimum healthy calorie intake</td>\n",
       "      <td>Safe Intakes. If you’re not supervised by a me...</td>\n",
       "    </tr>\n",
       "    <tr>\n",
       "      <th>3</th>\n",
       "      <td>Because Caffeine increases the stress hormone ...</td>\n",
       "      <td>why is coffee making gain weight</td>\n",
       "      <td>Is coffee making you fat? If you are overweigh...</td>\n",
       "    </tr>\n",
       "    <tr>\n",
       "      <th>4</th>\n",
       "      <td>Kent County</td>\n",
       "      <td>what county is grand rapids, mi in</td>\n",
       "      <td>Located in Grand Rapids, Michigan, the 61st Di...</td>\n",
       "    </tr>\n",
       "    <tr>\n",
       "      <th>...</th>\n",
       "      <td>...</td>\n",
       "      <td>...</td>\n",
       "      <td>...</td>\n",
       "    </tr>\n",
       "    <tr>\n",
       "      <th>119995</th>\n",
       "      <td>It is comprised of bones and joints and provid...</td>\n",
       "      <td>definition of what the skeletal system consist...</td>\n",
       "      <td>The adult human skeletal system consists of 20...</td>\n",
       "    </tr>\n",
       "    <tr>\n",
       "      <th>119996</th>\n",
       "      <td>It is a world leader in the research and treat...</td>\n",
       "      <td>what is city of hope</td>\n",
       "      <td>Designated as a comprehensive cancer center, t...</td>\n",
       "    </tr>\n",
       "    <tr>\n",
       "      <th>119997</th>\n",
       "      <td>A disease in which malignant (cancer) cells fo...</td>\n",
       "      <td>what does malignant mesothelioma mean</td>\n",
       "      <td>1 Malignant mesothelioma is a disease in which...</td>\n",
       "    </tr>\n",
       "    <tr>\n",
       "      <th>119998</th>\n",
       "      <td>Verbs which consist of a verb and one or two p...</td>\n",
       "      <td>multi part verbs definition</td>\n",
       "      <td>Definition of phrasal verb. : a phrase (as tak...</td>\n",
       "    </tr>\n",
       "    <tr>\n",
       "      <th>119999</th>\n",
       "      <td>Aaron Staton</td>\n",
       "      <td>who plays ken cosgrove on mad men</td>\n",
       "      <td>Dan Calvisi interviews actor Aaron Staton who ...</td>\n",
       "    </tr>\n",
       "  </tbody>\n",
       "</table>\n",
       "<p>120000 rows × 3 columns</p>\n",
       "</div>"
      ]
     },
     "execution_count": 44,
     "metadata": {},
     "output_type": "execute_result"
    }
   ],
   "execution_count": 44
  },
  {
   "metadata": {
    "ExecuteTime": {
     "end_time": "2025-03-21T14:14:10.207860Z",
     "start_time": "2025-03-21T14:14:10.197292Z"
    }
   },
   "cell_type": "code",
   "source": "D2_1 = D2_1[[\"query\", \"finalpassage\"]]",
   "id": "6baaed75d2492a6a",
   "outputs": [],
   "execution_count": 45
  },
  {
   "metadata": {
    "ExecuteTime": {
     "end_time": "2025-03-21T14:14:10.218875Z",
     "start_time": "2025-03-21T14:14:10.207860Z"
    }
   },
   "cell_type": "code",
   "source": "D2_1",
   "id": "662facc2ca577707",
   "outputs": [
    {
     "data": {
      "text/plain": [
       "                                                    query  \\\n",
       "0                          why do children get aggressive   \n",
       "1       which credit bureau is used the most for auto ...   \n",
       "2              what is the minimum healthy calorie intake   \n",
       "3                        why is coffee making gain weight   \n",
       "4                      what county is grand rapids, mi in   \n",
       "...                                                   ...   \n",
       "119995  definition of what the skeletal system consist...   \n",
       "119996                               what is city of hope   \n",
       "119997              what does malignant mesothelioma mean   \n",
       "119998                        multi part verbs definition   \n",
       "119999                  who plays ken cosgrove on mad men   \n",
       "\n",
       "                                             finalpassage  \n",
       "0       At the same time, despite claiming the review ...  \n",
       "1       Best Answer: both of those answers are wrong. ...  \n",
       "2       Safe Intakes. If you’re not supervised by a me...  \n",
       "3       Is coffee making you fat? If you are overweigh...  \n",
       "4       Located in Grand Rapids, Michigan, the 61st Di...  \n",
       "...                                                   ...  \n",
       "119995  The adult human skeletal system consists of 20...  \n",
       "119996  Designated as a comprehensive cancer center, t...  \n",
       "119997  1 Malignant mesothelioma is a disease in which...  \n",
       "119998  Definition of phrasal verb. : a phrase (as tak...  \n",
       "119999  Dan Calvisi interviews actor Aaron Staton who ...  \n",
       "\n",
       "[120000 rows x 2 columns]"
      ],
      "text/html": [
       "<div>\n",
       "<style scoped>\n",
       "    .dataframe tbody tr th:only-of-type {\n",
       "        vertical-align: middle;\n",
       "    }\n",
       "\n",
       "    .dataframe tbody tr th {\n",
       "        vertical-align: top;\n",
       "    }\n",
       "\n",
       "    .dataframe thead th {\n",
       "        text-align: right;\n",
       "    }\n",
       "</style>\n",
       "<table border=\"1\" class=\"dataframe\">\n",
       "  <thead>\n",
       "    <tr style=\"text-align: right;\">\n",
       "      <th></th>\n",
       "      <th>query</th>\n",
       "      <th>finalpassage</th>\n",
       "    </tr>\n",
       "  </thead>\n",
       "  <tbody>\n",
       "    <tr>\n",
       "      <th>0</th>\n",
       "      <td>why do children get aggressive</td>\n",
       "      <td>At the same time, despite claiming the review ...</td>\n",
       "    </tr>\n",
       "    <tr>\n",
       "      <th>1</th>\n",
       "      <td>which credit bureau is used the most for auto ...</td>\n",
       "      <td>Best Answer: both of those answers are wrong. ...</td>\n",
       "    </tr>\n",
       "    <tr>\n",
       "      <th>2</th>\n",
       "      <td>what is the minimum healthy calorie intake</td>\n",
       "      <td>Safe Intakes. If you’re not supervised by a me...</td>\n",
       "    </tr>\n",
       "    <tr>\n",
       "      <th>3</th>\n",
       "      <td>why is coffee making gain weight</td>\n",
       "      <td>Is coffee making you fat? If you are overweigh...</td>\n",
       "    </tr>\n",
       "    <tr>\n",
       "      <th>4</th>\n",
       "      <td>what county is grand rapids, mi in</td>\n",
       "      <td>Located in Grand Rapids, Michigan, the 61st Di...</td>\n",
       "    </tr>\n",
       "    <tr>\n",
       "      <th>...</th>\n",
       "      <td>...</td>\n",
       "      <td>...</td>\n",
       "    </tr>\n",
       "    <tr>\n",
       "      <th>119995</th>\n",
       "      <td>definition of what the skeletal system consist...</td>\n",
       "      <td>The adult human skeletal system consists of 20...</td>\n",
       "    </tr>\n",
       "    <tr>\n",
       "      <th>119996</th>\n",
       "      <td>what is city of hope</td>\n",
       "      <td>Designated as a comprehensive cancer center, t...</td>\n",
       "    </tr>\n",
       "    <tr>\n",
       "      <th>119997</th>\n",
       "      <td>what does malignant mesothelioma mean</td>\n",
       "      <td>1 Malignant mesothelioma is a disease in which...</td>\n",
       "    </tr>\n",
       "    <tr>\n",
       "      <th>119998</th>\n",
       "      <td>multi part verbs definition</td>\n",
       "      <td>Definition of phrasal verb. : a phrase (as tak...</td>\n",
       "    </tr>\n",
       "    <tr>\n",
       "      <th>119999</th>\n",
       "      <td>who plays ken cosgrove on mad men</td>\n",
       "      <td>Dan Calvisi interviews actor Aaron Staton who ...</td>\n",
       "    </tr>\n",
       "  </tbody>\n",
       "</table>\n",
       "<p>120000 rows × 2 columns</p>\n",
       "</div>"
      ]
     },
     "execution_count": 46,
     "metadata": {},
     "output_type": "execute_result"
    }
   ],
   "execution_count": 46
  },
  {
   "metadata": {
    "ExecuteTime": {
     "end_time": "2025-03-21T14:14:10.364711Z",
     "start_time": "2025-03-21T14:14:10.218875Z"
    }
   },
   "cell_type": "code",
   "source": "D2_1.duplicated().sum()",
   "id": "9a515555c7277ef2",
   "outputs": [
    {
     "data": {
      "text/plain": [
       "0"
      ]
     },
     "execution_count": 47,
     "metadata": {},
     "output_type": "execute_result"
    }
   ],
   "execution_count": 47
  },
  {
   "metadata": {
    "ExecuteTime": {
     "end_time": "2025-03-21T14:14:10.401025Z",
     "start_time": "2025-03-21T14:14:10.364711Z"
    }
   },
   "cell_type": "code",
   "source": "D2_1.isnull().sum()",
   "id": "757df9c18aa7280f",
   "outputs": [
    {
     "data": {
      "text/plain": [
       "query            0\n",
       "finalpassage    24\n",
       "dtype: int64"
      ]
     },
     "execution_count": 48,
     "metadata": {},
     "output_type": "execute_result"
    }
   ],
   "execution_count": 48
  },
  {
   "metadata": {
    "ExecuteTime": {
     "end_time": "2025-03-21T14:14:10.442971Z",
     "start_time": "2025-03-21T14:14:10.401025Z"
    }
   },
   "cell_type": "code",
   "source": "D2_1 = D2_1.dropna(axis=0, how='any')",
   "id": "e2c831a398eaed0f",
   "outputs": [],
   "execution_count": 49
  },
  {
   "metadata": {
    "ExecuteTime": {
     "end_time": "2025-03-21T14:14:10.449325Z",
     "start_time": "2025-03-21T14:14:10.442971Z"
    }
   },
   "cell_type": "code",
   "source": "D2_1.shape",
   "id": "96985f89e36a4c16",
   "outputs": [
    {
     "data": {
      "text/plain": [
       "(119976, 2)"
      ]
     },
     "execution_count": 50,
     "metadata": {},
     "output_type": "execute_result"
    }
   ],
   "execution_count": 50
  },
  {
   "metadata": {
    "ExecuteTime": {
     "end_time": "2025-03-21T14:14:10.460886Z",
     "start_time": "2025-03-21T14:14:10.449325Z"
    }
   },
   "cell_type": "code",
   "source": "D2_2",
   "id": "a2a7b6371d3bfc10",
   "outputs": [
    {
     "data": {
      "text/plain": [
       "                                                 answers  \\\n",
       "0      It is a very popular first name for men and al...   \n",
       "1                                             No worries   \n",
       "2      Electronic medical recordElectronic Medical Re...   \n",
       "3                        It is the skin around its neck.   \n",
       "4      On the inner surface of your arm near your elbow.   \n",
       "...                                                  ...   \n",
       "10580          Myanmar, India, Japan, Sub-Saharan Africa   \n",
       "10581  The person must be licensed through the state'...   \n",
       "10582                                   2 weeks or less.   \n",
       "10583                                   $1,500 to $4,000   \n",
       "10584                           Burton's Biscuit Company   \n",
       "\n",
       "                                                   query  \\\n",
       "0                         how popular is the name conrad   \n",
       "1                           disney hakuna matata meaning   \n",
       "2                                what does emr stand for   \n",
       "3                                   what is a dog's ruff   \n",
       "4      what is the part on your arm where they draw b...   \n",
       "...                                                  ...   \n",
       "10580                     where is sesame seed harvested   \n",
       "10581         requirements to become a real estate agent   \n",
       "10582                         what are butterflies live?   \n",
       "10583                     how much does a new fence cost   \n",
       "10584                            who makes jammy dodgers   \n",
       "\n",
       "                                            finalpassage  \n",
       "0      The name Conrad is a baby boy name. The name C...  \n",
       "1      Hakuna Matata (song) Hakuna Matata is a song f...  \n",
       "2      The EMR (electronic medical record) is used to...  \n",
       "3      No problem! Many dogs, like many people, are j...  \n",
       "4      One, called venipuncture, involves drawing a v...  \n",
       "...                                                  ...  \n",
       "10580  Sesame has one of the highest oil contents of ...  \n",
       "10581  Shares & Saves. Save. To become a real estate ...  \n",
       "10582  Monarchs and Swallowtails may live about a mon...  \n",
       "10583  1 Chain-link fence prices fluctuate with the c...  \n",
       "10584  Jammie Dodgers. Jammie Dodgers are a popular B...  \n",
       "\n",
       "[10585 rows x 3 columns]"
      ],
      "text/html": [
       "<div>\n",
       "<style scoped>\n",
       "    .dataframe tbody tr th:only-of-type {\n",
       "        vertical-align: middle;\n",
       "    }\n",
       "\n",
       "    .dataframe tbody tr th {\n",
       "        vertical-align: top;\n",
       "    }\n",
       "\n",
       "    .dataframe thead th {\n",
       "        text-align: right;\n",
       "    }\n",
       "</style>\n",
       "<table border=\"1\" class=\"dataframe\">\n",
       "  <thead>\n",
       "    <tr style=\"text-align: right;\">\n",
       "      <th></th>\n",
       "      <th>answers</th>\n",
       "      <th>query</th>\n",
       "      <th>finalpassage</th>\n",
       "    </tr>\n",
       "  </thead>\n",
       "  <tbody>\n",
       "    <tr>\n",
       "      <th>0</th>\n",
       "      <td>It is a very popular first name for men and al...</td>\n",
       "      <td>how popular is the name conrad</td>\n",
       "      <td>The name Conrad is a baby boy name. The name C...</td>\n",
       "    </tr>\n",
       "    <tr>\n",
       "      <th>1</th>\n",
       "      <td>No worries</td>\n",
       "      <td>disney hakuna matata meaning</td>\n",
       "      <td>Hakuna Matata (song) Hakuna Matata is a song f...</td>\n",
       "    </tr>\n",
       "    <tr>\n",
       "      <th>2</th>\n",
       "      <td>Electronic medical recordElectronic Medical Re...</td>\n",
       "      <td>what does emr stand for</td>\n",
       "      <td>The EMR (electronic medical record) is used to...</td>\n",
       "    </tr>\n",
       "    <tr>\n",
       "      <th>3</th>\n",
       "      <td>It is the skin around its neck.</td>\n",
       "      <td>what is a dog's ruff</td>\n",
       "      <td>No problem! Many dogs, like many people, are j...</td>\n",
       "    </tr>\n",
       "    <tr>\n",
       "      <th>4</th>\n",
       "      <td>On the inner surface of your arm near your elbow.</td>\n",
       "      <td>what is the part on your arm where they draw b...</td>\n",
       "      <td>One, called venipuncture, involves drawing a v...</td>\n",
       "    </tr>\n",
       "    <tr>\n",
       "      <th>...</th>\n",
       "      <td>...</td>\n",
       "      <td>...</td>\n",
       "      <td>...</td>\n",
       "    </tr>\n",
       "    <tr>\n",
       "      <th>10580</th>\n",
       "      <td>Myanmar, India, Japan, Sub-Saharan Africa</td>\n",
       "      <td>where is sesame seed harvested</td>\n",
       "      <td>Sesame has one of the highest oil contents of ...</td>\n",
       "    </tr>\n",
       "    <tr>\n",
       "      <th>10581</th>\n",
       "      <td>The person must be licensed through the state'...</td>\n",
       "      <td>requirements to become a real estate agent</td>\n",
       "      <td>Shares &amp; Saves. Save. To become a real estate ...</td>\n",
       "    </tr>\n",
       "    <tr>\n",
       "      <th>10582</th>\n",
       "      <td>2 weeks or less.</td>\n",
       "      <td>what are butterflies live?</td>\n",
       "      <td>Monarchs and Swallowtails may live about a mon...</td>\n",
       "    </tr>\n",
       "    <tr>\n",
       "      <th>10583</th>\n",
       "      <td>$1,500 to $4,000</td>\n",
       "      <td>how much does a new fence cost</td>\n",
       "      <td>1 Chain-link fence prices fluctuate with the c...</td>\n",
       "    </tr>\n",
       "    <tr>\n",
       "      <th>10584</th>\n",
       "      <td>Burton's Biscuit Company</td>\n",
       "      <td>who makes jammy dodgers</td>\n",
       "      <td>Jammie Dodgers. Jammie Dodgers are a popular B...</td>\n",
       "    </tr>\n",
       "  </tbody>\n",
       "</table>\n",
       "<p>10585 rows × 3 columns</p>\n",
       "</div>"
      ]
     },
     "execution_count": 51,
     "metadata": {},
     "output_type": "execute_result"
    }
   ],
   "execution_count": 51
  },
  {
   "metadata": {
    "ExecuteTime": {
     "end_time": "2025-03-21T14:14:10.468345Z",
     "start_time": "2025-03-21T14:14:10.460886Z"
    }
   },
   "cell_type": "code",
   "source": [
    "\n",
    "D2_2 = D2_2[[\"query\", \"finalpassage\"]]"
   ],
   "id": "ca976788c9340a75",
   "outputs": [],
   "execution_count": 52
  },
  {
   "metadata": {
    "ExecuteTime": {
     "end_time": "2025-03-21T14:14:10.481558Z",
     "start_time": "2025-03-21T14:14:10.468345Z"
    }
   },
   "cell_type": "code",
   "source": [
    "\n",
    "D2_2"
   ],
   "id": "90327cc9370f4396",
   "outputs": [
    {
     "data": {
      "text/plain": [
       "                                                   query  \\\n",
       "0                         how popular is the name conrad   \n",
       "1                           disney hakuna matata meaning   \n",
       "2                                what does emr stand for   \n",
       "3                                   what is a dog's ruff   \n",
       "4      what is the part on your arm where they draw b...   \n",
       "...                                                  ...   \n",
       "10580                     where is sesame seed harvested   \n",
       "10581         requirements to become a real estate agent   \n",
       "10582                         what are butterflies live?   \n",
       "10583                     how much does a new fence cost   \n",
       "10584                            who makes jammy dodgers   \n",
       "\n",
       "                                            finalpassage  \n",
       "0      The name Conrad is a baby boy name. The name C...  \n",
       "1      Hakuna Matata (song) Hakuna Matata is a song f...  \n",
       "2      The EMR (electronic medical record) is used to...  \n",
       "3      No problem! Many dogs, like many people, are j...  \n",
       "4      One, called venipuncture, involves drawing a v...  \n",
       "...                                                  ...  \n",
       "10580  Sesame has one of the highest oil contents of ...  \n",
       "10581  Shares & Saves. Save. To become a real estate ...  \n",
       "10582  Monarchs and Swallowtails may live about a mon...  \n",
       "10583  1 Chain-link fence prices fluctuate with the c...  \n",
       "10584  Jammie Dodgers. Jammie Dodgers are a popular B...  \n",
       "\n",
       "[10585 rows x 2 columns]"
      ],
      "text/html": [
       "<div>\n",
       "<style scoped>\n",
       "    .dataframe tbody tr th:only-of-type {\n",
       "        vertical-align: middle;\n",
       "    }\n",
       "\n",
       "    .dataframe tbody tr th {\n",
       "        vertical-align: top;\n",
       "    }\n",
       "\n",
       "    .dataframe thead th {\n",
       "        text-align: right;\n",
       "    }\n",
       "</style>\n",
       "<table border=\"1\" class=\"dataframe\">\n",
       "  <thead>\n",
       "    <tr style=\"text-align: right;\">\n",
       "      <th></th>\n",
       "      <th>query</th>\n",
       "      <th>finalpassage</th>\n",
       "    </tr>\n",
       "  </thead>\n",
       "  <tbody>\n",
       "    <tr>\n",
       "      <th>0</th>\n",
       "      <td>how popular is the name conrad</td>\n",
       "      <td>The name Conrad is a baby boy name. The name C...</td>\n",
       "    </tr>\n",
       "    <tr>\n",
       "      <th>1</th>\n",
       "      <td>disney hakuna matata meaning</td>\n",
       "      <td>Hakuna Matata (song) Hakuna Matata is a song f...</td>\n",
       "    </tr>\n",
       "    <tr>\n",
       "      <th>2</th>\n",
       "      <td>what does emr stand for</td>\n",
       "      <td>The EMR (electronic medical record) is used to...</td>\n",
       "    </tr>\n",
       "    <tr>\n",
       "      <th>3</th>\n",
       "      <td>what is a dog's ruff</td>\n",
       "      <td>No problem! Many dogs, like many people, are j...</td>\n",
       "    </tr>\n",
       "    <tr>\n",
       "      <th>4</th>\n",
       "      <td>what is the part on your arm where they draw b...</td>\n",
       "      <td>One, called venipuncture, involves drawing a v...</td>\n",
       "    </tr>\n",
       "    <tr>\n",
       "      <th>...</th>\n",
       "      <td>...</td>\n",
       "      <td>...</td>\n",
       "    </tr>\n",
       "    <tr>\n",
       "      <th>10580</th>\n",
       "      <td>where is sesame seed harvested</td>\n",
       "      <td>Sesame has one of the highest oil contents of ...</td>\n",
       "    </tr>\n",
       "    <tr>\n",
       "      <th>10581</th>\n",
       "      <td>requirements to become a real estate agent</td>\n",
       "      <td>Shares &amp; Saves. Save. To become a real estate ...</td>\n",
       "    </tr>\n",
       "    <tr>\n",
       "      <th>10582</th>\n",
       "      <td>what are butterflies live?</td>\n",
       "      <td>Monarchs and Swallowtails may live about a mon...</td>\n",
       "    </tr>\n",
       "    <tr>\n",
       "      <th>10583</th>\n",
       "      <td>how much does a new fence cost</td>\n",
       "      <td>1 Chain-link fence prices fluctuate with the c...</td>\n",
       "    </tr>\n",
       "    <tr>\n",
       "      <th>10584</th>\n",
       "      <td>who makes jammy dodgers</td>\n",
       "      <td>Jammie Dodgers. Jammie Dodgers are a popular B...</td>\n",
       "    </tr>\n",
       "  </tbody>\n",
       "</table>\n",
       "<p>10585 rows × 2 columns</p>\n",
       "</div>"
      ]
     },
     "execution_count": 53,
     "metadata": {},
     "output_type": "execute_result"
    }
   ],
   "execution_count": 53
  },
  {
   "metadata": {
    "ExecuteTime": {
     "end_time": "2025-03-21T14:14:10.498599Z",
     "start_time": "2025-03-21T14:14:10.481558Z"
    }
   },
   "cell_type": "code",
   "source": [
    "\n",
    "D2_2.duplicated().sum()"
   ],
   "id": "edba3784f4c8c39a",
   "outputs": [
    {
     "data": {
      "text/plain": [
       "0"
      ]
     },
     "execution_count": 54,
     "metadata": {},
     "output_type": "execute_result"
    }
   ],
   "execution_count": 54
  },
  {
   "metadata": {
    "ExecuteTime": {
     "end_time": "2025-03-21T14:14:10.508475Z",
     "start_time": "2025-03-21T14:14:10.499606Z"
    }
   },
   "cell_type": "code",
   "source": [
    "\n",
    "D2_2.isnull().sum()"
   ],
   "id": "49f7b5c95af2f447",
   "outputs": [
    {
     "data": {
      "text/plain": [
       "query           0\n",
       "finalpassage    1\n",
       "dtype: int64"
      ]
     },
     "execution_count": 55,
     "metadata": {},
     "output_type": "execute_result"
    }
   ],
   "execution_count": 55
  },
  {
   "metadata": {
    "ExecuteTime": {
     "end_time": "2025-03-21T14:14:10.518165Z",
     "start_time": "2025-03-21T14:14:10.508475Z"
    }
   },
   "cell_type": "code",
   "source": [
    "\n",
    "D2_2 = D2_2.dropna(axis=0, how='any')"
   ],
   "id": "f381866b8721a2f0",
   "outputs": [],
   "execution_count": 56
  },
  {
   "metadata": {
    "ExecuteTime": {
     "end_time": "2025-03-21T14:14:10.524242Z",
     "start_time": "2025-03-21T14:14:10.518165Z"
    }
   },
   "cell_type": "code",
   "source": [
    "\n",
    "D2_2.shape"
   ],
   "id": "6a9a6be2866509f2",
   "outputs": [
    {
     "data": {
      "text/plain": [
       "(10584, 2)"
      ]
     },
     "execution_count": 57,
     "metadata": {},
     "output_type": "execute_result"
    }
   ],
   "execution_count": 57
  },
  {
   "metadata": {
    "ExecuteTime": {
     "end_time": "2025-03-21T14:14:10.533841Z",
     "start_time": "2025-03-21T14:14:10.524242Z"
    }
   },
   "cell_type": "code",
   "source": "D2 = pd.concat([D2_1, D2_2], ignore_index=True)",
   "id": "220a4ff2af25126d",
   "outputs": [],
   "execution_count": 58
  },
  {
   "metadata": {
    "ExecuteTime": {
     "end_time": "2025-03-21T14:14:10.548343Z",
     "start_time": "2025-03-21T14:14:10.533841Z"
    }
   },
   "cell_type": "code",
   "source": "D2",
   "id": "940cf66d552fa3c7",
   "outputs": [
    {
     "data": {
      "text/plain": [
       "                                                    query  \\\n",
       "0                          why do children get aggressive   \n",
       "1       which credit bureau is used the most for auto ...   \n",
       "2              what is the minimum healthy calorie intake   \n",
       "3                        why is coffee making gain weight   \n",
       "4                      what county is grand rapids, mi in   \n",
       "...                                                   ...   \n",
       "130555                     where is sesame seed harvested   \n",
       "130556         requirements to become a real estate agent   \n",
       "130557                         what are butterflies live?   \n",
       "130558                     how much does a new fence cost   \n",
       "130559                            who makes jammy dodgers   \n",
       "\n",
       "                                             finalpassage  \n",
       "0       At the same time, despite claiming the review ...  \n",
       "1       Best Answer: both of those answers are wrong. ...  \n",
       "2       Safe Intakes. If you’re not supervised by a me...  \n",
       "3       Is coffee making you fat? If you are overweigh...  \n",
       "4       Located in Grand Rapids, Michigan, the 61st Di...  \n",
       "...                                                   ...  \n",
       "130555  Sesame has one of the highest oil contents of ...  \n",
       "130556  Shares & Saves. Save. To become a real estate ...  \n",
       "130557  Monarchs and Swallowtails may live about a mon...  \n",
       "130558  1 Chain-link fence prices fluctuate with the c...  \n",
       "130559  Jammie Dodgers. Jammie Dodgers are a popular B...  \n",
       "\n",
       "[130560 rows x 2 columns]"
      ],
      "text/html": [
       "<div>\n",
       "<style scoped>\n",
       "    .dataframe tbody tr th:only-of-type {\n",
       "        vertical-align: middle;\n",
       "    }\n",
       "\n",
       "    .dataframe tbody tr th {\n",
       "        vertical-align: top;\n",
       "    }\n",
       "\n",
       "    .dataframe thead th {\n",
       "        text-align: right;\n",
       "    }\n",
       "</style>\n",
       "<table border=\"1\" class=\"dataframe\">\n",
       "  <thead>\n",
       "    <tr style=\"text-align: right;\">\n",
       "      <th></th>\n",
       "      <th>query</th>\n",
       "      <th>finalpassage</th>\n",
       "    </tr>\n",
       "  </thead>\n",
       "  <tbody>\n",
       "    <tr>\n",
       "      <th>0</th>\n",
       "      <td>why do children get aggressive</td>\n",
       "      <td>At the same time, despite claiming the review ...</td>\n",
       "    </tr>\n",
       "    <tr>\n",
       "      <th>1</th>\n",
       "      <td>which credit bureau is used the most for auto ...</td>\n",
       "      <td>Best Answer: both of those answers are wrong. ...</td>\n",
       "    </tr>\n",
       "    <tr>\n",
       "      <th>2</th>\n",
       "      <td>what is the minimum healthy calorie intake</td>\n",
       "      <td>Safe Intakes. If you’re not supervised by a me...</td>\n",
       "    </tr>\n",
       "    <tr>\n",
       "      <th>3</th>\n",
       "      <td>why is coffee making gain weight</td>\n",
       "      <td>Is coffee making you fat? If you are overweigh...</td>\n",
       "    </tr>\n",
       "    <tr>\n",
       "      <th>4</th>\n",
       "      <td>what county is grand rapids, mi in</td>\n",
       "      <td>Located in Grand Rapids, Michigan, the 61st Di...</td>\n",
       "    </tr>\n",
       "    <tr>\n",
       "      <th>...</th>\n",
       "      <td>...</td>\n",
       "      <td>...</td>\n",
       "    </tr>\n",
       "    <tr>\n",
       "      <th>130555</th>\n",
       "      <td>where is sesame seed harvested</td>\n",
       "      <td>Sesame has one of the highest oil contents of ...</td>\n",
       "    </tr>\n",
       "    <tr>\n",
       "      <th>130556</th>\n",
       "      <td>requirements to become a real estate agent</td>\n",
       "      <td>Shares &amp; Saves. Save. To become a real estate ...</td>\n",
       "    </tr>\n",
       "    <tr>\n",
       "      <th>130557</th>\n",
       "      <td>what are butterflies live?</td>\n",
       "      <td>Monarchs and Swallowtails may live about a mon...</td>\n",
       "    </tr>\n",
       "    <tr>\n",
       "      <th>130558</th>\n",
       "      <td>how much does a new fence cost</td>\n",
       "      <td>1 Chain-link fence prices fluctuate with the c...</td>\n",
       "    </tr>\n",
       "    <tr>\n",
       "      <th>130559</th>\n",
       "      <td>who makes jammy dodgers</td>\n",
       "      <td>Jammie Dodgers. Jammie Dodgers are a popular B...</td>\n",
       "    </tr>\n",
       "  </tbody>\n",
       "</table>\n",
       "<p>130560 rows × 2 columns</p>\n",
       "</div>"
      ]
     },
     "execution_count": 59,
     "metadata": {},
     "output_type": "execute_result"
    }
   ],
   "execution_count": 59
  },
  {
   "metadata": {
    "ExecuteTime": {
     "end_time": "2025-03-21T14:14:11.110928Z",
     "start_time": "2025-03-21T14:14:10.548343Z"
    }
   },
   "cell_type": "code",
   "source": "D2.duplicated().sum()",
   "id": "ac4a5a30be37247c",
   "outputs": [
    {
     "data": {
      "text/plain": [
       "0"
      ]
     },
     "execution_count": 60,
     "metadata": {},
     "output_type": "execute_result"
    }
   ],
   "execution_count": 60
  },
  {
   "metadata": {
    "ExecuteTime": {
     "end_time": "2025-03-21T14:14:13.224985Z",
     "start_time": "2025-03-21T14:14:11.111937Z"
    }
   },
   "cell_type": "code",
   "source": "D2.to_csv(\"data/FAQ Answering/Preprocessed data/D2.csv\", index=False)",
   "id": "751406bc94fbc32f",
   "outputs": [],
   "execution_count": 61
  },
  {
   "metadata": {},
   "cell_type": "code",
   "outputs": [],
   "execution_count": null,
   "source": "",
   "id": "53d9ece59f2cb019"
  }
 ],
 "metadata": {
  "kernelspec": {
   "display_name": "Python 3",
   "language": "python",
   "name": "python3"
  },
  "language_info": {
   "codemirror_mode": {
    "name": "ipython",
    "version": 2
   },
   "file_extension": ".py",
   "mimetype": "text/x-python",
   "name": "python",
   "nbconvert_exporter": "python",
   "pygments_lexer": "ipython2",
   "version": "2.7.6"
  }
 },
 "nbformat": 4,
 "nbformat_minor": 5
}
