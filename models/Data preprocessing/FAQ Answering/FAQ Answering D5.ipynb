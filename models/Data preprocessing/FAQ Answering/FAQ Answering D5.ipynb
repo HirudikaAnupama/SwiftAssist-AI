{
 "cells": [
  {
   "metadata": {
    "ExecuteTime": {
     "end_time": "2025-03-21T14:13:55.558371Z",
     "start_time": "2025-03-21T14:13:55.542194Z"
    }
   },
   "cell_type": "code",
   "source": [
    "import pandas as pd\n",
    "import spacy\n",
    "\n",
    "df = pd.read_csv(\"data/FAQ Answering/D5/Data_2.csv\")"
   ],
   "id": "ea1074bbe7c6c487",
   "outputs": [],
   "execution_count": 45
  },
  {
   "metadata": {
    "ExecuteTime": {
     "end_time": "2025-03-21T14:13:56.400510Z",
     "start_time": "2025-03-21T14:13:56.376670Z"
    }
   },
   "cell_type": "code",
   "source": "df",
   "id": "bd8f9105632d03ab",
   "outputs": [
    {
     "data": {
      "text/plain": [
       "     Unnamed: 0                                           question  \\\n",
       "0             0                       How can I create an account?   \n",
       "1             1                What payment methods do you accept?   \n",
       "2             2                          How can I track my order?   \n",
       "3             3                        What is your return policy?   \n",
       "4             4                             Can I cancel my order?   \n",
       "..          ...                                                ...   \n",
       "195         195             Do you offer a satisfaction guarantee?   \n",
       "196         196         How can I apply for a job at your company?   \n",
       "197         197             What is the warranty on your products?   \n",
       "198         198  Can I request a refund if the price drops afte...   \n",
       "199         199                       How can I reset my password?   \n",
       "\n",
       "                                                answer  \n",
       "0    To create an account, click on the 'Sign Up' b...  \n",
       "1    We accept major credit cards, debit cards, and...  \n",
       "2    You can track your order by logging into your ...  \n",
       "3    Our return policy allows you to return product...  \n",
       "4    You can cancel your order if it has not been s...  \n",
       "..                                                 ...  \n",
       "195  Yes, we offer a satisfaction guarantee on our ...  \n",
       "196  To apply for a job at our company, visit our C...  \n",
       "197  The warranty on our products varies by item. P...  \n",
       "198  If the price of a product drops within 7 days ...  \n",
       "199  To reset your password, click on the 'Forgot P...  \n",
       "\n",
       "[200 rows x 3 columns]"
      ],
      "text/html": [
       "<div>\n",
       "<style scoped>\n",
       "    .dataframe tbody tr th:only-of-type {\n",
       "        vertical-align: middle;\n",
       "    }\n",
       "\n",
       "    .dataframe tbody tr th {\n",
       "        vertical-align: top;\n",
       "    }\n",
       "\n",
       "    .dataframe thead th {\n",
       "        text-align: right;\n",
       "    }\n",
       "</style>\n",
       "<table border=\"1\" class=\"dataframe\">\n",
       "  <thead>\n",
       "    <tr style=\"text-align: right;\">\n",
       "      <th></th>\n",
       "      <th>Unnamed: 0</th>\n",
       "      <th>question</th>\n",
       "      <th>answer</th>\n",
       "    </tr>\n",
       "  </thead>\n",
       "  <tbody>\n",
       "    <tr>\n",
       "      <th>0</th>\n",
       "      <td>0</td>\n",
       "      <td>How can I create an account?</td>\n",
       "      <td>To create an account, click on the 'Sign Up' b...</td>\n",
       "    </tr>\n",
       "    <tr>\n",
       "      <th>1</th>\n",
       "      <td>1</td>\n",
       "      <td>What payment methods do you accept?</td>\n",
       "      <td>We accept major credit cards, debit cards, and...</td>\n",
       "    </tr>\n",
       "    <tr>\n",
       "      <th>2</th>\n",
       "      <td>2</td>\n",
       "      <td>How can I track my order?</td>\n",
       "      <td>You can track your order by logging into your ...</td>\n",
       "    </tr>\n",
       "    <tr>\n",
       "      <th>3</th>\n",
       "      <td>3</td>\n",
       "      <td>What is your return policy?</td>\n",
       "      <td>Our return policy allows you to return product...</td>\n",
       "    </tr>\n",
       "    <tr>\n",
       "      <th>4</th>\n",
       "      <td>4</td>\n",
       "      <td>Can I cancel my order?</td>\n",
       "      <td>You can cancel your order if it has not been s...</td>\n",
       "    </tr>\n",
       "    <tr>\n",
       "      <th>...</th>\n",
       "      <td>...</td>\n",
       "      <td>...</td>\n",
       "      <td>...</td>\n",
       "    </tr>\n",
       "    <tr>\n",
       "      <th>195</th>\n",
       "      <td>195</td>\n",
       "      <td>Do you offer a satisfaction guarantee?</td>\n",
       "      <td>Yes, we offer a satisfaction guarantee on our ...</td>\n",
       "    </tr>\n",
       "    <tr>\n",
       "      <th>196</th>\n",
       "      <td>196</td>\n",
       "      <td>How can I apply for a job at your company?</td>\n",
       "      <td>To apply for a job at our company, visit our C...</td>\n",
       "    </tr>\n",
       "    <tr>\n",
       "      <th>197</th>\n",
       "      <td>197</td>\n",
       "      <td>What is the warranty on your products?</td>\n",
       "      <td>The warranty on our products varies by item. P...</td>\n",
       "    </tr>\n",
       "    <tr>\n",
       "      <th>198</th>\n",
       "      <td>198</td>\n",
       "      <td>Can I request a refund if the price drops afte...</td>\n",
       "      <td>If the price of a product drops within 7 days ...</td>\n",
       "    </tr>\n",
       "    <tr>\n",
       "      <th>199</th>\n",
       "      <td>199</td>\n",
       "      <td>How can I reset my password?</td>\n",
       "      <td>To reset your password, click on the 'Forgot P...</td>\n",
       "    </tr>\n",
       "  </tbody>\n",
       "</table>\n",
       "<p>200 rows × 3 columns</p>\n",
       "</div>"
      ]
     },
     "execution_count": 46,
     "metadata": {},
     "output_type": "execute_result"
    }
   ],
   "execution_count": 46
  },
  {
   "metadata": {
    "ExecuteTime": {
     "end_time": "2025-03-21T14:13:57.892827Z",
     "start_time": "2025-03-21T14:13:57.883957Z"
    }
   },
   "cell_type": "code",
   "source": "D5 = df[[\"question\", \"answer\"]]",
   "id": "9e1609b1fbbd3d8e",
   "outputs": [],
   "execution_count": 47
  },
  {
   "metadata": {
    "ExecuteTime": {
     "end_time": "2025-03-21T14:13:58.138382Z",
     "start_time": "2025-03-21T14:13:58.120748Z"
    }
   },
   "cell_type": "code",
   "source": "D5",
   "id": "6c43268192958daf",
   "outputs": [
    {
     "data": {
      "text/plain": [
       "                                              question  \\\n",
       "0                         How can I create an account?   \n",
       "1                  What payment methods do you accept?   \n",
       "2                            How can I track my order?   \n",
       "3                          What is your return policy?   \n",
       "4                               Can I cancel my order?   \n",
       "..                                                 ...   \n",
       "195             Do you offer a satisfaction guarantee?   \n",
       "196         How can I apply for a job at your company?   \n",
       "197             What is the warranty on your products?   \n",
       "198  Can I request a refund if the price drops afte...   \n",
       "199                       How can I reset my password?   \n",
       "\n",
       "                                                answer  \n",
       "0    To create an account, click on the 'Sign Up' b...  \n",
       "1    We accept major credit cards, debit cards, and...  \n",
       "2    You can track your order by logging into your ...  \n",
       "3    Our return policy allows you to return product...  \n",
       "4    You can cancel your order if it has not been s...  \n",
       "..                                                 ...  \n",
       "195  Yes, we offer a satisfaction guarantee on our ...  \n",
       "196  To apply for a job at our company, visit our C...  \n",
       "197  The warranty on our products varies by item. P...  \n",
       "198  If the price of a product drops within 7 days ...  \n",
       "199  To reset your password, click on the 'Forgot P...  \n",
       "\n",
       "[200 rows x 2 columns]"
      ],
      "text/html": [
       "<div>\n",
       "<style scoped>\n",
       "    .dataframe tbody tr th:only-of-type {\n",
       "        vertical-align: middle;\n",
       "    }\n",
       "\n",
       "    .dataframe tbody tr th {\n",
       "        vertical-align: top;\n",
       "    }\n",
       "\n",
       "    .dataframe thead th {\n",
       "        text-align: right;\n",
       "    }\n",
       "</style>\n",
       "<table border=\"1\" class=\"dataframe\">\n",
       "  <thead>\n",
       "    <tr style=\"text-align: right;\">\n",
       "      <th></th>\n",
       "      <th>question</th>\n",
       "      <th>answer</th>\n",
       "    </tr>\n",
       "  </thead>\n",
       "  <tbody>\n",
       "    <tr>\n",
       "      <th>0</th>\n",
       "      <td>How can I create an account?</td>\n",
       "      <td>To create an account, click on the 'Sign Up' b...</td>\n",
       "    </tr>\n",
       "    <tr>\n",
       "      <th>1</th>\n",
       "      <td>What payment methods do you accept?</td>\n",
       "      <td>We accept major credit cards, debit cards, and...</td>\n",
       "    </tr>\n",
       "    <tr>\n",
       "      <th>2</th>\n",
       "      <td>How can I track my order?</td>\n",
       "      <td>You can track your order by logging into your ...</td>\n",
       "    </tr>\n",
       "    <tr>\n",
       "      <th>3</th>\n",
       "      <td>What is your return policy?</td>\n",
       "      <td>Our return policy allows you to return product...</td>\n",
       "    </tr>\n",
       "    <tr>\n",
       "      <th>4</th>\n",
       "      <td>Can I cancel my order?</td>\n",
       "      <td>You can cancel your order if it has not been s...</td>\n",
       "    </tr>\n",
       "    <tr>\n",
       "      <th>...</th>\n",
       "      <td>...</td>\n",
       "      <td>...</td>\n",
       "    </tr>\n",
       "    <tr>\n",
       "      <th>195</th>\n",
       "      <td>Do you offer a satisfaction guarantee?</td>\n",
       "      <td>Yes, we offer a satisfaction guarantee on our ...</td>\n",
       "    </tr>\n",
       "    <tr>\n",
       "      <th>196</th>\n",
       "      <td>How can I apply for a job at your company?</td>\n",
       "      <td>To apply for a job at our company, visit our C...</td>\n",
       "    </tr>\n",
       "    <tr>\n",
       "      <th>197</th>\n",
       "      <td>What is the warranty on your products?</td>\n",
       "      <td>The warranty on our products varies by item. P...</td>\n",
       "    </tr>\n",
       "    <tr>\n",
       "      <th>198</th>\n",
       "      <td>Can I request a refund if the price drops afte...</td>\n",
       "      <td>If the price of a product drops within 7 days ...</td>\n",
       "    </tr>\n",
       "    <tr>\n",
       "      <th>199</th>\n",
       "      <td>How can I reset my password?</td>\n",
       "      <td>To reset your password, click on the 'Forgot P...</td>\n",
       "    </tr>\n",
       "  </tbody>\n",
       "</table>\n",
       "<p>200 rows × 2 columns</p>\n",
       "</div>"
      ]
     },
     "execution_count": 48,
     "metadata": {},
     "output_type": "execute_result"
    }
   ],
   "execution_count": 48
  },
  {
   "metadata": {
    "ExecuteTime": {
     "end_time": "2025-03-21T14:13:58.541174Z",
     "start_time": "2025-03-21T14:13:58.529570Z"
    }
   },
   "cell_type": "code",
   "source": "D5.to_csv(\"data/FAQ Answering/Preprocessed data/D5.csv\", index=False)",
   "id": "3de61ca96c955807",
   "outputs": [],
   "execution_count": 49
  },
  {
   "metadata": {
    "ExecuteTime": {
     "end_time": "2025-03-21T14:13:59.754540Z",
     "start_time": "2025-03-21T14:13:59.747997Z"
    }
   },
   "cell_type": "code",
   "source": "",
   "id": "ba88f6b7c5712e9b",
   "outputs": [],
   "execution_count": 49
  },
  {
   "metadata": {},
   "cell_type": "code",
   "outputs": [],
   "execution_count": null,
   "source": "",
   "id": "dfaa793906a092d0"
  },
  {
   "metadata": {},
   "cell_type": "code",
   "outputs": [],
   "execution_count": null,
   "source": "",
   "id": "4f52a34d358bdce6"
  },
  {
   "metadata": {},
   "cell_type": "code",
   "outputs": [],
   "execution_count": null,
   "source": "",
   "id": "16177c764ceaa0f5"
  },
  {
   "metadata": {},
   "cell_type": "code",
   "outputs": [],
   "execution_count": null,
   "source": "",
   "id": "b3bc9988f3180050"
  },
  {
   "metadata": {},
   "cell_type": "code",
   "outputs": [],
   "execution_count": null,
   "source": "",
   "id": "9d203b56b96beb90"
  },
  {
   "metadata": {
    "ExecuteTime": {
     "end_time": "2025-03-21T14:09:29.659723Z",
     "start_time": "2025-03-21T14:09:28.444892Z"
    }
   },
   "cell_type": "code",
   "source": "nlp = spacy.load(\"en_core_web_sm\")",
   "id": "11871d53ee9f2c4a",
   "outputs": [],
   "execution_count": 35
  },
  {
   "metadata": {
    "ExecuteTime": {
     "end_time": "2025-03-21T14:09:31.606338Z",
     "start_time": "2025-03-21T14:09:29.659723Z"
    }
   },
   "cell_type": "code",
   "source": [
    "\n",
    "def clean_question(text):\n",
    "    # Remove punctuation and lowercase\n",
    "    text = text.lower().strip()\n",
    "    text = ''.join([c for c in text if c.isalnum() or c == ' '])\n",
    "    \n",
    "    # Lemmatize and remove stopwords\n",
    "    doc = nlp(text)\n",
    "    tokens = [token.lemma_ for token in doc if not token.is_stop]\n",
    "    \n",
    "    return ' '.join(tokens)\n",
    "\n",
    "# Apply cleaning to the 'question' column\n",
    "df[\"cleaned_question\"] = df[\"question\"].apply(clean_question)"
   ],
   "id": "16b9a920d5ba0937",
   "outputs": [],
   "execution_count": 36
  },
  {
   "metadata": {
    "ExecuteTime": {
     "end_time": "2025-03-21T14:09:31.672262Z",
     "start_time": "2025-03-21T14:09:31.659186Z"
    }
   },
   "cell_type": "code",
   "source": [
    "# Ensure answers are non-empty and trim whitespace\n",
    "df[\"answer\"] = df[\"answer\"].str.strip()\n",
    "df = df.dropna(subset=[\"answer\"])  # Remove rows with missing answers"
   ],
   "id": "603899e36e5667dc",
   "outputs": [],
   "execution_count": 37
  },
  {
   "metadata": {},
   "cell_type": "code",
   "outputs": [],
   "execution_count": null,
   "source": "",
   "id": "73c96ce2f9230be1"
  },
  {
   "metadata": {},
   "cell_type": "code",
   "outputs": [],
   "execution_count": null,
   "source": "",
   "id": "adba00df1ad15167"
  },
  {
   "metadata": {},
   "cell_type": "code",
   "outputs": [],
   "execution_count": null,
   "source": "",
   "id": "4bc5443bab7b3ad4"
  },
  {
   "metadata": {},
   "cell_type": "code",
   "outputs": [],
   "execution_count": null,
   "source": "",
   "id": "c8adad270f8da7cd"
  },
  {
   "metadata": {},
   "cell_type": "code",
   "outputs": [],
   "execution_count": null,
   "source": "",
   "id": "3a8c970862ef6638"
  },
  {
   "metadata": {},
   "cell_type": "code",
   "outputs": [],
   "execution_count": null,
   "source": "",
   "id": "a73e2662906dddbf"
  },
  {
   "metadata": {},
   "cell_type": "code",
   "outputs": [],
   "execution_count": null,
   "source": "",
   "id": "e6e9a9ddec3f0a82"
  },
  {
   "metadata": {},
   "cell_type": "code",
   "outputs": [],
   "execution_count": null,
   "source": "",
   "id": "c77d67b808a258df"
  },
  {
   "metadata": {},
   "cell_type": "code",
   "outputs": [],
   "execution_count": null,
   "source": "",
   "id": "2573d4219ff1d082"
  },
  {
   "metadata": {
    "ExecuteTime": {
     "end_time": "2025-03-21T13:06:49.332809Z",
     "start_time": "2025-03-21T13:05:30.322353Z"
    }
   },
   "cell_type": "code",
   "source": [
    "from sentence_transformers import SentenceTransformer\n",
    "\n",
    "# Load a pre-trained embedding model\n",
    "model = SentenceTransformer('all-MiniLM-L6-v2')\n",
    "\n",
    "# Generate embeddings for cleaned questions\n",
    "df[\"embedding\"] = df[\"cleaned_question\"].apply(lambda x: model.encode(x))"
   ],
   "id": "6332da4a2ecf7374",
   "outputs": [
    {
     "data": {
      "text/plain": [
       "modules.json:   0%|          | 0.00/349 [00:00<?, ?B/s]"
      ],
      "application/vnd.jupyter.widget-view+json": {
       "version_major": 2,
       "version_minor": 0,
       "model_id": "47b209cc7ec3403895f357ff6f599c7b"
      }
     },
     "metadata": {},
     "output_type": "display_data"
    },
    {
     "name": "stderr",
     "output_type": "stream",
     "text": [
      "C:\\Users\\LENOVO\\miniconda3\\Lib\\site-packages\\huggingface_hub\\file_download.py:140: UserWarning: `huggingface_hub` cache-system uses symlinks by default to efficiently store duplicated files but your machine does not support them in C:\\Users\\LENOVO\\.cache\\huggingface\\hub\\models--sentence-transformers--all-MiniLM-L6-v2. Caching files will still work but in a degraded version that might require more space on your disk. This warning can be disabled by setting the `HF_HUB_DISABLE_SYMLINKS_WARNING` environment variable. For more details, see https://huggingface.co/docs/huggingface_hub/how-to-cache#limitations.\n",
      "To support symlinks on Windows, you either need to activate Developer Mode or to run Python as an administrator. In order to activate developer mode, see this article: https://docs.microsoft.com/en-us/windows/apps/get-started/enable-your-device-for-development\n",
      "  warnings.warn(message)\n"
     ]
    },
    {
     "data": {
      "text/plain": [
       "config_sentence_transformers.json:   0%|          | 0.00/116 [00:00<?, ?B/s]"
      ],
      "application/vnd.jupyter.widget-view+json": {
       "version_major": 2,
       "version_minor": 0,
       "model_id": "acf6b95d325c400c86840a25aa3718c1"
      }
     },
     "metadata": {},
     "output_type": "display_data"
    },
    {
     "data": {
      "text/plain": [
       "README.md:   0%|          | 0.00/10.5k [00:00<?, ?B/s]"
      ],
      "application/vnd.jupyter.widget-view+json": {
       "version_major": 2,
       "version_minor": 0,
       "model_id": "8dcfadc8c21349078c70e95dff3342e4"
      }
     },
     "metadata": {},
     "output_type": "display_data"
    },
    {
     "data": {
      "text/plain": [
       "sentence_bert_config.json:   0%|          | 0.00/53.0 [00:00<?, ?B/s]"
      ],
      "application/vnd.jupyter.widget-view+json": {
       "version_major": 2,
       "version_minor": 0,
       "model_id": "cea1447d632a49e48b4552cbe1735d6c"
      }
     },
     "metadata": {},
     "output_type": "display_data"
    },
    {
     "data": {
      "text/plain": [
       "config.json:   0%|          | 0.00/612 [00:00<?, ?B/s]"
      ],
      "application/vnd.jupyter.widget-view+json": {
       "version_major": 2,
       "version_minor": 0,
       "model_id": "a8c15208b1f84feab778fca9650fc3ed"
      }
     },
     "metadata": {},
     "output_type": "display_data"
    },
    {
     "data": {
      "text/plain": [
       "model.safetensors:   0%|          | 0.00/90.9M [00:00<?, ?B/s]"
      ],
      "application/vnd.jupyter.widget-view+json": {
       "version_major": 2,
       "version_minor": 0,
       "model_id": "e7ca400450d6446f841ead5f494baf6c"
      }
     },
     "metadata": {},
     "output_type": "display_data"
    },
    {
     "data": {
      "text/plain": [
       "tokenizer_config.json:   0%|          | 0.00/350 [00:00<?, ?B/s]"
      ],
      "application/vnd.jupyter.widget-view+json": {
       "version_major": 2,
       "version_minor": 0,
       "model_id": "c76b137d513543748a333cc926ebaf27"
      }
     },
     "metadata": {},
     "output_type": "display_data"
    },
    {
     "data": {
      "text/plain": [
       "vocab.txt:   0%|          | 0.00/232k [00:00<?, ?B/s]"
      ],
      "application/vnd.jupyter.widget-view+json": {
       "version_major": 2,
       "version_minor": 0,
       "model_id": "0ed27f80d52b48a5bf7e4dcfa0c55b31"
      }
     },
     "metadata": {},
     "output_type": "display_data"
    },
    {
     "data": {
      "text/plain": [
       "tokenizer.json:   0%|          | 0.00/466k [00:00<?, ?B/s]"
      ],
      "application/vnd.jupyter.widget-view+json": {
       "version_major": 2,
       "version_minor": 0,
       "model_id": "8054ca5f7f1c47ecb50da8794d2feee6"
      }
     },
     "metadata": {},
     "output_type": "display_data"
    },
    {
     "data": {
      "text/plain": [
       "special_tokens_map.json:   0%|          | 0.00/112 [00:00<?, ?B/s]"
      ],
      "application/vnd.jupyter.widget-view+json": {
       "version_major": 2,
       "version_minor": 0,
       "model_id": "d98037b680b14b7c927a2a5cbdc62ece"
      }
     },
     "metadata": {},
     "output_type": "display_data"
    },
    {
     "data": {
      "text/plain": [
       "config.json:   0%|          | 0.00/190 [00:00<?, ?B/s]"
      ],
      "application/vnd.jupyter.widget-view+json": {
       "version_major": 2,
       "version_minor": 0,
       "model_id": "338f5cb790314074a413bc75214e4019"
      }
     },
     "metadata": {},
     "output_type": "display_data"
    }
   ],
   "execution_count": 17
  },
  {
   "metadata": {},
   "cell_type": "code",
   "outputs": [],
   "execution_count": null,
   "source": "",
   "id": "176b5651d94a0263"
  },
  {
   "metadata": {},
   "cell_type": "code",
   "outputs": [],
   "execution_count": null,
   "source": "",
   "id": "c9f57d02a6b17896"
  },
  {
   "metadata": {},
   "cell_type": "code",
   "outputs": [],
   "execution_count": null,
   "source": "",
   "id": "68fae9b61ebaa2ac"
  },
  {
   "metadata": {
    "ExecuteTime": {
     "end_time": "2025-03-21T13:07:20.034409Z",
     "start_time": "2025-03-21T13:07:19.981991Z"
    }
   },
   "cell_type": "code",
   "source": "df",
   "id": "92d47a128e2ea7f2",
   "outputs": [
    {
     "data": {
      "text/plain": [
       "     Unnamed: 0                                           question  \\\n",
       "0             0                       How can I create an account?   \n",
       "1             1                What payment methods do you accept?   \n",
       "2             2                          How can I track my order?   \n",
       "3             3                        What is your return policy?   \n",
       "4             4                             Can I cancel my order?   \n",
       "..          ...                                                ...   \n",
       "195         195             Do you offer a satisfaction guarantee?   \n",
       "196         196         How can I apply for a job at your company?   \n",
       "197         197             What is the warranty on your products?   \n",
       "198         198  Can I request a refund if the price drops afte...   \n",
       "199         199                       How can I reset my password?   \n",
       "\n",
       "                                                answer  \\\n",
       "0    To create an account, click on the 'Sign Up' b...   \n",
       "1    We accept major credit cards, debit cards, and...   \n",
       "2    You can track your order by logging into your ...   \n",
       "3    Our return policy allows you to return product...   \n",
       "4    You can cancel your order if it has not been s...   \n",
       "..                                                 ...   \n",
       "195  Yes, we offer a satisfaction guarantee on our ...   \n",
       "196  To apply for a job at our company, visit our C...   \n",
       "197  The warranty on our products varies by item. P...   \n",
       "198  If the price of a product drops within 7 days ...   \n",
       "199  To reset your password, click on the 'Forgot P...   \n",
       "\n",
       "                       cleaned_question  \\\n",
       "0                        create account   \n",
       "1                 payment method accept   \n",
       "2                           track order   \n",
       "3                         return policy   \n",
       "4                          cancel order   \n",
       "..                                  ...   \n",
       "195        offer satisfaction guarantee   \n",
       "196                   apply job company   \n",
       "197                    warranty product   \n",
       "198  request refund price drop purchase   \n",
       "199                      reset password   \n",
       "\n",
       "                                             embedding  \n",
       "0    [-0.03933173, -0.073190376, -0.058713168, -0.0...  \n",
       "1    [-0.00738355, 0.06920027, 0.0021899657, -0.034...  \n",
       "2    [-0.024611782, -0.022893803, 0.050966974, -0.0...  \n",
       "3    [-0.035745326, 0.062710054, 0.04189153, 0.0047...  \n",
       "4    [-0.046343867, 0.060871985, 0.100930884, 0.023...  \n",
       "..                                                 ...  \n",
       "195  [-0.09863094, 0.052422367, 0.06813188, -0.0070...  \n",
       "196  [-0.07541368, -0.05075224, 0.018541757, -0.031...  \n",
       "197  [-0.18379788, 0.04935003, 0.081956245, -0.0053...  \n",
       "198  [-0.09591464, 0.04843379, 0.060017083, -0.0115...  \n",
       "199  [-0.06426477, -0.04125736, -0.055222116, -0.02...  \n",
       "\n",
       "[200 rows x 5 columns]"
      ],
      "text/html": [
       "<div>\n",
       "<style scoped>\n",
       "    .dataframe tbody tr th:only-of-type {\n",
       "        vertical-align: middle;\n",
       "    }\n",
       "\n",
       "    .dataframe tbody tr th {\n",
       "        vertical-align: top;\n",
       "    }\n",
       "\n",
       "    .dataframe thead th {\n",
       "        text-align: right;\n",
       "    }\n",
       "</style>\n",
       "<table border=\"1\" class=\"dataframe\">\n",
       "  <thead>\n",
       "    <tr style=\"text-align: right;\">\n",
       "      <th></th>\n",
       "      <th>Unnamed: 0</th>\n",
       "      <th>question</th>\n",
       "      <th>answer</th>\n",
       "      <th>cleaned_question</th>\n",
       "      <th>embedding</th>\n",
       "    </tr>\n",
       "  </thead>\n",
       "  <tbody>\n",
       "    <tr>\n",
       "      <th>0</th>\n",
       "      <td>0</td>\n",
       "      <td>How can I create an account?</td>\n",
       "      <td>To create an account, click on the 'Sign Up' b...</td>\n",
       "      <td>create account</td>\n",
       "      <td>[-0.03933173, -0.073190376, -0.058713168, -0.0...</td>\n",
       "    </tr>\n",
       "    <tr>\n",
       "      <th>1</th>\n",
       "      <td>1</td>\n",
       "      <td>What payment methods do you accept?</td>\n",
       "      <td>We accept major credit cards, debit cards, and...</td>\n",
       "      <td>payment method accept</td>\n",
       "      <td>[-0.00738355, 0.06920027, 0.0021899657, -0.034...</td>\n",
       "    </tr>\n",
       "    <tr>\n",
       "      <th>2</th>\n",
       "      <td>2</td>\n",
       "      <td>How can I track my order?</td>\n",
       "      <td>You can track your order by logging into your ...</td>\n",
       "      <td>track order</td>\n",
       "      <td>[-0.024611782, -0.022893803, 0.050966974, -0.0...</td>\n",
       "    </tr>\n",
       "    <tr>\n",
       "      <th>3</th>\n",
       "      <td>3</td>\n",
       "      <td>What is your return policy?</td>\n",
       "      <td>Our return policy allows you to return product...</td>\n",
       "      <td>return policy</td>\n",
       "      <td>[-0.035745326, 0.062710054, 0.04189153, 0.0047...</td>\n",
       "    </tr>\n",
       "    <tr>\n",
       "      <th>4</th>\n",
       "      <td>4</td>\n",
       "      <td>Can I cancel my order?</td>\n",
       "      <td>You can cancel your order if it has not been s...</td>\n",
       "      <td>cancel order</td>\n",
       "      <td>[-0.046343867, 0.060871985, 0.100930884, 0.023...</td>\n",
       "    </tr>\n",
       "    <tr>\n",
       "      <th>...</th>\n",
       "      <td>...</td>\n",
       "      <td>...</td>\n",
       "      <td>...</td>\n",
       "      <td>...</td>\n",
       "      <td>...</td>\n",
       "    </tr>\n",
       "    <tr>\n",
       "      <th>195</th>\n",
       "      <td>195</td>\n",
       "      <td>Do you offer a satisfaction guarantee?</td>\n",
       "      <td>Yes, we offer a satisfaction guarantee on our ...</td>\n",
       "      <td>offer satisfaction guarantee</td>\n",
       "      <td>[-0.09863094, 0.052422367, 0.06813188, -0.0070...</td>\n",
       "    </tr>\n",
       "    <tr>\n",
       "      <th>196</th>\n",
       "      <td>196</td>\n",
       "      <td>How can I apply for a job at your company?</td>\n",
       "      <td>To apply for a job at our company, visit our C...</td>\n",
       "      <td>apply job company</td>\n",
       "      <td>[-0.07541368, -0.05075224, 0.018541757, -0.031...</td>\n",
       "    </tr>\n",
       "    <tr>\n",
       "      <th>197</th>\n",
       "      <td>197</td>\n",
       "      <td>What is the warranty on your products?</td>\n",
       "      <td>The warranty on our products varies by item. P...</td>\n",
       "      <td>warranty product</td>\n",
       "      <td>[-0.18379788, 0.04935003, 0.081956245, -0.0053...</td>\n",
       "    </tr>\n",
       "    <tr>\n",
       "      <th>198</th>\n",
       "      <td>198</td>\n",
       "      <td>Can I request a refund if the price drops afte...</td>\n",
       "      <td>If the price of a product drops within 7 days ...</td>\n",
       "      <td>request refund price drop purchase</td>\n",
       "      <td>[-0.09591464, 0.04843379, 0.060017083, -0.0115...</td>\n",
       "    </tr>\n",
       "    <tr>\n",
       "      <th>199</th>\n",
       "      <td>199</td>\n",
       "      <td>How can I reset my password?</td>\n",
       "      <td>To reset your password, click on the 'Forgot P...</td>\n",
       "      <td>reset password</td>\n",
       "      <td>[-0.06426477, -0.04125736, -0.055222116, -0.02...</td>\n",
       "    </tr>\n",
       "  </tbody>\n",
       "</table>\n",
       "<p>200 rows × 5 columns</p>\n",
       "</div>"
      ]
     },
     "execution_count": 18,
     "metadata": {},
     "output_type": "execute_result"
    }
   ],
   "execution_count": 18
  },
  {
   "metadata": {
    "ExecuteTime": {
     "end_time": "2025-03-21T13:07:32.345088Z",
     "start_time": "2025-03-21T13:07:31.533714Z"
    }
   },
   "cell_type": "code",
   "source": [
    "# Save to CSV (without embeddings)\n",
    "df.to_csv(\"preprocessed_faq.csv\", index=False)\n",
    "\n",
    "# Save embeddings separately (e.g., for FAISS/Pinecone)\n",
    "import numpy as np\n",
    "embeddings = np.array(df[\"embedding\"].tolist())\n",
    "np.save(\"faq_embeddings.npy\", embeddings)"
   ],
   "id": "6f4389629583aae6",
   "outputs": [],
   "execution_count": 19
  },
  {
   "metadata": {
    "ExecuteTime": {
     "end_time": "2025-03-21T13:07:57.057506Z",
     "start_time": "2025-03-21T13:07:57.044324Z"
    }
   },
   "cell_type": "code",
   "source": [
    "from sklearn.metrics.pairwise import cosine_similarity\n",
    "\n",
    "def get_answer(user_query, df, threshold=0.7):\n",
    "    # Clean the user query\n",
    "    cleaned_query = clean_question(user_query)\n",
    "    # Generate embedding for the query\n",
    "    query_embedding = model.encode([cleaned_query])\n",
    "    # Compute similarity with FAQ embeddings\n",
    "    similarities = cosine_similarity(query_embedding, np.array(df[\"embedding\"].tolist()))\n",
    "    best_match_idx = np.argmax(similarities)\n",
    "    best_score = similarities[0][best_match_idx]\n",
    "    \n",
    "    if best_score >= threshold:\n",
    "        return df.iloc[best_match_idx][\"answer\"]\n",
    "    else:\n",
    "        return \"Sorry, I couldn't find a relevant answer.\"\n",
    "\n"
   ],
   "id": "74dec6a0752d90c7",
   "outputs": [],
   "execution_count": 22
  },
  {
   "metadata": {
    "ExecuteTime": {
     "end_time": "2025-03-21T13:09:10.425792Z",
     "start_time": "2025-03-21T13:09:10.388776Z"
    }
   },
   "cell_type": "code",
   "source": [
    "# Example usage\n",
    "user_query = \"return product\"\n",
    "response = get_answer(user_query, df)\n",
    "print(response)  # Output: \"To create an account, click on the 'Sign Up' button...\""
   ],
   "id": "be43a54c18e4e490",
   "outputs": [
    {
     "name": "stdout",
     "output_type": "stream",
     "text": [
      "Yes, you can return a product if you changed your mind. Please ensure the product is in its original condition and packaging, and refer to our return policy for instructions.\n"
     ]
    }
   ],
   "execution_count": 30
  },
  {
   "metadata": {},
   "cell_type": "code",
   "outputs": [],
   "execution_count": null,
   "source": "",
   "id": "3a52942abc03c343"
  }
 ],
 "metadata": {
  "kernelspec": {
   "display_name": "Python 3",
   "language": "python",
   "name": "python3"
  },
  "language_info": {
   "codemirror_mode": {
    "name": "ipython",
    "version": 2
   },
   "file_extension": ".py",
   "mimetype": "text/x-python",
   "name": "python",
   "nbconvert_exporter": "python",
   "pygments_lexer": "ipython2",
   "version": "2.7.6"
  }
 },
 "nbformat": 4,
 "nbformat_minor": 5
}
