{
 "cells": [
  {
   "cell_type": "code",
   "id": "initial_id",
   "metadata": {
    "collapsed": true,
    "ExecuteTime": {
     "end_time": "2025-03-21T20:34:35.622287Z",
     "start_time": "2025-03-21T20:34:35.597183Z"
    }
   },
   "source": [
    "import pandas as pd\n",
    "\n",
    "# Load the JSON file\n",
    "json_file = 'data/FAQ Answering/D3/D3.json'  # Replace with your JSON file path\n",
    "df = pd.read_json(json_file)\n",
    "\n",
    "# Ensure the JSON has the correct structure (columns: question and answer)\n",
    "if set(df.columns) == {'question', 'answer'}:\n",
    "    # Convert to CSV\n",
    "    csv_file = 'data/FAQ Answering/Preprocessed data/D3.csv'  # Replace with your desired CSV file path\n",
    "    df.to_csv(csv_file, index=False)\n",
    "    print(f\"CSV file saved as {csv_file}\")\n",
    "else:\n",
    "    print(\"The JSON file does not have the required 'question' and 'answer' columns.\")"
   ],
   "outputs": [
    {
     "name": "stdout",
     "output_type": "stream",
     "text": [
      "CSV file saved as data/FAQ Answering/Preprocessed data/D3.csv\n"
     ]
    }
   ],
   "execution_count": 2
  },
  {
   "metadata": {},
   "cell_type": "code",
   "outputs": [],
   "execution_count": null,
   "source": "",
   "id": "dfe5e89e9faf2e70"
  }
 ],
 "metadata": {
  "kernelspec": {
   "display_name": "Python 3",
   "language": "python",
   "name": "python3"
  },
  "language_info": {
   "codemirror_mode": {
    "name": "ipython",
    "version": 2
   },
   "file_extension": ".py",
   "mimetype": "text/x-python",
   "name": "python",
   "nbconvert_exporter": "python",
   "pygments_lexer": "ipython2",
   "version": "2.7.6"
  }
 },
 "nbformat": 4,
 "nbformat_minor": 5
}
